{
 "cells": [
  {
   "cell_type": "code",
   "execution_count": 48,
   "metadata": {
    "collapsed": true
   },
   "outputs": [],
   "source": [
    "import pandas as pd\n",
    "import matplotlib as plt\n",
    "import numpy as np\n",
    "from sklearn.model_selection import train_test_split\n",
    "from sklearn.preprocessing import Imputer\n",
    "from sklearn.model_selection import GridSearchCV\n",
    "from sklearn.model_selection import KFold\n",
    "from sklearn.metrics import r2_score\n",
    "from sklearn.metrics import mean_squared_error"
   ]
  },
  {
   "cell_type": "code",
   "execution_count": 49,
   "metadata": {
    "collapsed": false
   },
   "outputs": [],
   "source": [
    "data = pd.read_csv('train.csv/train.csv')\n",
    "data2 = pd.read_csv('macro.csv/macro.csv')\n",
    "test = pd.read_csv('test.csv/test.csv')"
   ]
  },
  {
   "cell_type": "code",
   "execution_count": 50,
   "metadata": {
    "collapsed": false
   },
   "outputs": [
    {
     "data": {
      "text/plain": [
       "2484"
      ]
     },
     "execution_count": 50,
     "metadata": {},
     "output_type": "execute_result"
    }
   ],
   "source": [
    "len(data2)"
   ]
  },
  {
   "cell_type": "code",
   "execution_count": 51,
   "metadata": {
    "collapsed": false
   },
   "outputs": [
    {
     "data": {
      "text/plain": [
       "7662"
      ]
     },
     "execution_count": 51,
     "metadata": {},
     "output_type": "execute_result"
    }
   ],
   "source": [
    "len(test)"
   ]
  },
  {
   "cell_type": "code",
   "execution_count": 52,
   "metadata": {
    "collapsed": false
   },
   "outputs": [
    {
     "data": {
      "text/plain": [
       "100"
      ]
     },
     "execution_count": 52,
     "metadata": {},
     "output_type": "execute_result"
    }
   ],
   "source": [
    "len(data2.columns)"
   ]
  },
  {
   "cell_type": "code",
   "execution_count": 53,
   "metadata": {
    "collapsed": false
   },
   "outputs": [
    {
     "data": {
      "text/plain": [
       "291"
      ]
     },
     "execution_count": 53,
     "metadata": {},
     "output_type": "execute_result"
    }
   ],
   "source": [
    "len(test.columns)"
   ]
  },
  {
   "cell_type": "code",
   "execution_count": 54,
   "metadata": {
    "collapsed": false
   },
   "outputs": [
    {
     "data": {
      "text/plain": [
       "30471"
      ]
     },
     "execution_count": 54,
     "metadata": {},
     "output_type": "execute_result"
    }
   ],
   "source": [
    "len(data['id'])"
   ]
  },
  {
   "cell_type": "code",
   "execution_count": 55,
   "metadata": {
    "collapsed": false
   },
   "outputs": [
    {
     "data": {
      "text/plain": [
       "Index(['id', 'timestamp', 'full_sq', 'life_sq', 'floor', 'max_floor',\n",
       "       'material', 'build_year', 'num_room', 'kitch_sq',\n",
       "       ...\n",
       "       'cafe_count_5000_price_2500', 'cafe_count_5000_price_4000',\n",
       "       'cafe_count_5000_price_high', 'big_church_count_5000',\n",
       "       'church_count_5000', 'mosque_count_5000', 'leisure_count_5000',\n",
       "       'sport_count_5000', 'market_count_5000', 'price_doc'],\n",
       "      dtype='object', length=292)"
      ]
     },
     "execution_count": 55,
     "metadata": {},
     "output_type": "execute_result"
    }
   ],
   "source": [
    "data.columns"
   ]
  },
  {
   "cell_type": "code",
   "execution_count": 56,
   "metadata": {
    "collapsed": true
   },
   "outputs": [],
   "source": [
    "#data = data.merge(data2, left_on='timestamp', right_on='timestamp', how='left')"
   ]
  },
  {
   "cell_type": "code",
   "execution_count": 57,
   "metadata": {
    "collapsed": true
   },
   "outputs": [],
   "source": [
    "#test = test.merge(data2, left_on='timestamp', right_on='timestamp', how='left')"
   ]
  },
  {
   "cell_type": "code",
   "execution_count": 58,
   "metadata": {
    "collapsed": false
   },
   "outputs": [
    {
     "data": {
      "text/plain": [
       "292"
      ]
     },
     "execution_count": 58,
     "metadata": {},
     "output_type": "execute_result"
    }
   ],
   "source": [
    "len(data.columns)"
   ]
  },
  {
   "cell_type": "code",
   "execution_count": 59,
   "metadata": {
    "collapsed": false
   },
   "outputs": [
    {
     "data": {
      "text/plain": [
       "291"
      ]
     },
     "execution_count": 59,
     "metadata": {},
     "output_type": "execute_result"
    }
   ],
   "source": [
    "len(test.columns)"
   ]
  },
  {
   "cell_type": "code",
   "execution_count": 60,
   "metadata": {
    "collapsed": false
   },
   "outputs": [
    {
     "data": {
      "text/plain": [
       "<matplotlib.axes._subplots.AxesSubplot at 0x192b13d0ef0>"
      ]
     },
     "execution_count": 60,
     "metadata": {},
     "output_type": "execute_result"
    },
    {
     "data": {
      "image/png": "[encoded data removed]",
      "text/plain": [
       "<matplotlib.figure.Figure at 0x192b13d06d8>"
      ]
     },
     "metadata": {},
     "output_type": "display_data"
    }
   ],
   "source": [
    "%matplotlib inline\n",
    "np.log(data['price_doc']).hist()"
   ]
  },
  {
   "cell_type": "markdown",
   "metadata": {},
   "source": [
    "### Finding how many categorical variables are there in the data"
   ]
  },
  {
   "cell_type": "code",
   "execution_count": 61,
   "metadata": {
    "collapsed": false
   },
   "outputs": [
    {
     "data": {
      "text/plain": [
       "16"
      ]
     },
     "execution_count": 61,
     "metadata": {},
     "output_type": "execute_result"
    }
   ],
   "source": [
    "len([data[x].dtype.name for x in data.columns if data[x].dtype.name=='object' ])"
   ]
  },
  {
   "cell_type": "markdown",
   "metadata": {},
   "source": [
    "### Separating categorical and numerical variables"
   ]
  },
  {
   "cell_type": "code",
   "execution_count": 62,
   "metadata": {
    "collapsed": false
   },
   "outputs": [],
   "source": [
    "cats = [x for x in data.columns if data[x].dtype.name == 'object']\n",
    "#print('\\nCategorical:\\n',cats)\n",
    "nums = [x for x in data.columns if data[x].dtype.name != 'object']\n",
    "#print('\\nNumeric:\\n',nums)"
   ]
  },
  {
   "cell_type": "code",
   "execution_count": 63,
   "metadata": {
    "collapsed": false
   },
   "outputs": [
    {
     "data": {
      "text/plain": [
       "276"
      ]
     },
     "execution_count": 63,
     "metadata": {},
     "output_type": "execute_result"
    }
   ],
   "source": [
    "len(nums)"
   ]
  },
  {
   "cell_type": "code",
   "execution_count": 64,
   "metadata": {
    "collapsed": false
   },
   "outputs": [
    {
     "data": {
      "text/plain": [
       "274"
      ]
     },
     "execution_count": 64,
     "metadata": {},
     "output_type": "execute_result"
    }
   ],
   "source": [
    "nums.remove('id')\n",
    "nums.remove('price_doc')\n",
    "len(nums)"
   ]
  },
  {
   "cell_type": "markdown",
   "metadata": {},
   "source": [
    "### Finding number of levels of each categorical variable"
   ]
  },
  {
   "cell_type": "code",
   "execution_count": 65,
   "metadata": {
    "collapsed": false
   },
   "outputs": [
    {
     "name": "stdout",
     "output_type": "stream",
     "text": [
      "{'radiation_raion': 2, 'timestamp': 1161, 'culture_objects_top_25': 2, 'detention_facility_raion': 2, 'water_1line': 2, 'product_type': 2, 'railroad_1line': 2, 'big_market_raion': 2, 'nuclear_reactor_raion': 2, 'ecology': 5, 'big_road1_1line': 2, 'sub_area': 146, 'oil_chemistry_raion': 2, 'thermal_power_plant_raion': 2, 'incineration_raion': 2, 'railroad_terminal_raion': 2}\n"
     ]
    }
   ],
   "source": [
    "cat_level = {}\n",
    "for level in cats:\n",
    "    cat_level[level] = data[level].nunique()\n",
    "print(cat_level)"
   ]
  },
  {
   "cell_type": "markdown",
   "metadata": {},
   "source": [
    "### Finding which columns have missing values"
   ]
  },
  {
   "cell_type": "code",
   "execution_count": 66,
   "metadata": {
    "collapsed": false
   },
   "outputs": [
    {
     "name": "stdout",
     "output_type": "stream",
     "text": [
      "Categorical:\n",
      " {}\n",
      "\n",
      "Number of Categorical columns with missing values:  0\n",
      "\n",
      "\n",
      "Numeric:\n",
      " {'preschool_quota': 6688, 'build_count_1946-1970': 4991, 'build_count_before_1920': 4991, 'school_quota': 6685, 'railroad_station_walk_min': 25, 'build_count_slag': 4991, 'cafe_avg_price_1000': 6524, 'state': 13559, 'cafe_avg_price_3000': 991, 'build_count_monolith': 4991, 'ID_railroad_station_walk': 25, 'build_count_foam': 4991, 'cafe_sum_1500_max_price_avg': 4199, 'build_count_1921-1945': 4991, 'build_count_mix': 4991, 'build_count_block': 4991, 'max_floor': 9572, 'cafe_sum_1000_max_price_avg': 6524, 'cafe_sum_500_max_price_avg': 13281, 'cafe_avg_price_500': 13281, 'build_count_brick': 4991, 'cafe_sum_1000_min_price_avg': 6524, 'kitch_sq': 9572, 'life_sq': 6383, 'prom_part_5000': 178, 'cafe_avg_price_5000': 297, 'cafe_avg_price_1500': 4199, 'material': 9572, 'cafe_sum_5000_max_price_avg': 297, 'cafe_sum_1500_min_price_avg': 4199, 'cafe_sum_3000_min_price_avg': 991, 'build_year': 13605, 'build_count_frame': 4991, 'build_count_panel': 4991, 'num_room': 9572, 'cafe_sum_3000_max_price_avg': 991, 'hospital_beds_raion': 14441, 'raion_build_count_with_material_info': 4991, 'cafe_avg_price_2000': 1725, 'raion_build_count_with_builddate_info': 4991, 'build_count_1971-1995': 4991, 'railroad_station_walk_km': 25, 'build_count_after_1995': 4991, 'cafe_sum_5000_min_price_avg': 297, 'cafe_sum_2000_min_price_avg': 1725, 'cafe_sum_2000_max_price_avg': 1725, 'metro_min_walk': 25, 'metro_km_walk': 25, 'floor': 167, 'build_count_wood': 4991, 'cafe_sum_500_min_price_avg': 13281}\n",
      "\n",
      "Number of Numeric columns with missing values:  51\n"
     ]
    }
   ],
   "source": [
    "missingCat = {}\n",
    "for level in cats:\n",
    "    if data[level].isnull().sum()>0:\n",
    "        missingCat[level] = data[level].isnull().sum()\n",
    "print('Categorical:\\n', missingCat)\n",
    "print('\\nNumber of Categorical columns with missing values: ',len(missingCat))\n",
    "\n",
    "missingNum = {}\n",
    "for level in nums:\n",
    "    if data[level].isnull().sum()>0:\n",
    "        missingNum[level] = data[level].isnull().sum()\n",
    "print('\\n\\nNumeric:\\n', missingNum)\n",
    "print('\\nNumber of Numeric columns with missing values: ',len(missingNum))"
   ]
  },
  {
   "cell_type": "markdown",
   "metadata": {},
   "source": [
    "### Split data into train and validation"
   ]
  },
  {
   "cell_type": "code",
   "execution_count": 67,
   "metadata": {
    "collapsed": true
   },
   "outputs": [],
   "source": [
    "train,valid = train_test_split(data, test_size=0.4, random_state=42)"
   ]
  },
  {
   "cell_type": "code",
   "execution_count": 68,
   "metadata": {
    "collapsed": false
   },
   "outputs": [
    {
     "name": "stdout",
     "output_type": "stream",
     "text": [
      "Number of observations in original data:  30471\n",
      "\n",
      "Number of observations in Train:  18282\n",
      "\n",
      "Number of observations in Validation:  12189\n",
      "\n",
      "Train + Validation:  30471\n"
     ]
    }
   ],
   "source": [
    "print(\"Number of observations in original data: \",len(data) )\n",
    "print(\"\\nNumber of observations in Train: \",len(train))\n",
    "print(\"\\nNumber of observations in Validation: \",len(valid))\n",
    "print(\"\\nTrain + Validation: \",len(train)+len(valid))"
   ]
  },
  {
   "cell_type": "markdown",
   "metadata": {},
   "source": [
    "### Finding which columns have missing values in train data\n"
   ]
  },
  {
   "cell_type": "code",
   "execution_count": 69,
   "metadata": {
    "collapsed": false
   },
   "outputs": [
    {
     "name": "stdout",
     "output_type": "stream",
     "text": [
      "Categorical:\n",
      " {}\n",
      "\n",
      "Number of Categorical columns with missing values:  0\n",
      "\n",
      "\n",
      "Numeric:\n",
      " {'preschool_quota': 4077, 'build_count_1946-1970': 3064, 'build_count_before_1920': 3064, 'school_quota': 4076, 'railroad_station_walk_min': 14, 'build_count_slag': 3064, 'cafe_avg_price_1000': 3928, 'state': 8163, 'cafe_avg_price_3000': 601, 'build_count_monolith': 3064, 'ID_railroad_station_walk': 14, 'build_count_foam': 3064, 'cafe_sum_1500_max_price_avg': 2498, 'build_count_1921-1945': 3064, 'build_count_mix': 3064, 'build_count_block': 3064, 'max_floor': 5741, 'cafe_sum_1000_max_price_avg': 3928, 'cafe_sum_500_max_price_avg': 7998, 'cafe_avg_price_500': 7998, 'build_count_brick': 3064, 'cafe_sum_1000_min_price_avg': 3928, 'kitch_sq': 5741, 'life_sq': 3851, 'prom_part_5000': 119, 'cafe_avg_price_5000': 190, 'cafe_avg_price_1500': 2498, 'material': 5741, 'cafe_sum_5000_max_price_avg': 190, 'cafe_sum_1500_min_price_avg': 2498, 'cafe_sum_3000_min_price_avg': 601, 'build_year': 8166, 'build_count_frame': 3064, 'build_count_panel': 3064, 'num_room': 5741, 'cafe_sum_3000_max_price_avg': 601, 'hospital_beds_raion': 8708, 'raion_build_count_with_material_info': 3064, 'cafe_avg_price_2000': 1031, 'raion_build_count_with_builddate_info': 3064, 'build_count_1971-1995': 3064, 'railroad_station_walk_km': 14, 'build_count_after_1995': 3064, 'cafe_sum_5000_min_price_avg': 190, 'cafe_sum_2000_min_price_avg': 1031, 'cafe_sum_2000_max_price_avg': 1031, 'metro_min_walk': 14, 'metro_km_walk': 14, 'floor': 99, 'build_count_wood': 3064, 'cafe_sum_500_min_price_avg': 7998}\n",
      "\n",
      "Number of Numeric columns with missing values:  51\n"
     ]
    }
   ],
   "source": [
    "missingCatTrain = {}\n",
    "for level in cats:\n",
    "    if train[level].isnull().sum()>0:\n",
    "        missingCatTrain[level] = train[level].isnull().sum()\n",
    "print('Categorical:\\n', missingCatTrain)\n",
    "print('\\nNumber of Categorical columns with missing values: ',len(missingCatTrain))\n",
    "\n",
    "missingNumTrain = {}\n",
    "for level in nums:\n",
    "    if train[level].isnull().sum()>0:\n",
    "        missingNumTrain[level] = train[level].isnull().sum()\n",
    "print('\\n\\nNumeric:\\n', missingNumTrain)\n",
    "print('\\nNumber of Numeric columns with missing values: ',len(missingNumTrain))"
   ]
  },
  {
   "cell_type": "markdown",
   "metadata": {},
   "source": [
    "### Finding which columns have missing values in validation data"
   ]
  },
  {
   "cell_type": "code",
   "execution_count": 70,
   "metadata": {
    "collapsed": false
   },
   "outputs": [
    {
     "name": "stdout",
     "output_type": "stream",
     "text": [
      "Categorical:\n",
      " {}\n",
      "\n",
      "Number of Categorical columns with missing values:  0\n",
      "\n",
      "\n",
      "Numeric:\n",
      " {'preschool_quota': 2611, 'build_count_1946-1970': 1927, 'build_count_before_1920': 1927, 'school_quota': 2609, 'railroad_station_walk_min': 11, 'build_count_slag': 1927, 'cafe_avg_price_1000': 2596, 'state': 5396, 'cafe_avg_price_3000': 390, 'build_count_monolith': 1927, 'ID_railroad_station_walk': 11, 'build_count_foam': 1927, 'cafe_sum_1500_max_price_avg': 1701, 'build_count_1921-1945': 1927, 'build_count_mix': 1927, 'build_count_block': 1927, 'max_floor': 3831, 'cafe_sum_1000_max_price_avg': 2596, 'cafe_sum_500_max_price_avg': 5283, 'cafe_avg_price_500': 5283, 'build_count_brick': 1927, 'cafe_sum_1000_min_price_avg': 2596, 'kitch_sq': 3831, 'life_sq': 2532, 'prom_part_5000': 59, 'cafe_avg_price_5000': 107, 'cafe_avg_price_1500': 1701, 'material': 3831, 'cafe_sum_5000_max_price_avg': 107, 'cafe_sum_1500_min_price_avg': 1701, 'cafe_sum_3000_min_price_avg': 390, 'build_year': 5439, 'build_count_frame': 1927, 'build_count_panel': 1927, 'num_room': 3831, 'cafe_sum_3000_max_price_avg': 390, 'hospital_beds_raion': 5733, 'raion_build_count_with_material_info': 1927, 'cafe_avg_price_2000': 694, 'raion_build_count_with_builddate_info': 1927, 'build_count_1971-1995': 1927, 'railroad_station_walk_km': 11, 'build_count_after_1995': 1927, 'cafe_sum_5000_min_price_avg': 107, 'cafe_sum_2000_min_price_avg': 694, 'cafe_sum_2000_max_price_avg': 694, 'metro_min_walk': 11, 'metro_km_walk': 11, 'floor': 68, 'build_count_wood': 1927, 'cafe_sum_500_min_price_avg': 5283}\n",
      "\n",
      "Number of Numeric columns with missing values:  51\n"
     ]
    }
   ],
   "source": [
    "missingCatV = {}\n",
    "for level in cats:\n",
    "    if valid[level].isnull().sum()>0:\n",
    "        missingCatV[level] = valid[level].isnull().sum()\n",
    "print('Categorical:\\n', missingCatV)\n",
    "print('\\nNumber of Categorical columns with missing values: ',len(missingCatV))\n",
    "\n",
    "missingNumV = {}\n",
    "for level in nums:\n",
    "    if valid[level].isnull().sum()>0:\n",
    "        missingNumV[level] = valid[level].isnull().sum()\n",
    "print('\\n\\nNumeric:\\n', missingNumV)\n",
    "print('\\nNumber of Numeric columns with missing values: ',len(missingNumV))"
   ]
  },
  {
   "cell_type": "markdown",
   "metadata": {},
   "source": [
    "### Finding which columns have missing values in test data"
   ]
  },
  {
   "cell_type": "code",
   "execution_count": 71,
   "metadata": {
    "collapsed": false
   },
   "outputs": [
    {
     "name": "stdout",
     "output_type": "stream",
     "text": [
      "Categorical:\n",
      " {'product_type': 33}\n",
      "\n",
      "Number of Categorical columns with missing values:  1\n",
      "\n",
      "\n",
      "Numeric:\n",
      " {'preschool_quota': 1596, 'build_count_1946-1970': 1218, 'build_count_before_1920': 1218, 'school_quota': 1595, 'railroad_station_walk_min': 34, 'build_count_slag': 1218, 'cafe_avg_price_1000': 1222, 'state': 694, 'cafe_avg_price_3000': 182, 'build_count_monolith': 1218, 'ID_railroad_station_walk': 34, 'build_count_foam': 1218, 'cafe_sum_1500_max_price_avg': 821, 'build_count_1921-1945': 1218, 'build_count_mix': 1218, 'build_count_1971-1995': 1218, 'cafe_sum_1000_max_price_avg': 1222, 'cafe_sum_500_max_price_avg': 3159, 'cafe_avg_price_500': 3159, 'build_count_brick': 1218, 'cafe_sum_1000_min_price_avg': 1222, 'life_sq': 1176, 'prom_part_5000': 92, 'cafe_avg_price_5000': 128, 'cafe_avg_price_1500': 821, 'cafe_sum_5000_max_price_avg': 128, 'cafe_sum_1500_min_price_avg': 821, 'metro_km_walk': 34, 'build_year': 1049, 'build_count_frame': 1218, 'build_count_panel': 1218, 'cafe_sum_3000_max_price_avg': 182, 'hospital_beds_raion': 3418, 'raion_build_count_with_material_info': 1218, 'cafe_avg_price_2000': 424, 'raion_build_count_with_builddate_info': 1218, 'build_count_block': 1218, 'railroad_station_walk_km': 34, 'build_count_after_1995': 1218, 'cafe_sum_5000_min_price_avg': 128, 'cafe_sum_2000_min_price_avg': 424, 'cafe_sum_2000_max_price_avg': 424, 'metro_min_walk': 34, 'cafe_sum_3000_min_price_avg': 182, 'green_part_2000': 19, 'build_count_wood': 1218, 'cafe_sum_500_min_price_avg': 3159}\n",
      "\n",
      "Number of Numeric columns with missing values:  47\n"
     ]
    }
   ],
   "source": [
    "missingCatTest = {}\n",
    "for level in cats:\n",
    "    if test[level].isnull().sum()>0:\n",
    "        missingCatTest[level] = test[level].isnull().sum()\n",
    "print('Categorical:\\n', missingCatTest)\n",
    "print('\\nNumber of Categorical columns with missing values: ',len(missingCatTest))\n",
    "\n",
    "missingNumTest = {}\n",
    "for level in nums:\n",
    "    if test[level].isnull().sum()>0:\n",
    "        missingNumTest[level] = test[level].isnull().sum()\n",
    "print('\\n\\nNumeric:\\n', missingNumTest)\n",
    "print('\\nNumber of Numeric columns with missing values: ',len(missingNumTest))"
   ]
  },
  {
   "cell_type": "markdown",
   "metadata": {},
   "source": [
    "### Imputing numeric missing"
   ]
  },
  {
   "cell_type": "markdown",
   "metadata": {},
   "source": [
    "#### Train:"
   ]
  },
  {
   "cell_type": "code",
   "execution_count": 72,
   "metadata": {
    "collapsed": false
   },
   "outputs": [
    {
     "name": "stdout",
     "output_type": "stream",
     "text": [
      "['preschool_quota', 'build_count_1946-1970', 'build_count_before_1920', 'school_quota', 'railroad_station_walk_min', 'build_count_slag', 'cafe_avg_price_1000', 'state', 'cafe_avg_price_3000', 'build_count_monolith', 'ID_railroad_station_walk', 'build_count_foam', 'cafe_sum_1500_max_price_avg', 'build_count_1921-1945', 'build_count_mix', 'build_count_block', 'max_floor', 'cafe_sum_1000_max_price_avg', 'cafe_sum_500_max_price_avg', 'cafe_avg_price_500', 'build_count_brick', 'cafe_sum_1000_min_price_avg', 'kitch_sq', 'life_sq', 'prom_part_5000', 'cafe_avg_price_5000', 'cafe_avg_price_1500', 'material', 'cafe_sum_5000_max_price_avg', 'cafe_sum_1500_min_price_avg', 'cafe_sum_3000_min_price_avg', 'build_year', 'build_count_frame', 'build_count_panel', 'num_room', 'cafe_sum_3000_max_price_avg', 'hospital_beds_raion', 'raion_build_count_with_material_info', 'cafe_avg_price_2000', 'raion_build_count_with_builddate_info', 'build_count_1971-1995', 'railroad_station_walk_km', 'build_count_after_1995', 'cafe_sum_5000_min_price_avg', 'cafe_sum_2000_min_price_avg', 'cafe_sum_2000_max_price_avg', 'metro_min_walk', 'metro_km_walk', 'floor', 'build_count_wood', 'cafe_sum_500_min_price_avg']\n"
     ]
    }
   ],
   "source": [
    "print(list(missingNumTrain.keys()))"
   ]
  },
  {
   "cell_type": "code",
   "execution_count": 73,
   "metadata": {
    "collapsed": false
   },
   "outputs": [
    {
     "name": "stderr",
     "output_type": "stream",
     "text": [
      "C:\\Anaconda\\Anaconda 3\\lib\\site-packages\\pandas\\core\\indexing.py:465: SettingWithCopyWarning: \n",
      "A value is trying to be set on a copy of a slice from a DataFrame.\n",
      "Try using .loc[row_indexer,col_indexer] = value instead\n",
      "\n",
      "See the caveats in the documentation: http://pandas.pydata.org/pandas-docs/stable/indexing.html#indexing-view-versus-copy\n",
      "  self.obj[item] = s\n"
     ]
    }
   ],
   "source": [
    "imp = Imputer(missing_values='NaN', strategy='median', axis=0)\n",
    "for column in list(missingNumTrain.keys()):\n",
    "    q = train.loc[:,column].reshape(-1,1)\n",
    "    train.loc[:,column] = imp.fit_transform(q)"
   ]
  },
  {
   "cell_type": "code",
   "execution_count": 74,
   "metadata": {
    "collapsed": false
   },
   "outputs": [
    {
     "name": "stdout",
     "output_type": "stream",
     "text": [
      "Number of numerical columns with missing values:  0\n"
     ]
    }
   ],
   "source": [
    "trainCheck = {}\n",
    "for column in nums:\n",
    "    if train[column].isnull().sum()>0:\n",
    "        trainCheck[column] = train[column].isnull().sum()\n",
    "print('Number of numerical columns with missing values: ',len(trainCheck))"
   ]
  },
  {
   "cell_type": "markdown",
   "metadata": {},
   "source": [
    "#### Validation:"
   ]
  },
  {
   "cell_type": "code",
   "execution_count": 75,
   "metadata": {
    "collapsed": false
   },
   "outputs": [
    {
     "name": "stderr",
     "output_type": "stream",
     "text": [
      "C:\\Anaconda\\Anaconda 3\\lib\\site-packages\\pandas\\core\\indexing.py:465: SettingWithCopyWarning: \n",
      "A value is trying to be set on a copy of a slice from a DataFrame.\n",
      "Try using .loc[row_indexer,col_indexer] = value instead\n",
      "\n",
      "See the caveats in the documentation: http://pandas.pydata.org/pandas-docs/stable/indexing.html#indexing-view-versus-copy\n",
      "  self.obj[item] = s\n"
     ]
    }
   ],
   "source": [
    "imp = Imputer(missing_values='NaN', strategy='median', axis=0)\n",
    "for column in list(missingNumV.keys()):\n",
    "    valid.loc[:,column] = imp.fit_transform(valid.loc[:,column].reshape(-1,1))  "
   ]
  },
  {
   "cell_type": "code",
   "execution_count": 76,
   "metadata": {
    "collapsed": false
   },
   "outputs": [
    {
     "name": "stdout",
     "output_type": "stream",
     "text": [
      "Number of numerical columns with missing values:  0\n"
     ]
    }
   ],
   "source": [
    "valCheck = {}\n",
    "for column in nums:\n",
    "    if valid[column].isnull().sum()>0:\n",
    "        valCheck[column] = valid[column].isnull().sum()\n",
    "print('Number of numerical columns with missing values: ',len(valCheck))"
   ]
  },
  {
   "cell_type": "markdown",
   "metadata": {},
   "source": [
    "#### Test:"
   ]
  },
  {
   "cell_type": "code",
   "execution_count": 77,
   "metadata": {
    "collapsed": false
   },
   "outputs": [
    {
     "name": "stdout",
     "output_type": "stream",
     "text": [
      "['preschool_quota', 'build_count_1946-1970', 'build_count_before_1920', 'school_quota', 'railroad_station_walk_min', 'build_count_slag', 'cafe_avg_price_1000', 'state', 'cafe_avg_price_3000', 'build_count_monolith', 'ID_railroad_station_walk', 'build_count_foam', 'cafe_sum_1500_max_price_avg', 'build_count_1921-1945', 'build_count_mix', 'build_count_1971-1995', 'cafe_sum_1000_max_price_avg', 'cafe_sum_500_max_price_avg', 'cafe_avg_price_500', 'build_count_brick', 'cafe_sum_1000_min_price_avg', 'life_sq', 'prom_part_5000', 'cafe_avg_price_5000', 'cafe_avg_price_1500', 'cafe_sum_5000_max_price_avg', 'cafe_sum_1500_min_price_avg', 'metro_km_walk', 'build_year', 'build_count_frame', 'build_count_panel', 'cafe_sum_3000_max_price_avg', 'hospital_beds_raion', 'raion_build_count_with_material_info', 'cafe_avg_price_2000', 'raion_build_count_with_builddate_info', 'build_count_block', 'railroad_station_walk_km', 'build_count_after_1995', 'cafe_sum_5000_min_price_avg', 'cafe_sum_2000_min_price_avg', 'cafe_sum_2000_max_price_avg', 'metro_min_walk', 'cafe_sum_3000_min_price_avg', 'green_part_2000', 'build_count_wood', 'cafe_sum_500_min_price_avg']\n"
     ]
    }
   ],
   "source": [
    "print(list(missingNumTest.keys()))"
   ]
  },
  {
   "cell_type": "code",
   "execution_count": 78,
   "metadata": {
    "collapsed": false
   },
   "outputs": [],
   "source": [
    "imp = Imputer(missing_values='NaN', strategy='median', axis=0)\n",
    "for column in list(missingNumTest.keys()):\n",
    "    test.loc[:,column] = imp.fit_transform(test.loc[:,column].reshape(-1,1))  "
   ]
  },
  {
   "cell_type": "code",
   "execution_count": 79,
   "metadata": {
    "collapsed": false
   },
   "outputs": [
    {
     "name": "stdout",
     "output_type": "stream",
     "text": [
      "Number of numerical columns with missing values:  0\n"
     ]
    }
   ],
   "source": [
    "testCheck = {}\n",
    "for column in nums:\n",
    "    if test[column].isnull().sum()>0:\n",
    "        testCheck[column] = test[column].isnull().sum()\n",
    "print('Number of numerical columns with missing values: ',len(testCheck))"
   ]
  },
  {
   "cell_type": "markdown",
   "metadata": {},
   "source": [
    "### Encoding Categorical variables using shrunken averages"
   ]
  },
  {
   "cell_type": "code",
   "execution_count": 80,
   "metadata": {
    "collapsed": true
   },
   "outputs": [],
   "source": [
    "def target_encoder(training_frame, test_frame, x, y, lambda_=0.15, threshold=150, test=False):\n",
    "\n",
    "    \"\"\" Applies simple target encoding to categorical variables.\n",
    "\n",
    "    :param training_frame: Training frame which to create target means and to be encoded.\n",
    "    :param test_frame: Test frame to be encoded using information from training frame.\n",
    "    :param x: Name of input variable to be encoded.\n",
    "    :param y: Name of target variable to use for encoding.\n",
    "    :param lambda_: Balance between level mean and overall mean for small groups.\n",
    "    :param threshold: Number below which a level is considered small enough to be shrunken.\n",
    "    :param test: Whether or not to print the row_val_dict for testing purposes.\n",
    "    :return: Tuple of encoded variable from train and test.\n",
    "\n",
    "    \"\"\"\n",
    "\n",
    "    # convert to pandas\n",
    "    trdf = training_frame.loc[:, [x,y]] # df\n",
    "    tss = test_frame.loc[:, x]          # series\n",
    "\n",
    "\n",
    "    # create dictionary of level:encode val\n",
    "\n",
    "    encode_name = x + '_Tencode'\n",
    "    overall_mean = trdf[y].mean()\n",
    "    row_val_dict = {}\n",
    "\n",
    "    for level in trdf[x].unique():\n",
    "        level_df = trdf[trdf[x] == level][y]\n",
    "        level_n = level_df.shape[0]\n",
    "        level_mean = level_df.mean()\n",
    "        if level_n >= threshold:\n",
    "            row_val_dict[level] = level_mean\n",
    "        else:\n",
    "            row_val_dict[level] = ((1 - lambda_) * level_mean) +\\\n",
    "                                  (lambda_ * overall_mean)\n",
    "\n",
    "    row_val_dict[np.nan] = overall_mean # handle missing values\n",
    "\n",
    "    if test:\n",
    "        print(row_val_dict)\n",
    "\n",
    "    # apply the transform to training data\n",
    "    trdf[encode_name] = trdf[x].apply(lambda i: row_val_dict[i])\n",
    "\n",
    "    # apply the transform to test data\n",
    "    tsdf = pd.DataFrame(columns=[x, encode_name])\n",
    "    tsdf[x] = tss\n",
    "    tsdf.loc[:, encode_name] = overall_mean # handle previously unseen values\n",
    "    # handle values that are seen in tsdf but not row_val_dict\n",
    "    for i, col_i in enumerate(tsdf[x]):\n",
    "        try:\n",
    "            row_val_dict[col_i]\n",
    "        except:\n",
    "            # a value that appeared in tsdf isn't in the row_val_dict so just\n",
    "            # make it the overall_mean\n",
    "            row_val_dict[col_i] = overall_mean\n",
    "    tsdf[encode_name] = tsdf[x].apply(lambda i: row_val_dict[i])\n",
    "\n",
    "\n",
    "    # convert back to H2O\n",
    "\n",
    "    #trdf = h2o.H2OFrame(trdf[encode_name].as_matrix())\n",
    "    #trdf.columns = [encode_name]\n",
    "\n",
    "    #tsdf = h2o.H2OFrame(tsdf[encode_name].as_matrix())\n",
    "    #tsdf.columns = [encode_name]\n",
    "\n",
    "    return (trdf[encode_name], tsdf[encode_name])"
   ]
  },
  {
   "cell_type": "code",
   "execution_count": 81,
   "metadata": {
    "collapsed": false
   },
   "outputs": [
    {
     "name": "stdout",
     "output_type": "stream",
     "text": [
      "Encoding: timestamp (1/16) ...\n",
      "Encoding: product_type (2/16) ...\n"
     ]
    },
    {
     "name": "stderr",
     "output_type": "stream",
     "text": [
      "C:\\Anaconda\\Anaconda 3\\lib\\site-packages\\ipykernel\\__main__.py:9: SettingWithCopyWarning: \n",
      "A value is trying to be set on a copy of a slice from a DataFrame.\n",
      "Try using .loc[row_indexer,col_indexer] = value instead\n",
      "\n",
      "See the caveats in the documentation: http://pandas.pydata.org/pandas-docs/stable/indexing.html#indexing-view-versus-copy\n",
      "C:\\Anaconda\\Anaconda 3\\lib\\site-packages\\ipykernel\\__main__.py:10: SettingWithCopyWarning: \n",
      "A value is trying to be set on a copy of a slice from a DataFrame.\n",
      "Try using .loc[row_indexer,col_indexer] = value instead\n",
      "\n",
      "See the caveats in the documentation: http://pandas.pydata.org/pandas-docs/stable/indexing.html#indexing-view-versus-copy\n"
     ]
    },
    {
     "name": "stdout",
     "output_type": "stream",
     "text": [
      "Encoding: sub_area (3/16) ...\n",
      "Encoding: culture_objects_top_25 (4/16) ...\n",
      "Encoding: thermal_power_plant_raion (5/16) ...\n",
      "Encoding: incineration_raion (6/16) ...\n",
      "Encoding: oil_chemistry_raion (7/16) ...\n",
      "Encoding: radiation_raion (8/16) ...\n",
      "Encoding: railroad_terminal_raion (9/16) ...\n",
      "Encoding: big_market_raion (10/16) ...\n",
      "Encoding: nuclear_reactor_raion (11/16) ...\n",
      "Encoding: detention_facility_raion (12/16) ...\n",
      "Encoding: water_1line (13/16) ...\n",
      "Encoding: big_road1_1line (14/16) ...\n",
      "Encoding: railroad_1line (15/16) ...\n",
      "Encoding: ecology (16/16) ...\n",
      "Done.\n"
     ]
    }
   ],
   "source": [
    "total = len(cats)\n",
    "for i, var in enumerate(cats):\n",
    "    #print(var)\n",
    "    tr_enc, ts_enc = target_encoder(train, test, var, 'price_doc')\n",
    "    v_enc, a = target_encoder(valid, test, var, 'price_doc')\n",
    "    \n",
    "    print('Encoding: ' + var + ' (' + str(i+1) + '/' + str(total) + ') ...')\n",
    "    new_col_name = var + '_encode'\n",
    "    train[new_col_name] = tr_enc\n",
    "    valid[new_col_name] = v_enc\n",
    "    test[new_col_name] = ts_enc   \n",
    "    \n",
    "print('Done.')"
   ]
  },
  {
   "cell_type": "markdown",
   "metadata": {},
   "source": [
    "### Checking if all columns were converted to numeric form"
   ]
  },
  {
   "cell_type": "code",
   "execution_count": 82,
   "metadata": {
    "collapsed": false
   },
   "outputs": [
    {
     "name": "stdout",
     "output_type": "stream",
     "text": [
      "290\n"
     ]
    }
   ],
   "source": [
    "encoded_nums = list(train._get_numeric_data().columns)\n",
    "encoded_nums.remove('price_doc')\n",
    "encoded_nums_1 = encoded_nums.copy()\n",
    "encoded_nums.remove('id')\n",
    "print(len(encoded_nums))"
   ]
  },
  {
   "cell_type": "markdown",
   "metadata": {},
   "source": [
    "### Checking if any columns are left with missing values"
   ]
  },
  {
   "cell_type": "code",
   "execution_count": 83,
   "metadata": {
    "collapsed": false
   },
   "outputs": [
    {
     "name": "stdout",
     "output_type": "stream",
     "text": [
      "Columns with missing values in Train:  0\n",
      "Columns with missing values in Validation:  0\n",
      "Columns with missing values in Test:  0\n"
     ]
    }
   ],
   "source": [
    "missingTr = [x for x in encoded_nums if train[x].isnull().sum() > 0]\n",
    "print('Columns with missing values in Train: ', len(missingTr))\n",
    "\n",
    "missingVal = [x for x in encoded_nums if valid[x].isnull().sum() > 0]\n",
    "print('Columns with missing values in Validation: ', len(missingVal))\n",
    "\n",
    "missingTs = [x for x in encoded_nums if test[x].isnull().sum() > 0]\n",
    "print('Columns with missing values in Test: ', len(missingTs))"
   ]
  },
  {
   "cell_type": "markdown",
   "metadata": {},
   "source": [
    "### Winsorizing to deal with outliers"
   ]
  },
  {
   "cell_type": "code",
   "execution_count": 85,
   "metadata": {
    "collapsed": false
   },
   "outputs": [
    {
     "name": "stderr",
     "output_type": "stream",
     "text": [
      "C:\\Anaconda\\Anaconda 3\\lib\\site-packages\\pandas\\core\\indexing.py:465: SettingWithCopyWarning: \n",
      "A value is trying to be set on a copy of a slice from a DataFrame.\n",
      "Try using .loc[row_indexer,col_indexer] = value instead\n",
      "\n",
      "See the caveats in the documentation: http://pandas.pydata.org/pandas-docs/stable/indexing.html#indexing-view-versus-copy\n",
      "  self.obj[item] = s\n"
     ]
    },
    {
     "name": "stdout",
     "output_type": "stream",
     "text": [
      "Done!\n"
     ]
    }
   ],
   "source": [
    "from scipy.stats.mstats import winsorize \n",
    "\n",
    "for column in nums:\n",
    "    train.loc[:,column] = winsorize(train.loc[:,column], limits=[0.1, 0.1])\n",
    "    \n",
    "    valid.loc[:,column] = winsorize(valid.loc[:,column], limits=[0.1, 0.1])\n",
    "    \n",
    "    test.loc[:,column] = winsorize(test.loc[:,column], limits=[0.1, 0.1])\n",
    "\n",
    "print(\"Done!\")"
   ]
  },
  {
   "cell_type": "code",
   "execution_count": null,
   "metadata": {
    "collapsed": true
   },
   "outputs": [],
   "source": []
  },
  {
   "cell_type": "markdown",
   "metadata": {},
   "source": [
    "### XGBoost"
   ]
  },
  {
   "cell_type": "code",
   "execution_count": 86,
   "metadata": {
    "collapsed": false
   },
   "outputs": [],
   "source": [
    "import xgboost as xgb"
   ]
  },
  {
   "cell_type": "code",
   "execution_count": 87,
   "metadata": {
    "collapsed": true
   },
   "outputs": [],
   "source": [
    "x = train[encoded_nums]\n",
    "y = train['price_doc']"
   ]
  },
  {
   "cell_type": "code",
   "execution_count": 88,
   "metadata": {
    "collapsed": false
   },
   "outputs": [
    {
     "name": "stdout",
     "output_type": "stream",
     "text": [
      "Best: 0.667772 using {'colsample_bytree': 0.5, 'reg_alpha': 0.01, 'learning_rate': 0.01, 'colsample_bylevel': 0.5, 'n_estimators': 800, 'max_depth': 5}\n"
     ]
    }
   ],
   "source": [
    "## model = XGBRegressor()\n",
    "learning_rate = [0.01]\n",
    "colsample_bylevel = [0.4,0.5]\n",
    "colsample_bytree = [0.4,0.5]\n",
    "reg_alpha = [0.05,0.01]\n",
    "n_estimators = [800]\n",
    "max_depth = [4,5]\n",
    "model = xgb.XGBRegressor()\n",
    "\n",
    "param_grid = {\"learning_rate\":learning_rate,\n",
    "                  \"reg_alpha\":reg_alpha,\n",
    "                \"colsample_bylevel\":colsample_bylevel,\n",
    "                    \"colsample_bytree\":colsample_bytree, \n",
    "                \"n_estimators\":n_estimators,\n",
    "                \"max_depth\": max_depth \n",
    "                 }\n",
    "\n",
    "kFold = KFold(n_splits=10,shuffle=True,random_state=7)\n",
    "grid_search = GridSearchCV(model,param_grid, n_jobs=-1, cv=kFold)\n",
    "grid_result = grid_search.fit(x,y)\n",
    "\n",
    "print(\"Best: %f using %s\" % (grid_result.best_score_,grid_result.best_params_))"
   ]
  },
  {
   "cell_type": "markdown",
   "metadata": {},
   "source": [
    "##### Checking performance of the model on Train and Validation"
   ]
  },
  {
   "cell_type": "code",
   "execution_count": 89,
   "metadata": {
    "collapsed": false
   },
   "outputs": [
    {
     "name": "stdout",
     "output_type": "stream",
     "text": [
      "R-squared on Train:  0.814133899053\n",
      "\n",
      "R-squared on Validation:  0.670739463776\n"
     ]
    }
   ],
   "source": [
    "check = grid_result.predict(x)\n",
    "pred = [value for value in check]\n",
    "train_y = np.array(y)\n",
    "r2_score(train_y,pred)\n",
    "print(\"R-squared on Train: \",r2_score(train_y,pred))\n",
    "\n",
    "checkV = grid_result.predict(valid[encoded_nums])\n",
    "predV = [value for value in checkV]\n",
    "val_y = np.array(valid['price_doc'])\n",
    "print(\"\\nR-squared on Validation: \",r2_score(val_y,predV))"
   ]
  },
  {
   "cell_type": "markdown",
   "metadata": {
    "collapsed": false
   },
   "source": [
    "##### Using the above model to create predictions for Test set"
   ]
  },
  {
   "cell_type": "code",
   "execution_count": 92,
   "metadata": {
    "collapsed": false
   },
   "outputs": [
    {
     "name": "stdout",
     "output_type": "stream",
     "text": [
      "      id  price_doc1\n",
      "0  30474   5832232.5\n",
      "1  30475   8214191.0\n",
      "2  30476   5473355.5\n",
      "3  30477   5835520.0\n",
      "4  30478   5301973.5\n"
     ]
    }
   ],
   "source": [
    "test['price_doc'] = grid_result.predict(test[encoded_nums])\n",
    "#test['price_doc'] = round(test['price_doc'].astype(int),2)\n",
    "#test['predict'] = test['predict'].astype(int)\n",
    "submission = pd.DataFrame(test.loc[:,['id','price_doc']])\n",
    "submission.columns = ['id','price_doc1']\n",
    "print(submission.head())"
   ]
  },
  {
   "cell_type": "code",
   "execution_count": 44,
   "metadata": {
    "collapsed": true
   },
   "outputs": [],
   "source": [
    "submission.to_csv('sberbank_sub3.csv', index=False)"
   ]
  },
  {
   "cell_type": "markdown",
   "metadata": {},
   "source": [
    "### Random Forest"
   ]
  },
  {
   "cell_type": "code",
   "execution_count": 93,
   "metadata": {
    "collapsed": true
   },
   "outputs": [],
   "source": [
    "RFtrain = train.copy()\n",
    "RFvalid = valid.copy()\n",
    "RFtest = test.copy()"
   ]
  },
  {
   "cell_type": "code",
   "execution_count": 94,
   "metadata": {
    "collapsed": true
   },
   "outputs": [],
   "source": [
    "RFx = RFtrain[encoded_nums]\n",
    "#RFtrain['price_doc_log'] = np.log(RFtrain['price_doc'])\n",
    "#RFy = RFtrain['price_doc_log']\n",
    "RFy = RFtrain['price_doc']"
   ]
  },
  {
   "cell_type": "code",
   "execution_count": 95,
   "metadata": {
    "collapsed": false
   },
   "outputs": [
    {
     "name": "stdout",
     "output_type": "stream",
     "text": [
      "Best: 0.510994 using {'max_features': 'sqrt', 'n_estimators': 800, 'min_samples_leaf': 20, 'min_samples_split': 4, 'n_jobs': 2, 'oob_score': True, 'max_depth': 7}\n"
     ]
    }
   ],
   "source": [
    "from sklearn.ensemble import RandomForestRegressor\n",
    "\n",
    "n_estimators = [800]\n",
    "max_depth = [5,7]\n",
    "min_samples_split = [2,4]\n",
    "min_samples_leaf = [20,30,50]\n",
    "oob_score = [True]\n",
    "max_features = ['sqrt']\n",
    "n_jobs = [2]\n",
    "\n",
    "RFmodel = RandomForestRegressor()\n",
    "\n",
    "RFparam_grid = {\n",
    "              \"n_estimators\":n_estimators, \n",
    "              \"max_depth\":max_depth, \n",
    "              \"min_samples_split\":min_samples_split, \n",
    "              \"min_samples_leaf\":min_samples_leaf, \n",
    "              \"max_features\":max_features, \n",
    "              \"oob_score\":oob_score, \n",
    "              \"n_jobs\":n_jobs, \n",
    "                 }\n",
    "\n",
    "#kFold = KFold(n_splits=10,shuffle=True,random_state=7)\n",
    "RFgrid_search = GridSearchCV(RFmodel,RFparam_grid, n_jobs=-1, cv=3)\n",
    "RFgrid_result = RFgrid_search.fit(RFx,RFy)\n",
    "\n",
    "print(\"Best: %f using %s\" % (RFgrid_result.best_score_,RFgrid_result.best_params_))"
   ]
  },
  {
   "cell_type": "markdown",
   "metadata": {},
   "source": [
    "##### Checking performance of the model on Train and Validation"
   ]
  },
  {
   "cell_type": "code",
   "execution_count": 96,
   "metadata": {
    "collapsed": false
   },
   "outputs": [
    {
     "name": "stdout",
     "output_type": "stream",
     "text": [
      "R-squared on Train:  0.568932568692\n",
      "\n",
      "R-squared on Validation:  0.509576736901\n"
     ]
    }
   ],
   "source": [
    "check = RFgrid_result.predict(RFx)\n",
    "pred = [value for value in check]\n",
    "train_y = np.array(RFy)\n",
    "print(\"R-squared on Train: \",r2_score(train_y,pred))\n",
    "\n",
    "checkV = RFgrid_result.predict(RFvalid[encoded_nums])\n",
    "predV = [value for value in checkV]\n",
    "val_y = np.array(RFvalid['price_doc'])\n",
    "print(\"\\nR-squared on Validation: \",r2_score(val_y,predV))"
   ]
  },
  {
   "cell_type": "markdown",
   "metadata": {},
   "source": [
    "##### Using the above model to create predictions for Test set"
   ]
  },
  {
   "cell_type": "code",
   "execution_count": 97,
   "metadata": {
    "collapsed": false
   },
   "outputs": [
    {
     "name": "stdout",
     "output_type": "stream",
     "text": [
      "      id    price_doc2\n",
      "0  30474  6.085394e+06\n",
      "1  30475  7.351480e+06\n",
      "2  30476  5.801661e+06\n",
      "3  30477  5.523901e+06\n",
      "4  30478  5.966490e+06\n"
     ]
    }
   ],
   "source": [
    "RFtest['price_doc'] = RFgrid_result.predict(RFtest[encoded_nums])\n",
    "RFsubmission = pd.DataFrame(RFtest.loc[:,['id','price_doc']])\n",
    "RFsubmission.columns = ['id','price_doc2']\n",
    "print(RFsubmission.head())"
   ]
  },
  {
   "cell_type": "code",
   "execution_count": 98,
   "metadata": {
    "collapsed": true
   },
   "outputs": [],
   "source": [
    "RFsubmission.to_csv('try.csv',index=False)"
   ]
  },
  {
   "cell_type": "markdown",
   "metadata": {},
   "source": [
    "### Gradient Boosting"
   ]
  },
  {
   "cell_type": "code",
   "execution_count": 99,
   "metadata": {
    "collapsed": true
   },
   "outputs": [],
   "source": [
    "GBtrain = train.copy()\n",
    "GBvalid = valid.copy()\n",
    "GBtest = test.copy()"
   ]
  },
  {
   "cell_type": "code",
   "execution_count": 100,
   "metadata": {
    "collapsed": true
   },
   "outputs": [],
   "source": [
    "GBx = GBtrain[encoded_nums]\n",
    "#RFtrain['price_doc_log'] = np.log(RFtrain['price_doc'])\n",
    "#RFy = RFtrain['price_doc_log']\n",
    "GBy = GBtrain['price_doc']"
   ]
  },
  {
   "cell_type": "code",
   "execution_count": 101,
   "metadata": {
    "collapsed": true
   },
   "outputs": [],
   "source": [
    "from sklearn.ensemble import GradientBoostingRegressor\n",
    "\n",
    "GBmodel = GradientBoostingRegressor(max_features = 0.4, n_estimators = 1000, max_depth = 4, min_samples_split = 2,\n",
    "          learning_rate = 0.01)\n",
    "\n",
    "GBresult = GBmodel.fit(GBx, GBy)"
   ]
  },
  {
   "cell_type": "markdown",
   "metadata": {},
   "source": [
    "##### Checking performance of the model on Train and Validation"
   ]
  },
  {
   "cell_type": "code",
   "execution_count": 102,
   "metadata": {
    "collapsed": false
   },
   "outputs": [
    {
     "name": "stdout",
     "output_type": "stream",
     "text": [
      "R-squared on Train:  0.782561360463\n",
      "\n",
      "R-squared on Validation:  0.663872872897\n"
     ]
    }
   ],
   "source": [
    "check = GBresult.predict(GBx)\n",
    "pred = [value for value in check]\n",
    "train_y = np.array(GBy)\n",
    "print(\"R-squared on Train: \",r2_score(train_y,pred))\n",
    "\n",
    "checkV = GBresult.predict(GBvalid[encoded_nums])\n",
    "predV = [value for value in checkV]\n",
    "val_y = np.array(GBvalid['price_doc'])\n",
    "print(\"\\nR-squared on Validation: \",r2_score(val_y,predV))"
   ]
  },
  {
   "cell_type": "markdown",
   "metadata": {},
   "source": [
    "##### Using the above model to create predictions for Test set"
   ]
  },
  {
   "cell_type": "code",
   "execution_count": 104,
   "metadata": {
    "collapsed": false
   },
   "outputs": [
    {
     "name": "stdout",
     "output_type": "stream",
     "text": [
      "      id    price_doc3\n",
      "0  30474  5.921373e+06\n",
      "1  30475  8.221139e+06\n",
      "2  30476  5.150646e+06\n",
      "3  30477  5.882331e+06\n",
      "4  30478  5.353940e+06\n"
     ]
    }
   ],
   "source": [
    "GBtest['price_doc'] = GBresult.predict(GBtest[encoded_nums])\n",
    "GBsubmission = pd.DataFrame(GBtest.loc[:,['id','price_doc']])\n",
    "GBsubmission.columns = ['id','price_doc3']\n",
    "print(GBsubmission.head())"
   ]
  },
  {
   "cell_type": "markdown",
   "metadata": {},
   "source": [
    "### Blending all predictions together"
   ]
  },
  {
   "cell_type": "code",
   "execution_count": 105,
   "metadata": {
    "collapsed": true
   },
   "outputs": [],
   "source": [
    "old = pd.read_csv('sberbank_sub.csv')\n",
    "old.columns = ['id','price_doc4']"
   ]
  },
  {
   "cell_type": "markdown",
   "metadata": {},
   "source": [
    "##### Using weighted average to blend predictions together"
   ]
  },
  {
   "cell_type": "code",
   "execution_count": 120,
   "metadata": {
    "collapsed": false
   },
   "outputs": [
    {
     "name": "stdout",
     "output_type": "stream",
     "text": [
      "      id  price_doc1    price_doc2    price_doc3    price_doc5\n",
      "0  30474   5832232.5  6.085394e+06  5.921373e+06  5.939380e+06\n",
      "1  30475   8214191.0  7.351480e+06  8.221139e+06  7.957809e+06\n",
      "2  30476   5473355.5  5.801661e+06  5.150646e+06  5.458899e+06\n",
      "3  30477   5835520.0  5.523901e+06  5.882331e+06  5.758418e+06\n",
      "4  30478   5301973.5  5.966490e+06  5.353940e+06  5.519517e+06\n"
     ]
    }
   ],
   "source": [
    "sub = submission.merge(RFsubmission, left_on='id', right_on='id', how='left')\n",
    "#print(sub.head())\n",
    "sub2 = sub.merge(GBsubmission, left_on='id', right_on='id', how = 'left')\n",
    "#print(sub2.head())\n",
    "sub2['price_doc5'] = 0.35*sub2['price_doc1'] + 0.3*sub2['price_doc2'] + 0.35*sub2['price_doc3'] \n",
    "print(sub2.head())\n",
    "#sub3 = sub2.loc[:,['id','price_doc']]\n",
    "#sub3.to_csv('sberbank_sub3.csv', index=False)"
   ]
  },
  {
   "cell_type": "markdown",
   "metadata": {},
   "source": [
    "##### Creating submission file"
   ]
  },
  {
   "cell_type": "code",
   "execution_count": 121,
   "metadata": {
    "collapsed": false
   },
   "outputs": [
    {
     "name": "stdout",
     "output_type": "stream",
     "text": [
      "      id     price_doc\n",
      "0  30474  5.770853e+06\n",
      "1  30475  8.122848e+06\n",
      "2  30476  5.387966e+06\n",
      "3  30477  5.760016e+06\n",
      "4  30478  5.338423e+06\n"
     ]
    }
   ],
   "source": [
    "sub4 = old.merge(sub2, left_on = 'id' , right_on = 'id' , how = 'left')\n",
    "sub4['price_doc'] = 0.6*sub4['price_doc4'] + 0.4*sub4['price_doc5']\n",
    "#print(sub4.head())\n",
    "final = sub4.loc[:,['id','price_doc']]\n",
    "print(final.head())\n",
    "final.to_csv('sberbank_final.csv',index = False)\n"
   ]
  }
 ],
 "metadata": {
  "anaconda-cloud": {},
  "kernelspec": {
   "display_name": "Python [conda root]",
   "language": "python",
   "name": "conda-root-py"
  },
  "language_info": {
   "codemirror_mode": {
    "name": "ipython",
    "version": 3
   },
   "file_extension": ".py",
   "mimetype": "text/x-python",
   "name": "python",
   "nbconvert_exporter": "python",
   "pygments_lexer": "ipython3",
   "version": "3.5.2"
  }
 },
 "nbformat": 4,
 "nbformat_minor": 1
}
