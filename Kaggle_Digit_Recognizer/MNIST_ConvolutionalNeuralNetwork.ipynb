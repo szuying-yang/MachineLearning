{
 "cells": [
  {
   "cell_type": "markdown",
   "metadata": {},
   "source": [
    "##### Imports"
   ]
  },
  {
   "cell_type": "code",
   "execution_count": 1,
   "metadata": {
    "collapsed": true
   },
   "outputs": [],
   "source": [
    "import numpy as np\n",
    "import matplotlib.pyplot as plt\n",
    "%matplotlib inline\n",
    "\n",
    "from sklearn.model_selection import train_test_split\n",
    "from sklearn.metrics import confusion_matrix\n",
    "\n",
    "import re\n",
    "import time"
   ]
  },
  {
   "cell_type": "code",
   "execution_count": 2,
   "metadata": {
    "collapsed": false
   },
   "outputs": [
    {
     "name": "stderr",
     "output_type": "stream",
     "text": [
      "Using TensorFlow backend.\n"
     ]
    }
   ],
   "source": [
    "from keras.utils.np_utils import to_categorical\n",
    "from keras.models import Sequential\n",
    "from keras.layers import Dense, Dropout, Flatten, Conv2D, MaxPool2D, BatchNormalization\n",
    "from keras.optimizers import Adam\n",
    "from keras.preprocessing.image import ImageDataGenerator\n",
    "from keras.callbacks import LearningRateScheduler"
   ]
  },
  {
   "cell_type": "markdown",
   "metadata": {},
   "source": [
    "### Import data"
   ]
  },
  {
   "cell_type": "code",
   "execution_count": 3,
   "metadata": {
    "collapsed": false
   },
   "outputs": [],
   "source": [
    "train_file = \"C:\\\\Users\\\\szuying.yang\\\\Downloads\\\\train (1).csv\"\n",
    "test_file = \"C:\\\\Users\\\\szuying.yang\\\\Downloads\\\\test (1).csv\""
   ]
  },
  {
   "cell_type": "code",
   "execution_count": 4,
   "metadata": {
    "collapsed": false
   },
   "outputs": [],
   "source": [
    "raw_data = np.loadtxt(train_file, skiprows=1, dtype='int', delimiter=',')"
   ]
  },
  {
   "cell_type": "code",
   "execution_count": 5,
   "metadata": {
    "collapsed": true
   },
   "outputs": [],
   "source": [
    "# Split data into training and validation\n",
    "x_train, x_val, y_train, y_val = train_test_split(raw_data[:,1:], raw_data[:,0], test_size=0.1)"
   ]
  },
  {
   "cell_type": "code",
   "execution_count": 6,
   "metadata": {
    "collapsed": true
   },
   "outputs": [],
   "source": [
    "# Reshape the data to 4-dimensional\n",
    "#The 2nd and 3rd dimension are the width and height of the image \n",
    "#4th dimension is the number of color channel, where gray for MNIST data is 1\n",
    "x_train = x_train.reshape(-1, 28, 28, 1)\n",
    "x_val = x_val.reshape(-1, 28, 28, 1)"
   ]
  },
  {
   "cell_type": "code",
   "execution_count": 7,
   "metadata": {
    "collapsed": true
   },
   "outputs": [],
   "source": [
    "# Trasfer the pixels from the scale of 0-255 to 0-1 in order to make the net converge faster\n",
    "x_train = x_train.astype(\"float32\")/255\n",
    "x_val = x_val.astype(\"float32\")/255"
   ]
  },
  {
   "cell_type": "code",
   "execution_count": 8,
   "metadata": {
    "collapsed": false
   },
   "outputs": [
    {
     "name": "stdout",
     "output_type": "stream",
     "text": [
      "[ 0.  0.  0.  0.  0.  0.  1.  0.  0.  0.]\n"
     ]
    }
   ],
   "source": [
    "# set target to categorical factor - for multinomial classification\n",
    "y_train = to_categorical(y_train)\n",
    "y_val = to_categorical(y_val)\n",
    "\n",
    "print(y_train[0])"
   ]
  },
  {
   "cell_type": "markdown",
   "metadata": {},
   "source": [
    "### Data Augmentation"
   ]
  },
  {
   "cell_type": "code",
   "execution_count": 15,
   "metadata": {
    "collapsed": false
   },
   "outputs": [],
   "source": [
    "# Keras function for real-time tensor image data augmentation\n",
    "datagen = ImageDataGenerator(zoom_range = 0.1,\n",
    "                            shear_range =0.1,\n",
    "                            height_shift_range = 0.1,\n",
    "                            width_shift_range = 0.1,\n",
    "                            rotation_range = 10,\n",
    "                            fill_mode='nearest')"
   ]
  },
  {
   "cell_type": "markdown",
   "metadata": {},
   "source": [
    "### Train Convolutional Neural Network using Keras Sequential API"
   ]
  },
  {
   "cell_type": "code",
   "execution_count": 16,
   "metadata": {
    "collapsed": true
   },
   "outputs": [],
   "source": [
    "#Start to build a Sequential model, which is a linear stack of layers\n",
    "\n",
    "model = Sequential()"
   ]
  },
  {
   "cell_type": "code",
   "execution_count": 17,
   "metadata": {
    "collapsed": false
   },
   "outputs": [],
   "source": [
    "# Stacking layers \n",
    "# Convolve with weight tensor, add bias, apply Rectifier as the activation function to pick up features \n",
    "\n",
    "\n",
    "# 16 3 by 3 filters that learn local features \n",
    "model.add(Conv2D(filters = 16, kernel_size = (3, 3), activation='relu',\n",
    "                 input_shape = (28, 28, 1)))\n",
    "# Batch Normalization making training faster \n",
    "model.add(BatchNormalization())\n",
    "model.add(Conv2D(filters = 16, kernel_size = (3, 3), activation='relu'))\n",
    "model.add(BatchNormalization())\n",
    "\n",
    "\n",
    "#MaxPooling layer looks at four neighboring pixels and picks the maximal value. \n",
    "#It reduces the size of the image and learn more global features of the image \n",
    "\n",
    "model.add(MaxPool2D(strides=(2,2)))\n",
    "\n",
    "# Dropout layer for regularization, which prevents overfitting by randomly dropping out connections or activations\n",
    "model.add(Dropout(0.25))\n",
    "\n",
    "model.add(Conv2D(filters = 32, kernel_size = (3, 3), activation='relu'))\n",
    "model.add(BatchNormalization())\n",
    "model.add(Conv2D(filters = 32, kernel_size = (3, 3), activation='relu'))\n",
    "model.add(BatchNormalization())\n",
    "\n",
    "\n",
    "model.add(MaxPool2D(strides=(2,2)))\n",
    "\n",
    "model.add(Dropout(0.25))\n",
    "\n",
    "# Fully connected \n",
    "model.add(Flatten())\n",
    "\n",
    "\n",
    "# Dense layer - fully connected layer with 512 hidden units\n",
    "model.add(Dense(512, activation='relu'))\n",
    "model.add(Dropout(0.25))\n",
    "model.add(Dense(1024, activation='relu'))\n",
    "model.add(Dropout(0.5))\n",
    "\n",
    "# Output layer -softmax operation to normalize and force all probabilities sum up to one\n",
    "model.add(Dense(10, activation='softmax'))"
   ]
  },
  {
   "cell_type": "code",
   "execution_count": 18,
   "metadata": {
    "collapsed": false
   },
   "outputs": [],
   "source": [
    "# specify how we want to train the model\n",
    "# configure the learning process by assigning the loss function and the optimizer to pick the weights that minimize the loss function\n",
    "model.compile(loss='categorical_crossentropy', optimizer=Adam(lr=1e-4), metrics=[\"accuracy\"])"
   ]
  },
  {
   "cell_type": "code",
   "execution_count": 19,
   "metadata": {
    "collapsed": true
   },
   "outputs": [],
   "source": [
    "# Starts training from a smaller learning rate to ensure convergence then speed up to reduce the learning rate by 10% every epoc\n",
    "annealer = LearningRateScheduler(lambda x: 1e-3 * 0.9 ** x)"
   ]
  },
  {
   "cell_type": "code",
   "execution_count": 20,
   "metadata": {
    "collapsed": false,
    "scrolled": true
   },
   "outputs": [
    {
     "name": "stdout",
     "output_type": "stream",
     "text": [
      "Epoch 1/20\n",
      "25s - loss: 0.9304 - acc: 0.6974 - val_loss: 0.3285 - val_acc: 0.8975\n",
      "Epoch 2/20\n",
      "26s - loss: 0.3897 - acc: 0.8761 - val_loss: 0.1524 - val_acc: 0.9575\n",
      "Epoch 3/20\n",
      "27s - loss: 0.2880 - acc: 0.9108 - val_loss: 0.1033 - val_acc: 0.9675\n",
      "Epoch 4/20\n",
      "27s - loss: 0.2263 - acc: 0.9329 - val_loss: 0.0843 - val_acc: 0.9775\n",
      "Epoch 5/20\n",
      "30s - loss: 0.2067 - acc: 0.9370 - val_loss: 0.0717 - val_acc: 0.9825\n",
      "Epoch 6/20\n",
      "28s - loss: 0.1851 - acc: 0.9459 - val_loss: 0.0810 - val_acc: 0.9825\n",
      "Epoch 7/20\n",
      "28s - loss: 0.1782 - acc: 0.9482 - val_loss: 0.0700 - val_acc: 0.9800\n",
      "Epoch 8/20\n",
      "28s - loss: 0.1680 - acc: 0.9525 - val_loss: 0.0465 - val_acc: 0.9825\n",
      "Epoch 9/20\n",
      "28s - loss: 0.1378 - acc: 0.9604 - val_loss: 0.0634 - val_acc: 0.9875\n",
      "Epoch 10/20\n",
      "28s - loss: 0.1206 - acc: 0.9632 - val_loss: 0.0371 - val_acc: 0.9875\n",
      "Epoch 11/20\n",
      "30s - loss: 0.1204 - acc: 0.9664 - val_loss: 0.0588 - val_acc: 0.9825\n",
      "Epoch 12/20\n",
      "29s - loss: 0.1176 - acc: 0.9665 - val_loss: 0.0610 - val_acc: 0.9850\n",
      "Epoch 13/20\n",
      "30s - loss: 0.1092 - acc: 0.9690 - val_loss: 0.0400 - val_acc: 0.9900\n",
      "Epoch 14/20\n",
      "29s - loss: 0.1070 - acc: 0.9691 - val_loss: 0.0434 - val_acc: 0.9900\n",
      "Epoch 15/20\n",
      "29s - loss: 0.1007 - acc: 0.9701 - val_loss: 0.0361 - val_acc: 0.9875\n",
      "Epoch 16/20\n",
      "29s - loss: 0.1106 - acc: 0.9688 - val_loss: 0.0298 - val_acc: 0.9875\n",
      "Epoch 17/20\n",
      "30s - loss: 0.1077 - acc: 0.9685 - val_loss: 0.0441 - val_acc: 0.9900\n",
      "Epoch 18/20\n",
      "29s - loss: 0.0860 - acc: 0.9741 - val_loss: 0.0382 - val_acc: 0.9875\n",
      "Epoch 19/20\n",
      "30s - loss: 0.0914 - acc: 0.9731 - val_loss: 0.0411 - val_acc: 0.9875\n",
      "Epoch 20/20\n",
      "29s - loss: 0.0743 - acc: 0.9776 - val_loss: 0.0338 - val_acc: 0.9900\n"
     ]
    }
   ],
   "source": [
    "# Fit Model\n",
    "hist = model.fit_generator(datagen.flow(x_train, y_train, batch_size=16), #batch size specifies when to update the gradient\n",
    "                           steps_per_epoch=500,\n",
    "                           epochs=20, #how many times you go to the data that is grouped in mini-batch\n",
    "                           verbose=2,  #2 for one log line per epoch\n",
    "                           validation_data=(x_val[:400,:], y_val[:400,:]), #Use only part of the validation data for speed\n",
    "                           callbacks=[annealer])"
   ]
  },
  {
   "cell_type": "markdown",
   "metadata": {},
   "source": [
    "### Model Evaluation"
   ]
  },
  {
   "cell_type": "code",
   "execution_count": 21,
   "metadata": {
    "collapsed": false
   },
   "outputs": [
    {
     "name": "stdout",
     "output_type": "stream",
     "text": [
      "Final loss: 0.0294, final accuracy: 0.9912\n"
     ]
    }
   ],
   "source": [
    "# evaluate the model performance with the whole validation dataset\n",
    "final_loss, final_acc = model.evaluate(x_val, y_val, verbose=0)\n",
    "print(\"Final loss: {0:.4f}, final accuracy: {1:.4f}\".format(final_loss, final_acc))"
   ]
  },
  {
   "cell_type": "code",
   "execution_count": 22,
   "metadata": {
    "collapsed": false
   },
   "outputs": [
    {
     "data": {
      "image/png": "[encoded data removed]",
      "text/plain": [
       "<matplotlib.figure.Figure at 0x14c067b4198>"
      ]
     },
     "metadata": {},
     "output_type": "display_data"
    },
    {
     "data": {
      "image/png": "[encoded data removed]",
      "text/plain": [
       "<matplotlib.figure.Figure at 0x14c06a5bfd0>"
      ]
     },
     "metadata": {},
     "output_type": "display_data"
    }
   ],
   "source": [
    "plt.plot(hist.history['loss'], color='b')\n",
    "plt.plot(hist.history['val_loss'], color='r')\n",
    "plt.show()\n",
    "plt.plot(hist.history['acc'], color='b')\n",
    "plt.plot(hist.history['val_acc'], color='r')\n",
    "plt.show()"
   ]
  },
  {
   "cell_type": "code",
   "execution_count": 23,
   "metadata": {
    "collapsed": false
   },
   "outputs": [
    {
     "name": "stdout",
     "output_type": "stream",
     "text": [
      "[[423   0   0   0   1   0   2   0   0   0]\n",
      " [  0 490   1   0   0   0   0   2   0   0]\n",
      " [  0   0 385   0   0   0   0   0   2   0]\n",
      " [  1   0   0 436   0   3   0   1   1   0]\n",
      " [  0   1   0   0 397   0   0   0   0   2]\n",
      " [  0   0   1   0   0 412   3   0   1   0]\n",
      " [  0   0   0   0   0   2 407   0   0   0]\n",
      " [  0   1   2   0   0   0   0 413   0   0]\n",
      " [  0   1   2   0   0   0   0   0 394   1]\n",
      " [  1   0   1   0   1   0   0   3   0 406]]\n"
     ]
    }
   ],
   "source": [
    "y_hat = model.predict(x_val)\n",
    "y_pred = np.argmax(y_hat, axis=1)\n",
    "y_true = np.argmax(y_val, axis=1)\n",
    "cm = confusion_matrix(y_true, y_pred)\n",
    "print(cm)"
   ]
  },
  {
   "cell_type": "markdown",
   "metadata": {},
   "source": [
    "### Score test data"
   ]
  },
  {
   "cell_type": "code",
   "execution_count": 24,
   "metadata": {
    "collapsed": false
   },
   "outputs": [],
   "source": [
    "mnist_testset = np.loadtxt(test_file, skiprows=1, dtype='int', delimiter=',')\n",
    "x_test = mnist_testset.reshape(-1, 28, 28, 1)\n",
    "x_test = x_test.astype(\"float32\")/255"
   ]
  },
  {
   "cell_type": "code",
   "execution_count": 25,
   "metadata": {
    "collapsed": true
   },
   "outputs": [],
   "source": [
    "#Generate predictions for the test data by processing it batch by batch\n",
    "y_hat = model.predict(x_test, batch_size=64)"
   ]
  },
  {
   "cell_type": "code",
   "execution_count": 26,
   "metadata": {
    "collapsed": true
   },
   "outputs": [],
   "source": [
    "y_pred = np.argmax(y_hat,axis=1)"
   ]
  },
  {
   "cell_type": "markdown",
   "metadata": {},
   "source": [
    "### Create Submission"
   ]
  },
  {
   "cell_type": "code",
   "execution_count": 27,
   "metadata": {
    "collapsed": true
   },
   "outputs": [],
   "source": [
    "# create time stamp\n",
    "time_stamp = re.sub('[: ]','_',time.asctime())\n",
    "output_file = \"C:\\\\Users\\\\szuying.yang\\\\Downloads\\\\submission_\" +str(time_stamp) + \".csv\"\n",
    "# write \n",
    "with open(output_file, 'w') as f :\n",
    "    f.write('ImageId,Label\\n')\n",
    "    for i in range(len(y_pred)) :\n",
    "        f.write(\"\".join([str(i+1),',',str(y_pred[i]),'\\n']))"
   ]
  }
 ],
 "metadata": {
  "anaconda-cloud": {},
  "kernelspec": {
   "display_name": "Python 3",
   "language": "python",
   "name": "python3"
  },
  "language_info": {
   "codemirror_mode": {
    "name": "ipython",
    "version": 3
   },
   "file_extension": ".py",
   "mimetype": "text/x-python",
   "name": "python",
   "nbconvert_exporter": "python",
   "pygments_lexer": "ipython3",
   "version": "3.6.0"
  }
 },
 "nbformat": 4,
 "nbformat_minor": 2
}
