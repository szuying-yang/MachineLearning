{
 "cells": [
  {
   "cell_type": "markdown",
   "metadata": {},
   "source": [
    "# Linear Regression Starter Kit for Kaggle House Prices "
   ]
  },
  {
   "cell_type": "markdown",
   "metadata": {},
   "source": [
    "## Imports and inits"
   ]
  },
  {
   "cell_type": "code",
   "execution_count": 1,
   "metadata": {
    "collapsed": false
   },
   "outputs": [
    {
     "name": "stdout",
     "output_type": "stream",
     "text": [
      "Checking whether there is an H2O instance running at http://localhost:54321..... not found.\n",
      "Attempting to start a local H2O server...\n",
      "  Java Version: java version \"1.8.0_71\"; Java(TM) SE Runtime Environment (build 1.8.0_71-b15); Java HotSpot(TM) 64-Bit Server VM (build 25.71-b15, mixed mode)\n",
      "  Starting server from /Users/naveen/anaconda/lib/python3.5/site-packages/h2o/backend/bin/h2o.jar\n",
      "  Ice root: /var/folders/4n/h7xb1dtn49j2_x4sr6srz3gh0000gn/T/tmpu1d6eczx\n",
      "  JVM stdout: /var/folders/4n/h7xb1dtn49j2_x4sr6srz3gh0000gn/T/tmpu1d6eczx/h2o_naveen_started_from_python.out\n",
      "  JVM stderr: /var/folders/4n/h7xb1dtn49j2_x4sr6srz3gh0000gn/T/tmpu1d6eczx/h2o_naveen_started_from_python.err\n",
      "  Server is running at http://127.0.0.1:54321\n",
      "Connecting to H2O server at http://127.0.0.1:54321... successful.\n",
      "Warning: Your H2O cluster version is too old (4 months and 20 days)! Please download and install the latest version from http://h2o.ai/download/\n"
     ]
    },
    {
     "data": {
      "text/html": [
       "<div style=\"overflow:auto\"><table style=\"width:50%\"><tr><td>H2O cluster uptime:</td>\n",
       "<td>02 secs</td></tr>\n",
       "<tr><td>H2O cluster version:</td>\n",
       "<td>3.10.2.2</td></tr>\n",
       "<tr><td>H2O cluster version age:</td>\n",
       "<td>4 months and 20 days !!!</td></tr>\n",
       "<tr><td>H2O cluster name:</td>\n",
       "<td>H2O_from_python_naveen_ov54p6</td></tr>\n",
       "<tr><td>H2O cluster total nodes:</td>\n",
       "<td>1</td></tr>\n",
       "<tr><td>H2O cluster free memory:</td>\n",
       "<td>10.67 Gb</td></tr>\n",
       "<tr><td>H2O cluster total cores:</td>\n",
       "<td>4</td></tr>\n",
       "<tr><td>H2O cluster allowed cores:</td>\n",
       "<td>4</td></tr>\n",
       "<tr><td>H2O cluster status:</td>\n",
       "<td>accepting new members, healthy</td></tr>\n",
       "<tr><td>H2O connection url:</td>\n",
       "<td>http://127.0.0.1:54321</td></tr>\n",
       "<tr><td>H2O connection proxy:</td>\n",
       "<td>None</td></tr>\n",
       "<tr><td>Python version:</td>\n",
       "<td>3.5.2 final</td></tr></table></div>"
      ],
      "text/plain": [
       "--------------------------  ------------------------------\n",
       "H2O cluster uptime:         02 secs\n",
       "H2O cluster version:        3.10.2.2\n",
       "H2O cluster version age:    4 months and 20 days !!!\n",
       "H2O cluster name:           H2O_from_python_naveen_ov54p6\n",
       "H2O cluster total nodes:    1\n",
       "H2O cluster free memory:    10.67 Gb\n",
       "H2O cluster total cores:    4\n",
       "H2O cluster allowed cores:  4\n",
       "H2O cluster status:         accepting new members, healthy\n",
       "H2O connection url:         http://127.0.0.1:54321\n",
       "H2O connection proxy:\n",
       "Python version:             3.5.2 final\n",
       "--------------------------  ------------------------------"
      ]
     },
     "metadata": {},
     "output_type": "display_data"
    }
   ],
   "source": [
    "import h2o\n",
    "h2o.init(max_mem_size='12G') # give h2o as much memory as possible\n",
    "h2o.remove_all()\n",
    "h2o.no_progress() # turn off h2o progress bars\n",
    "\n",
    "import numpy as np\n",
    "import pandas as pd"
   ]
  },
  {
   "cell_type": "markdown",
   "metadata": {},
   "source": [
    "## Import data"
   ]
  },
  {
   "cell_type": "code",
   "execution_count": 2,
   "metadata": {
    "collapsed": false
   },
   "outputs": [],
   "source": [
    "train = h2o.import_file('../KaggleHousePrices/train.csv')\n",
    "test = h2o.import_file('../KaggleHousePrices/test.csv')"
   ]
  },
  {
   "cell_type": "markdown",
   "metadata": {},
   "source": [
    "#### Determine data types"
   ]
  },
  {
   "cell_type": "code",
   "execution_count": 3,
   "metadata": {
    "collapsed": false
   },
   "outputs": [],
   "source": [
    "def get_type_lists(frame=train, rejects=['Id', 'SalePrice']):\n",
    "\n",
    "    \"\"\"Creates lists of numeric and categorical variables.\n",
    "    \n",
    "    :param frame: The frame from which to determine types.\n",
    "    :param rejects: Variable names not to be included in returned lists.\n",
    "    :return: Tuple of lists for numeric and categorical variables in the frame.\n",
    "    \n",
    "    \"\"\"\n",
    "    \n",
    "    nums, cats = [], []\n",
    "    for key, val in frame.types.items():\n",
    "        if key not in rejects:\n",
    "            if val == 'enum':\n",
    "                cats.append(key)\n",
    "            else: \n",
    "                nums.append(key)\n",
    "                \n",
    "    print('Numeric =', nums)                \n",
    "    print()\n",
    "    print('Categorical =', cats)\n",
    "    \n",
    "    return nums, cats"
   ]
  },
  {
   "cell_type": "code",
   "execution_count": 4,
   "metadata": {
    "collapsed": false
   },
   "outputs": [
    {
     "name": "stdout",
     "output_type": "stream",
     "text": [
      "Numeric = ['MiscVal', 'YrSold', 'GarageArea', 'MSSubClass', 'OverallQual', 'BsmtFinSF2', 'PoolArea', 'GarageYrBlt', 'TotalBsmtSF', 'LotArea', 'WoodDeckSF', 'ScreenPorch', 'GarageCars', 'FullBath', 'GrLivArea', 'BsmtFinSF1', 'OverallCond', '3SsnPorch', '1stFlrSF', 'BsmtHalfBath', 'TotRmsAbvGrd', 'HalfBath', 'EnclosedPorch', 'MoSold', 'LowQualFinSF', '2ndFlrSF', 'YearBuilt', 'LotFrontage', 'BsmtUnfSF', 'BedroomAbvGr', 'BsmtFullBath', 'Fireplaces', 'MasVnrArea', 'KitchenAbvGr', 'YearRemodAdd', 'OpenPorchSF']\n",
      "\n",
      "Categorical = ['Exterior1st', 'KitchenQual', 'SaleCondition', 'GarageType', 'Fence', 'MasVnrType', 'MiscFeature', 'Exterior2nd', 'Utilities', 'ExterQual', 'LandContour', 'BsmtCond', 'HouseStyle', 'CentralAir', 'HeatingQC', 'Neighborhood', 'BsmtQual', 'Alley', 'LotConfig', 'BsmtFinType1', 'Foundation', 'PavedDrive', 'ExterCond', 'Heating', 'RoofMatl', 'RoofStyle', 'Street', 'SaleType', 'GarageQual', 'Electrical', 'LotShape', 'Condition2', 'Functional', 'BsmtExposure', 'MSZoning', 'LandSlope', 'FireplaceQu', 'PoolQC', 'BsmtFinType2', 'BldgType', 'GarageCond', 'GarageFinish', 'Condition1']\n"
     ]
    }
   ],
   "source": [
    "original_nums, cats = get_type_lists()"
   ]
  },
  {
   "cell_type": "markdown",
   "metadata": {},
   "source": [
    "## Impute numeric missing"
   ]
  },
  {
   "cell_type": "code",
   "execution_count": 5,
   "metadata": {
    "collapsed": false
   },
   "outputs": [],
   "source": [
    "# median usually better than mean\n",
    "# (_ signifies temporary throw-away variable, used to suppress output)\n",
    "_ = train[['MasVnrArea', 'GarageYrBlt', 'LotFrontage']].impute(method='median')\n",
    "_ = test[['BsmtHalfBath', 'BsmtFinSF1', 'BsmtFullBath', 'BsmtFinSF2', 'BsmtUnfSF', 'MasVnrArea', \n",
    "          'GarageYrBlt', 'LotFrontage', 'GarageCars', 'TotalBsmtSF', 'GarageArea']].impute(method='median')"
   ]
  },
  {
   "cell_type": "markdown",
   "metadata": {},
   "source": [
    "## Encode categorical using shrunken averages\n",
    "http://helios.mm.di.uoa.gr/~rouvas/ssi/sigkdd/sigkdd.vol3.1/barreca.ps"
   ]
  },
  {
   "cell_type": "code",
   "execution_count": 6,
   "metadata": {
    "collapsed": false
   },
   "outputs": [],
   "source": [
    "def target_encoder(training_frame, test_frame, x, y, lambda_=0.15, threshold=150, test=False):\n",
    "    \n",
    "    \"\"\" Applies simple target encoding to categorical variables.\n",
    "    \n",
    "    :param training_frame: Training frame which to create target means and to be encoded.\n",
    "    :param test_frame: Test frame to be encoded using information from training frame.\n",
    "    :param x: Name of input variable to be encoded.\n",
    "    :param y: Name of target variable to use for encoding.\n",
    "    :param lambda_: Balance between level mean and overall mean for small groups.\n",
    "    :param threshold: Number below which a level is considered small enough to be shrunken.\n",
    "    :param test: Whether or not to print the row_val_dict for testing purposes.\n",
    "    :return: Tuple of encoded variable from train and test set as H2OFrames. \n",
    "    \n",
    "    \"\"\"\n",
    "    \n",
    "    # convert to pandas\n",
    "    trdf = training_frame.as_data_frame().loc[:, [x,y]] # df\n",
    "    tss = test_frame.as_data_frame().loc[:, x]          # series\n",
    "\n",
    "    \n",
    "    # create dictionary of level:encode val\n",
    "    \n",
    "    encode_name = x + '_Tencode'\n",
    "    overall_mean = trdf[y].mean()\n",
    "    row_val_dict = {}\n",
    "\n",
    "    for level in trdf[x].unique():\n",
    "        level_df = trdf[trdf[x] == level][y]\n",
    "        level_n = level_df.shape[0]\n",
    "        level_mean = level_df.mean()\n",
    "        if level_n >= threshold:\n",
    "            row_val_dict[level] = level_mean\n",
    "        else:\n",
    "            row_val_dict[level] = ((1 - lambda_) * level_mean) +\\\n",
    "                                  (lambda_ * overall_mean)\n",
    "                \n",
    "    row_val_dict[np.nan] = overall_mean # handle missing values\n",
    "    \n",
    "    if test:\n",
    "        print(row_val_dict)\n",
    "        \n",
    "    # apply the transform to training data\n",
    "    trdf[encode_name] = trdf[x].apply(lambda i: row_val_dict[i])   \n",
    "    \n",
    "    # apply the transform to test data\n",
    "    tsdf = pd.DataFrame(columns=[x, encode_name])\n",
    "    tsdf[x] = tss\n",
    "    tsdf.loc[:, encode_name] = overall_mean # handle previously unseen values\n",
    "    tsdf[encode_name] = tsdf[x].apply(lambda i: row_val_dict[i])\n",
    "    \n",
    "    # convert back to H2O\n",
    "    \n",
    "    trdf = h2o.H2OFrame(trdf[encode_name].as_matrix())\n",
    "    trdf.columns = [encode_name]\n",
    "    \n",
    "    tsdf = h2o.H2OFrame(tsdf[encode_name].as_matrix())\n",
    "    tsdf.columns = [encode_name]\n",
    "    \n",
    "    return (trdf, tsdf)\n"
   ]
  },
  {
   "cell_type": "markdown",
   "metadata": {},
   "source": [
    "#### Execute encoding"
   ]
  },
  {
   "cell_type": "code",
   "execution_count": 7,
   "metadata": {
    "collapsed": false
   },
   "outputs": [
    {
     "name": "stdout",
     "output_type": "stream",
     "text": [
      "Encoding: Exterior1st (1/43) ...\n",
      "Encoding: KitchenQual (2/43) ...\n",
      "Encoding: SaleCondition (3/43) ...\n",
      "Encoding: GarageType (4/43) ...\n",
      "Encoding: Fence (5/43) ...\n",
      "Encoding: MasVnrType (6/43) ...\n",
      "Encoding: MiscFeature (7/43) ...\n",
      "Encoding: Exterior2nd (8/43) ...\n",
      "Encoding: Utilities (9/43) ...\n",
      "Encoding: ExterQual (10/43) ...\n",
      "Encoding: LandContour (11/43) ...\n",
      "Encoding: BsmtCond (12/43) ...\n",
      "Encoding: HouseStyle (13/43) ...\n",
      "Encoding: CentralAir (14/43) ...\n",
      "Encoding: HeatingQC (15/43) ...\n",
      "Encoding: Neighborhood (16/43) ...\n",
      "Encoding: BsmtQual (17/43) ...\n",
      "Encoding: Alley (18/43) ...\n",
      "Encoding: LotConfig (19/43) ...\n",
      "Encoding: BsmtFinType1 (20/43) ...\n",
      "Encoding: Foundation (21/43) ...\n",
      "Encoding: PavedDrive (22/43) ...\n",
      "Encoding: ExterCond (23/43) ...\n",
      "Encoding: Heating (24/43) ...\n",
      "Encoding: RoofMatl (25/43) ...\n",
      "Encoding: RoofStyle (26/43) ...\n",
      "Encoding: Street (27/43) ...\n",
      "Encoding: SaleType (28/43) ...\n",
      "Encoding: GarageQual (29/43) ...\n",
      "Encoding: Electrical (30/43) ...\n",
      "Encoding: LotShape (31/43) ...\n",
      "Encoding: Condition2 (32/43) ...\n",
      "Encoding: Functional (33/43) ...\n",
      "Encoding: BsmtExposure (34/43) ...\n",
      "Encoding: MSZoning (35/43) ...\n",
      "Encoding: LandSlope (36/43) ...\n",
      "Encoding: FireplaceQu (37/43) ...\n",
      "Encoding: PoolQC (38/43) ...\n",
      "Encoding: BsmtFinType2 (39/43) ...\n",
      "Encoding: BldgType (40/43) ...\n",
      "Encoding: GarageCond (41/43) ...\n",
      "Encoding: GarageFinish (42/43) ...\n",
      "Encoding: Condition1 (43/43) ...\n",
      "Done.\n"
     ]
    }
   ],
   "source": [
    "for i, var in enumerate(cats):\n",
    "    \n",
    "    total = len(cats)\n",
    "    tr_enc, ts_enc = target_encoder(train, test, var, 'SalePrice')\n",
    "\n",
    "    print('Encoding: ' + var + ' (' + str(i+1) + '/' + str(total) + ') ...')\n",
    "\n",
    "    train = train.cbind(tr_enc)\n",
    "    test = test.cbind(ts_enc)    \n",
    "    \n",
    "print('Done.')"
   ]
  },
  {
   "cell_type": "markdown",
   "metadata": {
    "collapsed": false
   },
   "source": [
    "#### Redefine numerics and explore"
   ]
  },
  {
   "cell_type": "code",
   "execution_count": 8,
   "metadata": {
    "collapsed": false
   },
   "outputs": [
    {
     "name": "stdout",
     "output_type": "stream",
     "text": [
      "Numeric = ['MiscVal', 'YrSold', 'Exterior1st_Tencode', 'GarageArea', 'MSSubClass', 'OverallQual', 'BsmtFinSF2', 'BsmtFinType2_Tencode', 'Condition2_Tencode', 'MasVnrType_Tencode', 'PoolArea', 'GarageYrBlt', 'GarageQual_Tencode', 'TotalBsmtSF', 'Functional_Tencode', 'Heating_Tencode', 'LotArea', 'BsmtCond_Tencode', 'WoodDeckSF', 'LotConfig_Tencode', 'Alley_Tencode', 'SaleCondition_Tencode', 'MSZoning_Tencode', 'ScreenPorch', 'GarageCars', 'GarageType_Tencode', 'FullBath', 'KitchenQual_Tencode', 'BsmtFinSF1', 'Electrical_Tencode', 'OverallCond', 'GrLivArea', 'LotShape_Tencode', '3SsnPorch', '1stFlrSF', 'BsmtHalfBath', 'TotRmsAbvGrd', 'HalfBath', 'Fireplaces', 'SaleType_Tencode', 'EnclosedPorch', 'BsmtExposure_Tencode', 'MiscFeature_Tencode', 'Foundation_Tencode', 'PavedDrive_Tencode', 'FireplaceQu_Tencode', 'CentralAir_Tencode', 'MoSold', 'LowQualFinSF', '2ndFlrSF', 'HeatingQC_Tencode', 'ExterCond_Tencode', 'PoolQC_Tencode', 'KitchenAbvGr', 'LandSlope_Tencode', 'YearBuilt', 'Fence_Tencode', 'Exterior2nd_Tencode', 'LandContour_Tencode', 'Condition1_Tencode', 'LotFrontage', 'ExterQual_Tencode', 'BsmtUnfSF', 'BsmtQual_Tencode', 'HouseStyle_Tencode', 'BedroomAbvGr', 'BsmtFullBath', 'Utilities_Tencode', 'OpenPorchSF', 'Street_Tencode', 'MasVnrArea', 'Neighborhood_Tencode', 'GarageCond_Tencode', 'YearRemodAdd', 'BsmtFinType1_Tencode', 'RoofStyle_Tencode', 'BldgType_Tencode', 'RoofMatl_Tencode', 'GarageFinish_Tencode']\n",
      "\n",
      "Categorical = ['Exterior1st', 'KitchenQual', 'SaleCondition', 'GarageType', 'MasVnrType', 'Condition1', 'MiscFeature', 'Exterior2nd', 'Utilities', 'ExterQual', 'LandContour', 'BsmtCond', 'HouseStyle', 'CentralAir', 'HeatingQC', 'Neighborhood', 'BsmtQual', 'Alley', 'MSZoning', 'LotConfig', 'Fence', 'BsmtFinType1', 'Foundation', 'PavedDrive', 'ExterCond', 'Heating', 'RoofMatl', 'RoofStyle', 'Street', 'SaleType', 'GarageQual', 'Electrical', 'LotShape', 'Condition2', 'Functional', 'BsmtExposure', 'LandSlope', 'FireplaceQu', 'PoolQC', 'BsmtFinType2', 'BldgType', 'GarageCond', 'GarageFinish']\n"
     ]
    }
   ],
   "source": [
    "encoded_nums, cats = get_type_lists(frame=train)"
   ]
  },
  {
   "cell_type": "code",
   "execution_count": 9,
   "metadata": {
    "collapsed": false
   },
   "outputs": [
    {
     "name": "stdout",
     "output_type": "stream",
     "text": [
      "Imputed and encoded numeric training data:\n",
      "Rows:1460\n",
      "Cols:79\n",
      "\n",
      "\n"
     ]
    },
    {
     "data": {
      "text/html": [
       "<table>\n",
       "<thead>\n",
       "<tr><th>       </th><th>MiscVal           </th><th>YrSold            </th><th>Exterior1st_Tencode  </th><th>GarageArea        </th><th>MSSubClass        </th><th>OverallQual       </th><th>BsmtFinSF2        </th><th>BsmtFinType2_Tencode  </th><th>Condition2_Tencode  </th><th>MasVnrType_Tencode  </th><th>PoolArea         </th><th>GarageYrBlt       </th><th>GarageQual_Tencode  </th><th>TotalBsmtSF       </th><th>Functional_Tencode  </th><th>Heating_Tencode   </th><th>LotArea          </th><th>BsmtCond_Tencode  </th><th>WoodDeckSF       </th><th>LotConfig_Tencode  </th><th>Alley_Tencode     </th><th>SaleCondition_Tencode  </th><th>MSZoning_Tencode  </th><th>ScreenPorch       </th><th>GarageCars        </th><th>GarageType_Tencode  </th><th>FullBath          </th><th>KitchenQual_Tencode  </th><th>BsmtFinSF1       </th><th>Electrical_Tencode  </th><th>OverallCond       </th><th>GrLivArea        </th><th>LotShape_Tencode  </th><th>3SsnPorch         </th><th>1stFlrSF          </th><th>BsmtHalfBath        </th><th>TotRmsAbvGrd      </th><th>HalfBath           </th><th>Fireplaces        </th><th>SaleType_Tencode  </th><th>EnclosedPorch     </th><th>BsmtExposure_Tencode  </th><th>MiscFeature_Tencode  </th><th>Foundation_Tencode  </th><th>PavedDrive_Tencode  </th><th>FireplaceQu_Tencode  </th><th>CentralAir_Tencode  </th><th>MoSold            </th><th>LowQualFinSF     </th><th>2ndFlrSF          </th><th>HeatingQC_Tencode  </th><th>ExterCond_Tencode  </th><th>PoolQC_Tencode    </th><th>KitchenAbvGr      </th><th>LandSlope_Tencode  </th><th>YearBuilt         </th><th>Fence_Tencode     </th><th>Exterior2nd_Tencode  </th><th>LandContour_Tencode  </th><th>Condition1_Tencode  </th><th>LotFrontage       </th><th>ExterQual_Tencode  </th><th>BsmtUnfSF         </th><th>BsmtQual_Tencode  </th><th>HouseStyle_Tencode  </th><th>BedroomAbvGr      </th><th>BsmtFullBath       </th><th>Utilities_Tencode  </th><th>OpenPorchSF      </th><th>Street_Tencode    </th><th>MasVnrArea        </th><th>Neighborhood_Tencode  </th><th>GarageCond_Tencode  </th><th>YearRemodAdd      </th><th>BsmtFinType1_Tencode  </th><th>RoofStyle_Tencode  </th><th>BldgType_Tencode  </th><th>RoofMatl_Tencode  </th><th>GarageFinish_Tencode  </th></tr>\n",
       "</thead>\n",
       "<tbody>\n",
       "<tr><td>type   </td><td>int               </td><td>int               </td><td>real                 </td><td>int               </td><td>int               </td><td>int               </td><td>int               </td><td>real                  </td><td>real                </td><td>real                </td><td>int              </td><td>real              </td><td>real                </td><td>int               </td><td>real                </td><td>real              </td><td>int              </td><td>real              </td><td>int              </td><td>real               </td><td>real              </td><td>real                   </td><td>real              </td><td>int               </td><td>int               </td><td>real                </td><td>int               </td><td>real                 </td><td>int              </td><td>real                </td><td>int               </td><td>int              </td><td>real              </td><td>int               </td><td>int               </td><td>int                 </td><td>int               </td><td>int                </td><td>int               </td><td>real              </td><td>int               </td><td>real                  </td><td>real                 </td><td>real                </td><td>real                </td><td>real                 </td><td>real                </td><td>int               </td><td>int              </td><td>int               </td><td>real               </td><td>real               </td><td>real              </td><td>int               </td><td>real               </td><td>int               </td><td>real              </td><td>real                 </td><td>real                 </td><td>real                </td><td>real              </td><td>real               </td><td>int               </td><td>real              </td><td>real                </td><td>int               </td><td>int                </td><td>real               </td><td>int              </td><td>real              </td><td>real              </td><td>real                  </td><td>real                </td><td>int               </td><td>real                  </td><td>real               </td><td>real              </td><td>real              </td><td>real                  </td></tr>\n",
       "<tr><td>mins   </td><td>0.0               </td><td>2006.0            </td><td>87488.17938356164    </td><td>0.0               </td><td>20.0              </td><td>1.0               </td><td>0.0               </td><td>155574.02938356163    </td><td>109375.67938356163  </td><td>151508.53605022831  </td><td>0.0              </td><td>1900.0            </td><td>112279.84605022831  </td><td>0.0               </td><td>100068.17938356164  </td><td>88763.17938356164 </td><td>1300.0           </td><td>81538.17938356164 </td><td>0.0              </td><td>176938.0475285171  </td><td>131024.39738356163</td><td>115644.42938356163     </td><td>90486.97938356163 </td><td>0.0               </td><td>0.0               </td><td>120605.97382800607  </td><td>0.0               </td><td>116868.60374253601   </td><td>0.0              </td><td>84088.17938356164   </td><td>1.0               </td><td>334.0            </td><td>164754.81837837838</td><td>0.0               </td><td>334.0             </td><td>0.0                 </td><td>2.0               </td><td>0.0                </td><td>0.0               </td><td>129010.67938356163</td><td>0.0               </td><td>165652.29590766       </td><td>107038.17938356163   </td><td>118398.96063356163  </td><td>124921.43327245054  </td><td>137437.70688356162   </td><td>116612.64201514059  </td><td>1.0               </td><td>0.0              </td><td>0.0               </td><td>101088.17938356164 </td><td>92163.17938356164  </td><td>180921.19589041095</td><td>0.0               </td><td>179956.7995658466  </td><td>1872.0            </td><td>141281.58847447074</td><td>116388.17938356163   </td><td>148776.6468438791    </td><td>141966.09605022828  </td><td>21.0              </td><td>101925.61152641877 </td><td>0.0               </td><td>125476.40366927591</td><td>120765.67938356163  </td><td>0.0               </td><td>0.0                </td><td>144013.17938356166 </td><td>0.0              </td><td>137800.10438356164</td><td>0.0               </td><td>110928.17938356163    </td><td>119363.17938356163  </td><td>1950.0            </td><td>151994.04028581732    </td><td>153710.9066562889  </td><td>136305.59873840035</td><td>143588.17938356166</td><td>142156.42314049587    </td></tr>\n",
       "<tr><td>mean   </td><td>43.489041095890414</td><td>2007.8157534246575</td><td>180880.5669704916    </td><td>472.9801369863014 </td><td>56.897260273972606</td><td>6.0993150684931505</td><td>46.54931506849315 </td><td>182969.4818640458     </td><td>180958.0448224338   </td><td>179556.69860888534  </td><td>2.758904109589041</td><td>1978.5061638868744</td><td>185465.54685972977  </td><td>1057.4294520547949</td><td>181271.62194407952  </td><td>181082.5793769    </td><td>10516.82808219178</td><td>182907.7643074686 </td><td>94.2445205479452 </td><td>180509.6631237099  </td><td>178903.9882177238 </td><td>180217.29174554325     </td><td>180890.65145472882</td><td>15.060958904109588</td><td>1.7671232876712328</td><td>184682.717467067    </td><td>1.5650684931506849</td><td>179706.3537221336    </td><td>443.6397260273973</td><td>181738.16977317512  </td><td>5.575342465753424 </td><td>1515.463698630137</td><td>180636.96109490524</td><td>3.4095890410958902</td><td>1162.626712328767 </td><td>0.057534246575342465</td><td>6.517808219178082 </td><td>0.38287671232876713</td><td>0.613013698630137 </td><td>179942.39162399143</td><td>21.954109589041096</td><td>181624.85937051979    </td><td>180000.13846481516   </td><td>181839.77812305308  </td><td>181680.14683289544  </td><td>199396.0979636423    </td><td>181659.6301311222   </td><td>6.321917808219178 </td><td>5.844520547945206</td><td>346.99246575342465</td><td>181217.80597203973 </td><td>181331.30861662602 </td><td>181358.14341400826</td><td>1.0465753424657533</td><td>180784.26482323132 </td><td>1971.267808219178 </td><td>175820.09948517542</td><td>181031.77015866013   </td><td>180821.86755352787   </td><td>181383.89587446052  </td><td>70.04995836802664 </td><td>180058.8228693939  </td><td>567.2404109589039 </td><td>181246.74738478137</td><td>181286.7320662882   </td><td>2.8664383561643834</td><td>0.42534246575342466</td><td>180925.6569721805  </td><td>46.66027397260274</td><td>180952.46823719272</td><td>103.68526170798899</td><td>180373.08053504408    </td><td>185529.60426332333  </td><td>1984.8657534246574</td><td>183992.57690349972    </td><td>180930.1805271627  </td><td>181528.18075483205</td><td>180756.55353696752</td><td>185226.6184021392     </td></tr>\n",
       "<tr><td>maxs   </td><td>15500.0           </td><td>2010.0            </td><td>249838.17938356166   </td><td>1418.0            </td><td>190.0             </td><td>10.0              </td><td>1474.0            </td><td>205588.96885724587    </td><td>303388.17938356166  </td><td>252884.26063356161  </td><td>738.0            </td><td>2010.0            </td><td>231988.17938356166  </td><td>6110.0            </td><td>183429.1470588235   </td><td>182021.19537815126</td><td>215245.0         </td><td>208698.10092202318</td><td>857.0            </td><td>217414.6038516467  </td><td>180921.19589041095</td><td>258586.1685835616      </td><td>209050.13169125392</td><td>480.0             </td><td>4.0               </td><td>243677.15722447075  </td><td>3.0               </td><td>306409.64888356166   </td><td>5644.0           </td><td>186825.11319340332  </td><td>9.0               </td><td>5642.0           </td><td>230996.5403591714 </td><td>508.0             </td><td>4692.0            </td><td>2.0                 </td><td>14.0              </td><td>2.0                </td><td>3.0               </td><td>260841.78471143052</td><td>552.0             </td><td>246174.5144581885     </td><td>239638.17938356166   </td><td>225230.44204018547  </td><td>186433.973880597    </td><td>314193.80438356166   </td><td>186186.7098901099   </td><td>12.0              </td><td>572.0            </td><td>2065.0            </td><td>214914.42914979754 </td><td>198271.51271689494 </td><td>443638.17938356166</td><td>3.0               </td><td>200860.52553740775 </td><td>2010.0            </td><td>180921.19589041095</td><td>298288.17938356166   </td><td>223942.0283835616    </td><td>219131.92938356166  </td><td>313.0             </td><td>339394.99669125397 </td><td>2336.0            </td><td>305123.0645075286 </td><td>214138.17938356166  </td><td>8.0               </td><td>3.0                </td><td>180950.9568197395  </td><td>547.0            </td><td>181130.53851444292</td><td>1600.0            </td><td>312139.1988957568     </td><td>187885.73529411762  </td><td>2010.0            </td><td>235413.72009569374    </td><td>218876.93356643355 </td><td>185763.80737704918</td><td>358850.67938356166</td><td>240052.69034090912    </td></tr>\n",
       "<tr><td>sigma  </td><td>496.12302445794415</td><td>1.3280951205521223</td><td>29914.436650572974   </td><td>213.80484145338042</td><td>42.300570993810425</td><td>1.3829965467415934</td><td>161.31927280654173</td><td>6603.749871065184     </td><td>6719.638945197751   </td><td>31543.161815751482  </td><td>40.17730694453018</td><td>23.994583259057627</td><td>10944.947132216425  </td><td>438.7053244594708 </td><td>8755.055987465967   </td><td>8132.201961769336 </td><td>9981.26493237915 </td><td>11332.90762572193 </td><td>125.3387943517241</td><td>9943.507102908728  </td><td>9199.965899733392 </td><td>24995.900932371645     </td><td>25225.70598428166 </td><td>55.75741528187418 </td><td>0.7473150101111093</td><td>33494.727994333276  </td><td>0.5509158012954317</td><td>49229.01118377663    </td><td>456.0980908409277</td><td>16741.16485371695   </td><td>1.1127993367127316</td><td>525.4803834232025</td><td>21272.631077653503</td><td>29.31733055678188 </td><td>386.58773804107426</td><td>0.23875264627921175 </td><td>1.6253932905840505</td><td>0.5028853810928913 </td><td>0.6446663863122294</td><td>25271.86241972533 </td><td>61.1191486017286  </td><td>25515.29378902042     </td><td>5527.353781459383    </td><td>39070.30639866845   </td><td>15995.56870002521   </td><td>25477.158334629      </td><td>17166.092604126618  </td><td>2.7036262083595126</td><td>48.62308143352019</td><td>436.52843588625666</td><td>34666.66777194154  </td><td>10482.690830373836 </td><td>9811.50650462151  </td><td>0.2203381983840307</td><td>3528.9268472711374 </td><td>30.202904042525265</td><td>11884.506720639189</td><td>29917.67531423238    </td><td>10850.853989010158   </td><td>12314.053319111306  </td><td>22.024022688706957</td><td>51432.65998402599  </td><td>441.86695529243417</td><td>47656.60886264883 </td><td>22593.835915138952  </td><td>0.8157780441442284</td><td>0.5189106060898064 </td><td>966.7058178704257  </td><td>66.25602767664971</td><td>2772.980368038711 </td><td>180.569112425972  </td><td>50481.02961541156     </td><td>10969.789200388806  </td><td>20.645406807709403</td><td>33291.78885748056     </td><td>18994.150242838477 </td><td>12749.133741355357</td><td>11981.250103382894</td><td>39717.84469831968     </td></tr>\n",
       "<tr><td>zeros  </td><td>1408              </td><td>0                 </td><td>0                    </td><td>81                </td><td>0                 </td><td>0                 </td><td>1293              </td><td>0                     </td><td>0                   </td><td>0                   </td><td>1453             </td><td>0                 </td><td>0                   </td><td>37                </td><td>0                   </td><td>0                 </td><td>0                </td><td>0                 </td><td>761              </td><td>0                  </td><td>0                 </td><td>0                      </td><td>0                 </td><td>1344              </td><td>81                </td><td>0                   </td><td>9                 </td><td>0                    </td><td>467              </td><td>0                   </td><td>0                 </td><td>0                </td><td>0                 </td><td>1436              </td><td>0                 </td><td>1378                </td><td>0                 </td><td>913                </td><td>690               </td><td>0                 </td><td>1252              </td><td>0                     </td><td>0                    </td><td>0                   </td><td>0                   </td><td>0                    </td><td>0                   </td><td>0                 </td><td>1434             </td><td>829               </td><td>0                  </td><td>0                  </td><td>0                 </td><td>1                 </td><td>0                  </td><td>0                 </td><td>0                 </td><td>0                    </td><td>0                    </td><td>0                   </td><td>0                 </td><td>0                  </td><td>118               </td><td>0                 </td><td>0                   </td><td>6                 </td><td>856                </td><td>0                  </td><td>656              </td><td>0                 </td><td>861               </td><td>0                     </td><td>0                   </td><td>0                 </td><td>0                     </td><td>0                  </td><td>0                 </td><td>0                 </td><td>0                     </td></tr>\n",
       "<tr><td>missing</td><td>0                 </td><td>0                 </td><td>0                    </td><td>0                 </td><td>0                 </td><td>0                 </td><td>0                 </td><td>0                     </td><td>0                   </td><td>0                   </td><td>0                </td><td>0                 </td><td>0                   </td><td>0                 </td><td>0                   </td><td>0                 </td><td>0                </td><td>0                 </td><td>0                </td><td>0                  </td><td>0                 </td><td>0                      </td><td>0                 </td><td>0                 </td><td>0                 </td><td>0                   </td><td>0                 </td><td>0                    </td><td>0                </td><td>0                   </td><td>0                 </td><td>0                </td><td>0                 </td><td>0                 </td><td>0                 </td><td>0                   </td><td>0                 </td><td>0                  </td><td>0                 </td><td>0                 </td><td>0                 </td><td>0                     </td><td>0                    </td><td>0                   </td><td>0                   </td><td>0                    </td><td>0                   </td><td>0                 </td><td>0                </td><td>0                 </td><td>0                  </td><td>0                  </td><td>0                 </td><td>0                 </td><td>0                  </td><td>0                 </td><td>0                 </td><td>0                    </td><td>0                    </td><td>0                   </td><td>0                 </td><td>0                  </td><td>0                 </td><td>0                 </td><td>0                   </td><td>0                 </td><td>0                  </td><td>0                  </td><td>0                </td><td>0                 </td><td>0                 </td><td>0                     </td><td>0                   </td><td>0                 </td><td>0                     </td><td>0                  </td><td>0                 </td><td>0                 </td><td>0                     </td></tr>\n",
       "<tr><td>0      </td><td>0.0               </td><td>2008.0            </td><td>213732.90097087374   </td><td>548.0             </td><td>60.0              </td><td>7.0               </td><td>0.0               </td><td>184694.69028662422    </td><td>181169.40553633214  </td><td>204691.87191011236  </td><td>0.0              </td><td>2003.0            </td><td>187489.8360030511   </td><td>856.0             </td><td>183429.1470588235   </td><td>182021.19537815126</td><td>8450.0           </td><td>183632.62090007632</td><td>0.0              </td><td>176938.0475285171  </td><td>180921.19589041095</td><td>175202.21953255427     </td><td>191004.9947871416 </td><td>0.0               </td><td>2.0               </td><td>202892.65632183908  </td><td>2.0               </td><td>212116.02389078494   </td><td>706.0            </td><td>186825.11319340332  </td><td>5.0               </td><td>1710.0           </td><td>164754.81837837838</td><td>0.0               </td><td>856.0             </td><td>0.0                 </td><td>8.0               </td><td>1.0                </td><td>0.0               </td><td>173401.83662194162</td><td>0.0               </td><td>165652.29590766       </td><td>180921.19589041095   </td><td>225230.44204018547  </td><td>186433.973880597    </td><td>180921.19589041095   </td><td>186186.7098901099   </td><td>2.0               </td><td>0.0              </td><td>854.0             </td><td>214914.42914979754 </td><td>184034.89625585024 </td><td>180921.19589041095</td><td>1.0               </td><td>179956.7995658466  </td><td>2003.0            </td><td>180921.19589041095</td><td>214432.4603174603    </td><td>180183.74675819982   </td><td>184495.49206349207  </td><td>65.0              </td><td>231633.51024590162 </td><td>150.0             </td><td>202688.47896440132</td><td>210051.76404494382  </td><td>3.0               </td><td>1.0                </td><td>180950.9568197395  </td><td>61.0             </td><td>181130.53851444292</td><td>196.0             </td><td>197965.77333333335    </td><td>187885.73529411762  </td><td>2003.0            </td><td>235413.72009569374    </td><td>171483.95617879054 </td><td>185763.80737704918</td><td>179803.6792189679 </td><td>202068.86966824642    </td></tr>\n",
       "<tr><td>1      </td><td>0.0               </td><td>2007.0            </td><td>149422.17727272728   </td><td>460.0             </td><td>20.0              </td><td>6.0               </td><td>0.0               </td><td>184694.69028662422    </td><td>181169.40553633214  </td><td>156221.8912037037   </td><td>0.0              </td><td>1976.0            </td><td>187489.8360030511   </td><td>1262.0            </td><td>183429.1470588235   </td><td>182021.19537815126</td><td>9600.0           </td><td>183632.62090007632</td><td>298.0            </td><td>178382.56768143398 </td><td>180921.19589041095</td><td>175202.21953255427     </td><td>191004.9947871416 </td><td>0.0               </td><td>2.0               </td><td>202892.65632183908  </td><td>2.0               </td><td>139962.51156462586   </td><td>978.0            </td><td>186825.11319340332  </td><td>8.0               </td><td>1262.0           </td><td>164754.81837837838</td><td>0.0               </td><td>1262.0            </td><td>1.0                 </td><td>6.0               </td><td>0.0                </td><td>1.0               </td><td>173401.83662194162</td><td>0.0               </td><td>246174.5144581885     </td><td>180921.19589041095   </td><td>149805.714511041    </td><td>186433.973880597    </td><td>205723.48881789134   </td><td>186186.7098901099   </td><td>5.0               </td><td>0.0              </td><td>0.0               </td><td>214914.42914979754 </td><td>184034.89625585024 </td><td>180921.19589041095</td><td>1.0               </td><td>179956.7995658466  </td><td>1976.0            </td><td>180921.19589041095</td><td>149803.17289719626   </td><td>180183.74675819982   </td><td>148242.33864282092  </td><td>80.0              </td><td>144341.31346578366 </td><td>284.0             </td><td>202688.47896440132</td><td>175985.4779614325   </td><td>3.0               </td><td>0.0                </td><td>180950.9568197395  </td><td>0.0              </td><td>181130.53851444292</td><td>0.0               </td><td>230094.99756537983    </td><td>187885.73529411762  </td><td>1976.0            </td><td>161573.06818181818    </td><td>171483.95617879054 </td><td>185763.80737704918</td><td>179803.6792189679 </td><td>202068.86966824642    </td></tr>\n",
       "<tr><td>2      </td><td>0.0               </td><td>2008.0            </td><td>213732.90097087374   </td><td>608.0             </td><td>60.0              </td><td>7.0               </td><td>0.0               </td><td>184694.69028662422    </td><td>181169.40553633214  </td><td>204691.87191011236  </td><td>0.0              </td><td>2001.0            </td><td>187489.8360030511   </td><td>920.0             </td><td>183429.1470588235   </td><td>182021.19537815126</td><td>11250.0          </td><td>183632.62090007632</td><td>0.0              </td><td>176938.0475285171  </td><td>180921.19589041095</td><td>175202.21953255427     </td><td>191004.9947871416 </td><td>0.0               </td><td>2.0               </td><td>202892.65632183908  </td><td>2.0               </td><td>212116.02389078494   </td><td>486.0            </td><td>186825.11319340332  </td><td>5.0               </td><td>1786.0           </td><td>206101.6652892562 </td><td>0.0               </td><td>920.0             </td><td>0.0                 </td><td>6.0               </td><td>1.0                </td><td>1.0               </td><td>173401.83662194162</td><td>0.0               </td><td>191009.38859408794    </td><td>180921.19589041095   </td><td>225230.44204018547  </td><td>186433.973880597    </td><td>205723.48881789134   </td><td>186186.7098901099   </td><td>9.0               </td><td>0.0              </td><td>866.0             </td><td>214914.42914979754 </td><td>184034.89625585024 </td><td>180921.19589041095</td><td>1.0               </td><td>179956.7995658466  </td><td>2001.0            </td><td>180921.19589041095</td><td>214432.4603174603    </td><td>180183.74675819982   </td><td>184495.49206349207  </td><td>68.0              </td><td>231633.51024590162 </td><td>434.0             </td><td>202688.47896440132</td><td>210051.76404494382  </td><td>3.0               </td><td>1.0                </td><td>180950.9568197395  </td><td>42.0             </td><td>181130.53851444292</td><td>162.0             </td><td>197965.77333333335    </td><td>187885.73529411762  </td><td>2002.0            </td><td>235413.72009569374    </td><td>171483.95617879054 </td><td>185763.80737704918</td><td>179803.6792189679 </td><td>202068.86966824642    </td></tr>\n",
       "<tr><td>3      </td><td>0.0               </td><td>2006.0            </td><td>149841.64563106795   </td><td>642.0             </td><td>70.0              </td><td>7.0               </td><td>0.0               </td><td>184694.69028662422    </td><td>181169.40553633214  </td><td>156221.8912037037   </td><td>0.0              </td><td>1998.0            </td><td>187489.8360030511   </td><td>756.0             </td><td>183429.1470588235   </td><td>182021.19537815126</td><td>9550.0           </td><td>208698.10092202318</td><td>0.0              </td><td>181623.4258555133  </td><td>180921.19589041095</td><td>151685.80958158144     </td><td>191004.9947871416 </td><td>0.0               </td><td>3.0               </td><td>134091.16279069768  </td><td>1.0               </td><td>212116.02389078494   </td><td>216.0            </td><td>186825.11319340332  </td><td>5.0               </td><td>1717.0           </td><td>206101.6652892562 </td><td>0.0               </td><td>961.0             </td><td>0.0                 </td><td>7.0               </td><td>0.0                </td><td>1.0               </td><td>173401.83662194162</td><td>272.0             </td><td>165652.29590766       </td><td>180921.19589041095   </td><td>139585.5934246575   </td><td>186433.973880597    </td><td>226351.41578947366   </td><td>186186.7098901099   </td><td>2.0               </td><td>0.0              </td><td>756.0             </td><td>156858.87136929462 </td><td>184034.89625585024 </td><td>180921.19589041095</td><td>1.0               </td><td>179956.7995658466  </td><td>1915.0            </td><td>180921.19589041095</td><td>164267.78464671952   </td><td>180183.74675819982   </td><td>184495.49206349207  </td><td>60.0              </td><td>144341.31346578366 </td><td>540.0             </td><td>140759.81818181818</td><td>210051.76404494382  </td><td>3.0               </td><td>1.0                </td><td>180950.9568197395  </td><td>35.0             </td><td>181130.53851444292</td><td>0.0               </td><td>206169.19605022832    </td><td>187885.73529411762  </td><td>1970.0            </td><td>161573.06818181818    </td><td>171483.95617879054 </td><td>185763.80737704918</td><td>179803.6792189679 </td><td>142156.42314049587    </td></tr>\n",
       "<tr><td>4      </td><td>0.0               </td><td>2008.0            </td><td>213732.90097087374   </td><td>836.0             </td><td>60.0              </td><td>8.0               </td><td>0.0               </td><td>184694.69028662422    </td><td>181169.40553633214  </td><td>204691.87191011236  </td><td>0.0              </td><td>2000.0            </td><td>187489.8360030511   </td><td>1145.0            </td><td>183429.1470588235   </td><td>182021.19537815126</td><td>14260.0          </td><td>183632.62090007632</td><td>192.0            </td><td>178382.56768143398 </td><td>180921.19589041095</td><td>175202.21953255427     </td><td>191004.9947871416 </td><td>0.0               </td><td>3.0               </td><td>202892.65632183908  </td><td>2.0               </td><td>212116.02389078494   </td><td>655.0            </td><td>186825.11319340332  </td><td>5.0               </td><td>2198.0           </td><td>206101.6652892562 </td><td>0.0               </td><td>1145.0            </td><td>0.0                 </td><td>9.0               </td><td>1.0                </td><td>1.0               </td><td>173401.83662194162</td><td>0.0               </td><td>206643.4208144796     </td><td>180921.19589041095   </td><td>225230.44204018547  </td><td>186433.973880597    </td><td>205723.48881789134   </td><td>186186.7098901099   </td><td>12.0              </td><td>0.0              </td><td>1053.0            </td><td>214914.42914979754 </td><td>184034.89625585024 </td><td>180921.19589041095</td><td>1.0               </td><td>179956.7995658466  </td><td>2000.0            </td><td>180921.19589041095</td><td>214432.4603174603    </td><td>180183.74675819982   </td><td>184495.49206349207  </td><td>84.0              </td><td>231633.51024590162 </td><td>490.0             </td><td>202688.47896440132</td><td>210051.76404494382  </td><td>4.0               </td><td>1.0                </td><td>180950.9568197395  </td><td>84.0             </td><td>181130.53851444292</td><td>350.0             </td><td>312139.1988957568     </td><td>187885.73529411762  </td><td>2000.0            </td><td>235413.72009569374    </td><td>171483.95617879054 </td><td>185763.80737704918</td><td>179803.6792189679 </td><td>202068.86966824642    </td></tr>\n",
       "<tr><td>5      </td><td>700.0             </td><td>2009.0            </td><td>213732.90097087374   </td><td>480.0             </td><td>50.0              </td><td>5.0               </td><td>0.0               </td><td>184694.69028662422    </td><td>181169.40553633214  </td><td>156221.8912037037   </td><td>0.0              </td><td>1993.0            </td><td>187489.8360030511   </td><td>796.0             </td><td>183429.1470588235   </td><td>182021.19537815126</td><td>14115.0          </td><td>183632.62090007632</td><td>40.0             </td><td>176938.0475285171  </td><td>180921.19589041095</td><td>175202.21953255427     </td><td>191004.9947871416 </td><td>0.0               </td><td>2.0               </td><td>202892.65632183908  </td><td>1.0               </td><td>139962.51156462586   </td><td>732.0            </td><td>186825.11319340332  </td><td>5.0               </td><td>1362.0           </td><td>206101.6652892562 </td><td>320.0             </td><td>796.0             </td><td>0.0                 </td><td>5.0               </td><td>1.0                </td><td>0.0               </td><td>173401.83662194162</td><td>0.0               </td><td>165652.29590766       </td><td>155647.64979172492   </td><td>184954.84605022828  </td><td>186433.973880597    </td><td>180921.19589041095   </td><td>186186.7098901099   </td><td>10.0              </td><td>0.0              </td><td>566.0             </td><td>214914.42914979754 </td><td>184034.89625585024 </td><td>180921.19589041095</td><td>1.0               </td><td>179956.7995658466  </td><td>1993.0            </td><td>148751.0891719745 </td><td>214432.4603174603    </td><td>180183.74675819982   </td><td>184495.49206349207  </td><td>85.0              </td><td>144341.31346578366 </td><td>64.0              </td><td>202688.47896440132</td><td>143116.74025974027  </td><td>1.0               </td><td>1.0                </td><td>180950.9568197395  </td><td>30.0             </td><td>181130.53851444292</td><td>0.0               </td><td>159967.78346519428    </td><td>187885.73529411762  </td><td>1995.0            </td><td>235413.72009569374    </td><td>171483.95617879054 </td><td>185763.80737704918</td><td>179803.6792189679 </td><td>142156.42314049587    </td></tr>\n",
       "<tr><td>6      </td><td>0.0               </td><td>2007.0            </td><td>213732.90097087374   </td><td>636.0             </td><td>20.0              </td><td>8.0               </td><td>0.0               </td><td>184694.69028662422    </td><td>181169.40553633214  </td><td>252884.26063356161  </td><td>0.0              </td><td>2004.0            </td><td>187489.8360030511   </td><td>1686.0            </td><td>183429.1470588235   </td><td>182021.19537815126</td><td>10084.0          </td><td>183632.62090007632</td><td>255.0            </td><td>176938.0475285171  </td><td>180921.19589041095</td><td>175202.21953255427     </td><td>191004.9947871416 </td><td>0.0               </td><td>2.0               </td><td>202892.65632183908  </td><td>2.0               </td><td>212116.02389078494   </td><td>1369.0           </td><td>186825.11319340332  </td><td>5.0               </td><td>1694.0           </td><td>164754.81837837838</td><td>0.0               </td><td>1694.0            </td><td>0.0                 </td><td>7.0               </td><td>0.0                </td><td>1.0               </td><td>173401.83662194162</td><td>0.0               </td><td>206643.4208144796     </td><td>180921.19589041095   </td><td>225230.44204018547  </td><td>186433.973880597    </td><td>226351.41578947366   </td><td>186186.7098901099   </td><td>8.0               </td><td>0.0              </td><td>0.0               </td><td>214914.42914979754 </td><td>184034.89625585024 </td><td>180921.19589041095</td><td>1.0               </td><td>179956.7995658466  </td><td>2004.0            </td><td>180921.19589041095</td><td>214432.4603174603    </td><td>180183.74675819982   </td><td>184495.49206349207  </td><td>75.0              </td><td>231633.51024590162 </td><td>317.0             </td><td>305123.0645075286 </td><td>175985.4779614325   </td><td>3.0               </td><td>1.0                </td><td>180950.9568197395  </td><td>57.0             </td><td>181130.53851444292</td><td>186.0             </td><td>218711.04101146862    </td><td>187885.73529411762  </td><td>2005.0            </td><td>235413.72009569374    </td><td>171483.95617879054 </td><td>185763.80737704918</td><td>179803.6792189679 </td><td>202068.86966824642    </td></tr>\n",
       "<tr><td>7      </td><td>350.0             </td><td>2009.0            </td><td>163077.45045045044   </td><td>484.0             </td><td>60.0              </td><td>7.0               </td><td>32.0              </td><td>155574.02938356163    </td><td>181169.40553633214  </td><td>252884.26063356161  </td><td>0.0              </td><td>1973.0            </td><td>187489.8360030511   </td><td>1107.0            </td><td>183429.1470588235   </td><td>182021.19537815126</td><td>10382.0          </td><td>183632.62090007632</td><td>235.0            </td><td>181623.4258555133  </td><td>180921.19589041095</td><td>175202.21953255427     </td><td>191004.9947871416 </td><td>0.0               </td><td>2.0               </td><td>202892.65632183908  </td><td>2.0               </td><td>139962.51156462586   </td><td>859.0            </td><td>186825.11319340332  </td><td>6.0               </td><td>2090.0           </td><td>206101.6652892562 </td><td>0.0               </td><td>1107.0            </td><td>0.0                 </td><td>7.0               </td><td>1.0                </td><td>2.0               </td><td>173401.83662194162</td><td>228.0             </td><td>191009.38859408794    </td><td>155647.64979172492   </td><td>149805.714511041    </td><td>186433.973880597    </td><td>205723.48881789134   </td><td>186186.7098901099   </td><td>11.0              </td><td>0.0              </td><td>983.0             </td><td>214914.42914979754 </td><td>184034.89625585024 </td><td>180921.19589041095</td><td>1.0               </td><td>179956.7995658466  </td><td>1973.0            </td><td>180921.19589041095</td><td>167661.5652173913    </td><td>180183.74675819982   </td><td>210044.75833093005  </td><td>70.04995836802664 </td><td>144341.31346578366 </td><td>216.0             </td><td>202688.47896440132</td><td>210051.76404494382  </td><td>3.0               </td><td>1.0                </td><td>180950.9568197395  </td><td>204.0            </td><td>181130.53851444292</td><td>240.0             </td><td>187830.7376027397     </td><td>187885.73529411762  </td><td>1973.0            </td><td>161573.06818181818    </td><td>171483.95617879054 </td><td>185763.80737704918</td><td>179803.6792189679 </td><td>202068.86966824642    </td></tr>\n",
       "<tr><td>8      </td><td>0.0               </td><td>2008.0            </td><td>192525.22938356161   </td><td>468.0             </td><td>50.0              </td><td>7.0               </td><td>0.0               </td><td>184694.69028662422    </td><td>181169.40553633214  </td><td>156221.8912037037   </td><td>0.0              </td><td>1931.0            </td><td>132175.5304252283   </td><td>952.0             </td><td>151565.8406738842   </td><td>182021.19537815126</td><td>6120.0           </td><td>183632.62090007632</td><td>90.0             </td><td>176938.0475285171  </td><td>180921.19589041095</td><td>151685.80958158144     </td><td>126316.83027522935</td><td>0.0               </td><td>2.0               </td><td>134091.16279069768  </td><td>2.0               </td><td>139962.51156462586   </td><td>0.0              </td><td>118662.3071613394   </td><td>5.0               </td><td>1774.0           </td><td>164754.81837837838</td><td>0.0               </td><td>1022.0            </td><td>0.0                 </td><td>8.0               </td><td>0.0                </td><td>2.0               </td><td>173401.83662194162</td><td>205.0             </td><td>165652.29590766       </td><td>180921.19589041095   </td><td>139585.5934246575   </td><td>186433.973880597    </td><td>205723.48881789134   </td><td>186186.7098901099   </td><td>4.0               </td><td>0.0              </td><td>752.0             </td><td>156858.87136929462 </td><td>184034.89625585024 </td><td>180921.19589041095</td><td>2.0               </td><td>179956.7995658466  </td><td>1931.0            </td><td>180921.19589041095</td><td>164267.78464671952   </td><td>180183.74675819982   </td><td>141966.09605022828  </td><td>51.0              </td><td>144341.31346578366 </td><td>952.0             </td><td>140759.81818181818</td><td>143116.74025974027  </td><td>2.0               </td><td>0.0                </td><td>180950.9568197395  </td><td>0.0              </td><td>181130.53851444292</td><td>0.0               </td><td>136129.68513577402    </td><td>187885.73529411762  </td><td>1950.0            </td><td>170670.57674418602    </td><td>171483.95617879054 </td><td>185763.80737704918</td><td>179803.6792189679 </td><td>142156.42314049587    </td></tr>\n",
       "<tr><td>9      </td><td>0.0               </td><td>2008.0            </td><td>149422.17727272728   </td><td>205.0             </td><td>190.0             </td><td>5.0               </td><td>0.0               </td><td>184694.69028662422    </td><td>117663.17938356163  </td><td>156221.8912037037   </td><td>0.0              </td><td>1939.0            </td><td>210619.78652641876  </td><td>991.0             </td><td>183429.1470588235   </td><td>182021.19537815126</td><td>7420.0           </td><td>183632.62090007632</td><td>0.0              </td><td>181623.4258555133  </td><td>180921.19589041095</td><td>175202.21953255427     </td><td>191004.9947871416 </td><td>0.0               </td><td>1.0               </td><td>202892.65632183908  </td><td>1.0               </td><td>139962.51156462586   </td><td>851.0            </td><td>186825.11319340332  </td><td>6.0               </td><td>1077.0           </td><td>164754.81837837838</td><td>0.0               </td><td>1077.0            </td><td>0.0                 </td><td>5.0               </td><td>0.0                </td><td>2.0               </td><td>173401.83662194162</td><td>0.0               </td><td>165652.29590766       </td><td>180921.19589041095   </td><td>139585.5934246575   </td><td>186433.973880597    </td><td>205723.48881789134   </td><td>186186.7098901099   </td><td>1.0               </td><td>0.0              </td><td>0.0               </td><td>214914.42914979754 </td><td>184034.89625585024 </td><td>180921.19589041095</td><td>2.0               </td><td>179956.7995658466  </td><td>1939.0            </td><td>180921.19589041095</td><td>149803.17289719626   </td><td>180183.74675819982   </td><td>141966.09605022828  </td><td>50.0              </td><td>144341.31346578366 </td><td>140.0             </td><td>140759.81818181818</td><td>120765.67938356163  </td><td>2.0               </td><td>1.0                </td><td>180950.9568197395  </td><td>4.0              </td><td>181130.53851444292</td><td>0.0               </td><td>133247.12334907887    </td><td>187885.73529411762  </td><td>1950.0            </td><td>235413.72009569374    </td><td>171483.95617879054 </td><td>136305.59873840035</td><td>179803.6792189679 </td><td>202068.86966824642    </td></tr>\n",
       "</tbody>\n",
       "</table>"
      ]
     },
     "metadata": {},
     "output_type": "display_data"
    },
    {
     "name": "stdout",
     "output_type": "stream",
     "text": [
      "--------------------------------------------------------------------------------\n",
      "Imputed and encoded numeric test data:\n",
      "Rows:1459\n",
      "Cols:79\n",
      "\n",
      "\n"
     ]
    },
    {
     "data": {
      "text/html": [
       "<table>\n",
       "<thead>\n",
       "<tr><th>       </th><th>MiscVal          </th><th>YrSold            </th><th>Exterior1st_Tencode  </th><th>GarageArea        </th><th>MSSubClass       </th><th>OverallQual       </th><th>BsmtFinSF2       </th><th>BsmtFinType2_Tencode  </th><th>Condition2_Tencode  </th><th>MasVnrType_Tencode  </th><th>PoolArea          </th><th>GarageYrBlt       </th><th>GarageQual_Tencode  </th><th>TotalBsmtSF       </th><th>Functional_Tencode  </th><th>Heating_Tencode   </th><th>LotArea          </th><th>BsmtCond_Tencode  </th><th>WoodDeckSF        </th><th>LotConfig_Tencode  </th><th>Alley_Tencode     </th><th>SaleCondition_Tencode  </th><th>MSZoning_Tencode  </th><th>ScreenPorch       </th><th>GarageCars        </th><th>GarageType_Tencode  </th><th>FullBath          </th><th>KitchenQual_Tencode  </th><th>BsmtFinSF1        </th><th>Electrical_Tencode  </th><th>OverallCond       </th><th>GrLivArea         </th><th>LotShape_Tencode  </th><th>3SsnPorch         </th><th>1stFlrSF         </th><th>BsmtHalfBath       </th><th>TotRmsAbvGrd      </th><th>HalfBath          </th><th>Fireplaces        </th><th>SaleType_Tencode  </th><th>EnclosedPorch    </th><th>BsmtExposure_Tencode  </th><th>MiscFeature_Tencode  </th><th>Foundation_Tencode  </th><th>PavedDrive_Tencode  </th><th>FireplaceQu_Tencode  </th><th>CentralAir_Tencode  </th><th>MoSold           </th><th>LowQualFinSF      </th><th>2ndFlrSF          </th><th>HeatingQC_Tencode  </th><th>ExterCond_Tencode  </th><th>PoolQC_Tencode    </th><th>KitchenAbvGr       </th><th>LandSlope_Tencode  </th><th>YearBuilt         </th><th>Fence_Tencode     </th><th>Exterior2nd_Tencode  </th><th>LandContour_Tencode  </th><th>Condition1_Tencode  </th><th>LotFrontage       </th><th>ExterQual_Tencode  </th><th>BsmtUnfSF         </th><th>BsmtQual_Tencode  </th><th>HouseStyle_Tencode  </th><th>BedroomAbvGr      </th><th>BsmtFullBath      </th><th>Utilities_Tencode  </th><th>OpenPorchSF      </th><th>Street_Tencode    </th><th>MasVnrArea        </th><th>Neighborhood_Tencode  </th><th>GarageCond_Tencode  </th><th>YearRemodAdd      </th><th>BsmtFinType1_Tencode  </th><th>RoofStyle_Tencode  </th><th>BldgType_Tencode  </th><th>RoofMatl_Tencode  </th><th>GarageFinish_Tencode  </th></tr>\n",
       "</thead>\n",
       "<tbody>\n",
       "<tr><td>type   </td><td>int              </td><td>int               </td><td>real                 </td><td>real              </td><td>int              </td><td>int               </td><td>real             </td><td>real                  </td><td>real                </td><td>real                </td><td>int               </td><td>real              </td><td>real                </td><td>real              </td><td>real                </td><td>real              </td><td>int              </td><td>real              </td><td>int               </td><td>real               </td><td>real              </td><td>real                   </td><td>real              </td><td>int               </td><td>real              </td><td>real                </td><td>int               </td><td>real                 </td><td>real              </td><td>real                </td><td>int               </td><td>int               </td><td>real              </td><td>int               </td><td>int              </td><td>real               </td><td>int               </td><td>int               </td><td>int               </td><td>real              </td><td>int              </td><td>real                  </td><td>real                 </td><td>real                </td><td>real                </td><td>real                 </td><td>real                </td><td>int              </td><td>int               </td><td>int               </td><td>real               </td><td>real               </td><td>real              </td><td>int                </td><td>real               </td><td>int               </td><td>real              </td><td>real                 </td><td>real                 </td><td>real                </td><td>real              </td><td>real               </td><td>real              </td><td>real              </td><td>real                </td><td>int               </td><td>real              </td><td>real               </td><td>int              </td><td>real              </td><td>real              </td><td>real                  </td><td>real                </td><td>int               </td><td>real                  </td><td>real               </td><td>real              </td><td>real              </td><td>real                  </td></tr>\n",
       "<tr><td>mins   </td><td>0.0              </td><td>2006.0            </td><td>87488.17938356164    </td><td>0.0               </td><td>20.0             </td><td>1.0               </td><td>0.0              </td><td>155574.02938356163    </td><td>117663.17938356163  </td><td>151508.53605022831  </td><td>0.0               </td><td>1895.0            </td><td>112279.84605022831  </td><td>0.0               </td><td>100068.17938356164  </td><td>91118.89366927592 </td><td>1470.0           </td><td>81538.17938356164 </td><td>0.0               </td><td>176938.0475285171  </td><td>131024.39738356163</td><td>115644.42938356163     </td><td>90486.97938356163 </td><td>0.0               </td><td>0.0               </td><td>120605.97382800607  </td><td>0.0               </td><td>116868.60374253601   </td><td>0.0               </td><td>109871.51271689495  </td><td>1.0               </td><td>407.0             </td><td>164754.81837837838</td><td>0.0               </td><td>407.0            </td><td>0.0                </td><td>3.0               </td><td>0.0               </td><td>0.0               </td><td>129010.67938356163</td><td>0.0              </td><td>165652.29590766       </td><td>107038.17938356163   </td><td>118398.96063356163  </td><td>124921.43327245054  </td><td>137437.70688356162   </td><td>116612.64201514059  </td><td>1.0              </td><td>0.0               </td><td>0.0               </td><td>101088.17938356164 </td><td>92163.17938356164  </td><td>180921.19589041095</td><td>0.0                </td><td>179956.7995658466  </td><td>1879.0            </td><td>141281.58847447074</td><td>116388.17938356163   </td><td>148776.6468438791    </td><td>141966.09605022828  </td><td>21.0              </td><td>101925.61152641877 </td><td>0.0               </td><td>125476.40366927591</td><td>120765.67938356163  </td><td>0.0               </td><td>0.0               </td><td>180921.19589041095 </td><td>0.0              </td><td>137800.10438356164</td><td>0.0               </td><td>110928.17938356163    </td><td>119363.17938356163  </td><td>1950.0            </td><td>151994.04028581732    </td><td>153710.9066562889  </td><td>136305.59873840035</td><td>179803.6792189679 </td><td>142156.42314049587    </td></tr>\n",
       "<tr><td>mean   </td><td>58.16792323509253</td><td>2007.7697052775875</td><td>180163.89739622173   </td><td>472.7688614540466 </td><td>57.37834132967786</td><td>6.078821110349555 </td><td>52.61934156378601</td><td>183200.1159337163     </td><td>181166.03732137333  </td><td>178895.07396658702  </td><td>1.7443454420836186</td><td>1977.7212165097756</td><td>184312.7546957362   </td><td>1046.1179698216736</td><td>181323.95712586772  </td><td>181709.87824014013</td><td>9819.161069225496</td><td>182176.83677290616</td><td>93.17477724468814 </td><td>180234.8138259489  </td><td>178248.7290662322 </td><td>179879.14016561164     </td><td>179772.83366709028</td><td>17.064427690198766</td><td>1.766117969821674 </td><td>184656.7295734541   </td><td>1.570938999314599 </td><td>179420.17532378223   </td><td>439.2037037037037 </td><td>181890.53298830043  </td><td>5.5538039753255655</td><td>1486.0459218642907</td><td>180249.28067462493</td><td>1.794379712131597 </td><td>1156.534612748458</td><td>0.06520247083047358</td><td>6.385195339273475 </td><td>0.3776559287183002</td><td>0.5812200137080191</td><td>179613.55995767802</td><td>24.24331734064428</td><td>181657.00791990335    </td><td>180005.30438727606   </td><td>182394.1607868111   </td><td>180094.92690285092  </td><td>197633.53114565878   </td><td>181370.41046901883  </td><td>6.104180945853324</td><td>3.5435229609321452</td><td>325.96778615490064</td><td>181724.34342026233 </td><td>180735.6325431525  </td><td>181293.60332733998</td><td>1.0424948594928032 </td><td>180592.19026393845 </td><td>1971.357779300891 </td><td>175663.07479793802</td><td>180766.37959959696   </td><td>181450.84022501088   </td><td>181389.31663321095  </td><td>68.58035714285714 </td><td>180460.36175619633 </td><td>554.2949245541838 </td><td>181935.06349994175</td><td>180645.50750293158  </td><td>2.8540095956134337</td><td>0.4344543582704186</td><td>180950.9160234005  </td><td>48.3139136394791 </td><td>180952.34618765383</td><td>100.70914127423823</td><td>178691.23051399062    </td><td>185422.7774534009   </td><td>1983.6627827278958</td><td>184645.88361245437    </td><td>180180.92858796637 </td><td>181077.96729000125</td><td>180110.94715035177</td><td>184827.78985491671    </td></tr>\n",
       "<tr><td>maxs   </td><td>17000.0          </td><td>2010.0            </td><td>224075.23676061083   </td><td>1488.0            </td><td>190.0            </td><td>10.0              </td><td>1526.0           </td><td>205588.96885724587    </td><td>303388.17938356166  </td><td>252884.26063356161  </td><td>800.0             </td><td>2207.0            </td><td>210619.78652641876  </td><td>5095.0            </td><td>183429.1470588235   </td><td>182021.19537815126</td><td>56600.0          </td><td>208698.10092202318</td><td>1424.0            </td><td>217414.6038516467  </td><td>180921.19589041095</td><td>258586.1685835616      </td><td>209050.13169125392</td><td>576.0             </td><td>5.0               </td><td>243677.15722447075  </td><td>4.0               </td><td>306409.64888356166   </td><td>4010.0            </td><td>186825.11319340332  </td><td>9.0               </td><td>5095.0            </td><td>230996.5403591714 </td><td>360.0             </td><td>5095.0           </td><td>2.0                </td><td>15.0              </td><td>2.0               </td><td>4.0               </td><td>260841.78471143052</td><td>1012.0           </td><td>246174.5144581885     </td><td>180921.19589041095   </td><td>225230.44204018547  </td><td>186433.973880597    </td><td>314193.80438356166   </td><td>186186.7098901099   </td><td>12.0             </td><td>1064.0            </td><td>1862.0            </td><td>214914.42914979754 </td><td>198271.51271689494 </td><td>443638.17938356166</td><td>2.0                </td><td>200860.52553740775 </td><td>2010.0            </td><td>180921.19589041095</td><td>241397.67938356166   </td><td>223942.0283835616    </td><td>219131.92938356166  </td><td>200.0             </td><td>339394.99669125397 </td><td>2140.0            </td><td>305123.0645075286 </td><td>210051.76404494382  </td><td>6.0               </td><td>3.0               </td><td>180950.9568197395  </td><td>742.0            </td><td>181130.53851444292</td><td>1290.0            </td><td>312139.1988957568     </td><td>187885.73529411762  </td><td>2010.0            </td><td>235413.72009569374    </td><td>218876.93356643355 </td><td>185763.80737704918</td><td>358850.67938356166</td><td>240052.69034090912    </td></tr>\n",
       "<tr><td>sigma  </td><td>630.806977589708 </td><td>1.3017401493802516</td><td>30250.128598541654   </td><td>216.97416468040285</td><td>42.74687961871821</td><td>1.4368116404730185</td><td>176.6933005286071</td><td>6937.024414397803     </td><td>7886.118532678368   </td><td>31099.431414115636  </td><td>30.491646305342066</td><td>25.714450581225446</td><td>12772.051363040684  </td><td>442.7467124418268 </td><td>8509.89337781406    </td><td>4513.24799843939  </td><td>4955.51732692645 </td><td>12553.821073086874</td><td>127.74488151907603</td><td>9497.698521695342  </td><td>10744.59776409127 </td><td>24731.653662849152     </td><td>26601.498858171566</td><td>56.60976290691056 </td><td>0.7756789263494978</td><td>33891.98972415376   </td><td>0.5551898880356613</td><td>49670.61898822971    </td><td>455.11188761326986</td><td>16435.264334940184  </td><td>1.1137396032892084</td><td>485.5660986532533 </td><td>21007.482821690806</td><td>20.207841751496495</td><td>398.165819592379 </td><td>0.2522950420673912 </td><td>1.5088945751925407</td><td>0.5030166769415858</td><td>0.6474204530720101</td><td>25094.752142737776</td><td>67.22776541956969</td><td>25775.0111492285      </td><td>5191.8172198489165   </td><td>39344.293983468306  </td><td>18299.887580977473  </td><td>24948.72737165791    </td><td>17666.542416715194  </td><td>2.722431901250806</td><td>44.043250864375565</td><td>420.61022646910345</td><td>34688.84802428603  </td><td>12268.18283576853  </td><td>9734.429579281119 </td><td>0.20847167211324957</td><td>3005.8010316979444 </td><td>30.390070837205236</td><td>11952.26463365001 </td><td>30002.097271302624   </td><td>11553.608282520534   </td><td>12590.223446516076  </td><td>20.561227856718492</td><td>52170.32875548794  </td><td>437.11050793486925</td><td>49534.39711455423 </td><td>22089.463682597365  </td><td>0.8297883627354511</td><td>0.5302834550232052</td><td>1.101500894957444  </td><td>68.88336411315397</td><td>2773.9272357112936</td><td>176.70982437239402</td><td>50974.02882249518     </td><td>11338.92012532926   </td><td>21.130466908170494</td><td>33609.43507941343     </td><td>18488.815422212643 </td><td>13354.983169030978</td><td>5446.272015364801 </td><td>40352.72959465669     </td></tr>\n",
       "<tr><td>zeros  </td><td>1408             </td><td>0                 </td><td>0                    </td><td>76                </td><td>0                </td><td>0                 </td><td>1278             </td><td>0                     </td><td>0                   </td><td>0                   </td><td>1453              </td><td>0                 </td><td>0                   </td><td>41                </td><td>0                   </td><td>0                 </td><td>0                </td><td>0                 </td><td>762               </td><td>0                  </td><td>0                 </td><td>0                      </td><td>0                 </td><td>1319              </td><td>76                </td><td>0                   </td><td>3                 </td><td>0                    </td><td>462               </td><td>0                   </td><td>0                 </td><td>0                 </td><td>0                 </td><td>1446              </td><td>0                </td><td>1364               </td><td>0                 </td><td>921               </td><td>730               </td><td>0                 </td><td>1208             </td><td>0                     </td><td>0                    </td><td>0                   </td><td>0                   </td><td>0                    </td><td>0                   </td><td>0                </td><td>1445              </td><td>839               </td><td>0                  </td><td>0                  </td><td>0                 </td><td>2                  </td><td>0                  </td><td>0                 </td><td>0                 </td><td>0                    </td><td>0                    </td><td>0                   </td><td>0                 </td><td>0                  </td><td>123               </td><td>0                 </td><td>0                   </td><td>2                 </td><td>849               </td><td>0                  </td><td>642              </td><td>0                 </td><td>877               </td><td>0                     </td><td>0                   </td><td>0                 </td><td>0                     </td><td>0                  </td><td>0                 </td><td>0                 </td><td>0                     </td></tr>\n",
       "<tr><td>missing</td><td>0                </td><td>0                 </td><td>0                    </td><td>0                 </td><td>0                </td><td>0                 </td><td>0                </td><td>0                     </td><td>0                   </td><td>0                   </td><td>0                 </td><td>0                 </td><td>0                   </td><td>0                 </td><td>0                   </td><td>0                 </td><td>0                </td><td>0                 </td><td>0                 </td><td>0                  </td><td>0                 </td><td>0                      </td><td>0                 </td><td>0                 </td><td>0                 </td><td>0                   </td><td>0                 </td><td>0                    </td><td>0                 </td><td>0                   </td><td>0                 </td><td>0                 </td><td>0                 </td><td>0                 </td><td>0                </td><td>0                  </td><td>0                 </td><td>0                 </td><td>0                 </td><td>0                 </td><td>0                </td><td>0                     </td><td>0                    </td><td>0                   </td><td>0                   </td><td>0                    </td><td>0                   </td><td>0                </td><td>0                 </td><td>0                 </td><td>0                  </td><td>0                  </td><td>0                 </td><td>0                  </td><td>0                  </td><td>0                 </td><td>0                 </td><td>0                    </td><td>0                    </td><td>0                   </td><td>0                 </td><td>0                  </td><td>0                 </td><td>0                 </td><td>0                   </td><td>0                 </td><td>0                 </td><td>0                  </td><td>0                </td><td>0                 </td><td>0                 </td><td>0                     </td><td>0                   </td><td>0                 </td><td>0                     </td><td>0                  </td><td>0                 </td><td>0                 </td><td>0                     </td></tr>\n",
       "<tr><td>0      </td><td>0.0              </td><td>2010.0            </td><td>213732.90097087374   </td><td>730.0             </td><td>20.0             </td><td>5.0               </td><td>144.0            </td><td>166847.69025312684    </td><td>181169.40553633214  </td><td>156221.8912037037   </td><td>0.0               </td><td>1961.0            </td><td>187489.8360030511   </td><td>882.0             </td><td>183429.1470588235   </td><td>182021.19537815126</td><td>11622.0          </td><td>183632.62090007632</td><td>140.0             </td><td>176938.0475285171  </td><td>180921.19589041095</td><td>175202.21953255427     </td><td>138962.79813356162</td><td>120.0             </td><td>1.0               </td><td>202892.65632183908  </td><td>1.0               </td><td>139962.51156462586   </td><td>468.0             </td><td>186825.11319340332  </td><td>6.0               </td><td>896.0             </td><td>164754.81837837838</td><td>0.0               </td><td>896.0            </td><td>0.0                </td><td>5.0               </td><td>0.0               </td><td>0.0               </td><td>173401.83662194162</td><td>0.0              </td><td>165652.29590766       </td><td>180921.19589041095   </td><td>149805.714511041    </td><td>186433.973880597    </td><td>180921.19589041095   </td><td>186186.7098901099   </td><td>6.0              </td><td>0.0               </td><td>0.0               </td><td>142362.8761682243  </td><td>184034.89625585024 </td><td>180921.19589041095</td><td>1.0                </td><td>179956.7995658466  </td><td>1961.0            </td><td>148751.0891719745 </td><td>214432.4603174603    </td><td>180183.74675819982   </td><td>148242.33864282092  </td><td>80.0              </td><td>144341.31346578366 </td><td>270.0             </td><td>140759.81818181818</td><td>175985.4779614325   </td><td>2.0               </td><td>0.0               </td><td>180950.9568197395  </td><td>0.0              </td><td>181130.53851444292</td><td>0.0               </td><td>145847.08000000002    </td><td>187885.73529411762  </td><td>1961.0            </td><td>151994.04028581732    </td><td>171483.95617879054 </td><td>185763.80737704918</td><td>179803.6792189679 </td><td>142156.42314049587    </td></tr>\n",
       "<tr><td>1      </td><td>12500.0          </td><td>2010.0            </td><td>149841.64563106795   </td><td>312.0             </td><td>20.0             </td><td>6.0               </td><td>0.0              </td><td>184694.69028662422    </td><td>181169.40553633214  </td><td>204691.87191011236  </td><td>0.0               </td><td>1958.0            </td><td>187489.8360030511   </td><td>1329.0            </td><td>183429.1470588235   </td><td>182021.19537815126</td><td>14267.0          </td><td>183632.62090007632</td><td>393.0             </td><td>181623.4258555133  </td><td>180921.19589041095</td><td>175202.21953255427     </td><td>191004.9947871416 </td><td>0.0               </td><td>1.0               </td><td>202892.65632183908  </td><td>1.0               </td><td>212116.02389078494   </td><td>923.0             </td><td>186825.11319340332  </td><td>6.0               </td><td>1329.0            </td><td>206101.6652892562 </td><td>0.0               </td><td>1329.0           </td><td>0.0                </td><td>6.0               </td><td>1.0               </td><td>0.0               </td><td>173401.83662194162</td><td>0.0              </td><td>165652.29590766       </td><td>172275.67938356166   </td><td>149805.714511041    </td><td>186433.973880597    </td><td>180921.19589041095   </td><td>186186.7098901099   </td><td>6.0              </td><td>0.0               </td><td>0.0               </td><td>142362.8761682243  </td><td>184034.89625585024 </td><td>180921.19589041095</td><td>1.0                </td><td>179956.7995658466  </td><td>1958.0            </td><td>180921.19589041095</td><td>148386.0659898477    </td><td>180183.74675819982   </td><td>184495.49206349207  </td><td>81.0              </td><td>144341.31346578366 </td><td>406.0             </td><td>140759.81818181818</td><td>175985.4779614325   </td><td>3.0               </td><td>0.0               </td><td>180950.9568197395  </td><td>36.0             </td><td>181130.53851444292</td><td>108.0             </td><td>145847.08000000002    </td><td>187885.73529411762  </td><td>1958.0            </td><td>161573.06818181818    </td><td>218876.93356643355 </td><td>185763.80737704918</td><td>179803.6792189679 </td><td>142156.42314049587    </td></tr>\n",
       "<tr><td>2      </td><td>0.0              </td><td>2010.0            </td><td>213732.90097087374   </td><td>482.0             </td><td>60.0             </td><td>5.0               </td><td>0.0              </td><td>184694.69028662422    </td><td>181169.40553633214  </td><td>156221.8912037037   </td><td>0.0               </td><td>1997.0            </td><td>187489.8360030511   </td><td>928.0             </td><td>183429.1470588235   </td><td>182021.19537815126</td><td>13830.0          </td><td>183632.62090007632</td><td>212.0             </td><td>176938.0475285171  </td><td>180921.19589041095</td><td>175202.21953255427     </td><td>191004.9947871416 </td><td>0.0               </td><td>2.0               </td><td>202892.65632183908  </td><td>2.0               </td><td>139962.51156462586   </td><td>791.0             </td><td>186825.11319340332  </td><td>5.0               </td><td>1629.0            </td><td>206101.6652892562 </td><td>0.0               </td><td>928.0            </td><td>0.0                </td><td>6.0               </td><td>1.0               </td><td>1.0               </td><td>173401.83662194162</td><td>0.0              </td><td>165652.29590766       </td><td>180921.19589041095   </td><td>225230.44204018547  </td><td>186433.973880597    </td><td>205723.48881789134   </td><td>186186.7098901099   </td><td>3.0              </td><td>0.0               </td><td>701.0             </td><td>156858.87136929462 </td><td>184034.89625585024 </td><td>180921.19589041095</td><td>1.0                </td><td>179956.7995658466  </td><td>1997.0            </td><td>148751.0891719745 </td><td>214432.4603174603    </td><td>180183.74675819982   </td><td>184495.49206349207  </td><td>74.0              </td><td>144341.31346578366 </td><td>137.0             </td><td>202688.47896440132</td><td>210051.76404494382  </td><td>3.0               </td><td>0.0               </td><td>180950.9568197395  </td><td>34.0             </td><td>181130.53851444292</td><td>0.0               </td><td>191064.5097633085     </td><td>187885.73529411762  </td><td>1998.0            </td><td>235413.72009569374    </td><td>171483.95617879054 </td><td>185763.80737704918</td><td>179803.6792189679 </td><td>240052.69034090912    </td></tr>\n",
       "<tr><td>3      </td><td>0.0              </td><td>2010.0            </td><td>213732.90097087374   </td><td>470.0             </td><td>60.0             </td><td>6.0               </td><td>0.0              </td><td>184694.69028662422    </td><td>181169.40553633214  </td><td>204691.87191011236  </td><td>0.0               </td><td>1998.0            </td><td>187489.8360030511   </td><td>926.0             </td><td>183429.1470588235   </td><td>182021.19537815126</td><td>9978.0           </td><td>183632.62090007632</td><td>360.0             </td><td>176938.0475285171  </td><td>180921.19589041095</td><td>175202.21953255427     </td><td>191004.9947871416 </td><td>0.0               </td><td>2.0               </td><td>202892.65632183908  </td><td>2.0               </td><td>212116.02389078494   </td><td>602.0             </td><td>186825.11319340332  </td><td>6.0               </td><td>1604.0            </td><td>206101.6652892562 </td><td>0.0               </td><td>926.0            </td><td>0.0                </td><td>7.0               </td><td>1.0               </td><td>1.0               </td><td>173401.83662194162</td><td>0.0              </td><td>165652.29590766       </td><td>180921.19589041095   </td><td>225230.44204018547  </td><td>186433.973880597    </td><td>226351.41578947366   </td><td>186186.7098901099   </td><td>6.0              </td><td>0.0               </td><td>678.0             </td><td>214914.42914979754 </td><td>184034.89625585024 </td><td>180921.19589041095</td><td>1.0                </td><td>179956.7995658466  </td><td>1998.0            </td><td>180921.19589041095</td><td>214432.4603174603    </td><td>180183.74675819982   </td><td>184495.49206349207  </td><td>78.0              </td><td>144341.31346578366 </td><td>324.0             </td><td>140759.81818181818</td><td>210051.76404494382  </td><td>3.0               </td><td>0.0               </td><td>180950.9568197395  </td><td>36.0             </td><td>181130.53851444292</td><td>20.0              </td><td>191064.5097633085     </td><td>187885.73529411762  </td><td>1998.0            </td><td>235413.72009569374    </td><td>171483.95617879054 </td><td>185763.80737704918</td><td>179803.6792189679 </td><td>240052.69034090912    </td></tr>\n",
       "<tr><td>4      </td><td>0.0              </td><td>2010.0            </td><td>163077.45045045044   </td><td>506.0             </td><td>120.0            </td><td>8.0               </td><td>0.0              </td><td>184694.69028662422    </td><td>181169.40553633214  </td><td>156221.8912037037   </td><td>0.0               </td><td>1992.0            </td><td>187489.8360030511   </td><td>1280.0            </td><td>183429.1470588235   </td><td>182021.19537815126</td><td>5005.0           </td><td>183632.62090007632</td><td>0.0               </td><td>176938.0475285171  </td><td>180921.19589041095</td><td>175202.21953255427     </td><td>191004.9947871416 </td><td>144.0             </td><td>2.0               </td><td>202892.65632183908  </td><td>2.0               </td><td>212116.02389078494   </td><td>263.0             </td><td>186825.11319340332  </td><td>5.0               </td><td>1280.0            </td><td>206101.6652892562 </td><td>0.0               </td><td>1280.0           </td><td>0.0                </td><td>5.0               </td><td>0.0               </td><td>0.0               </td><td>173401.83662194162</td><td>0.0              </td><td>165652.29590766       </td><td>180921.19589041095   </td><td>225230.44204018547  </td><td>186433.973880597    </td><td>180921.19589041095   </td><td>186186.7098901099   </td><td>1.0              </td><td>0.0               </td><td>0.0               </td><td>214914.42914979754 </td><td>184034.89625585024 </td><td>180921.19589041095</td><td>1.0                </td><td>179956.7995658466  </td><td>1992.0            </td><td>180921.19589041095</td><td>167661.5652173913    </td><td>223942.0283835616    </td><td>184495.49206349207  </td><td>43.0              </td><td>231633.51024590162 </td><td>1017.0            </td><td>202688.47896440132</td><td>175985.4779614325   </td><td>2.0               </td><td>0.0               </td><td>180950.9568197395  </td><td>82.0             </td><td>181130.53851444292</td><td>0.0               </td><td>291062.3293835616     </td><td>187885.73529411762  </td><td>1992.0            </td><td>161573.06818181818    </td><td>171483.95617879054 </td><td>181803.6201730353 </td><td>179803.6792189679 </td><td>202068.86966824642    </td></tr>\n",
       "<tr><td>5      </td><td>0.0              </td><td>2010.0            </td><td>163077.45045045044   </td><td>440.0             </td><td>60.0             </td><td>6.0               </td><td>0.0              </td><td>184694.69028662422    </td><td>181169.40553633214  </td><td>156221.8912037037   </td><td>0.0               </td><td>1993.0            </td><td>187489.8360030511   </td><td>763.0             </td><td>183429.1470588235   </td><td>182021.19537815126</td><td>10000.0          </td><td>183632.62090007632</td><td>157.0             </td><td>181623.4258555133  </td><td>180921.19589041095</td><td>175202.21953255427     </td><td>191004.9947871416 </td><td>0.0               </td><td>2.0               </td><td>202892.65632183908  </td><td>2.0               </td><td>139962.51156462586   </td><td>0.0               </td><td>186825.11319340332  </td><td>5.0               </td><td>1655.0            </td><td>206101.6652892562 </td><td>0.0               </td><td>763.0            </td><td>0.0                </td><td>7.0               </td><td>1.0               </td><td>1.0               </td><td>173401.83662194162</td><td>0.0              </td><td>165652.29590766       </td><td>180921.19589041095   </td><td>225230.44204018547  </td><td>186433.973880597    </td><td>205723.48881789134   </td><td>186186.7098901099   </td><td>4.0              </td><td>0.0               </td><td>892.0             </td><td>156858.87136929462 </td><td>184034.89625585024 </td><td>180921.19589041095</td><td>1.0                </td><td>179956.7995658466  </td><td>1993.0            </td><td>180921.19589041095</td><td>167661.5652173913    </td><td>180183.74675819982   </td><td>184495.49206349207  </td><td>75.0              </td><td>144341.31346578366 </td><td>763.0             </td><td>202688.47896440132</td><td>210051.76404494382  </td><td>3.0               </td><td>0.0               </td><td>180950.9568197395  </td><td>84.0             </td><td>181130.53851444292</td><td>0.0               </td><td>191064.5097633085     </td><td>187885.73529411762  </td><td>1994.0            </td><td>170670.57674418602    </td><td>171483.95617879054 </td><td>185763.80737704918</td><td>179803.6792189679 </td><td>240052.69034090912    </td></tr>\n",
       "<tr><td>6      </td><td>500.0            </td><td>2010.0            </td><td>163077.45045045044   </td><td>420.0             </td><td>20.0             </td><td>6.0               </td><td>0.0              </td><td>184694.69028662422    </td><td>181169.40553633214  </td><td>156221.8912037037   </td><td>0.0               </td><td>1992.0            </td><td>187489.8360030511   </td><td>1168.0            </td><td>183429.1470588235   </td><td>182021.19537815126</td><td>7980.0           </td><td>183632.62090007632</td><td>483.0             </td><td>176938.0475285171  </td><td>180921.19589041095</td><td>175202.21953255427     </td><td>191004.9947871416 </td><td>0.0               </td><td>2.0               </td><td>202892.65632183908  </td><td>2.0               </td><td>139962.51156462586   </td><td>935.0             </td><td>186825.11319340332  </td><td>7.0               </td><td>1187.0            </td><td>206101.6652892562 </td><td>0.0               </td><td>1187.0           </td><td>0.0                </td><td>6.0               </td><td>0.0               </td><td>0.0               </td><td>173401.83662194162</td><td>0.0              </td><td>165652.29590766       </td><td>155647.64979172492   </td><td>225230.44204018547  </td><td>186433.973880597    </td><td>180921.19589041095   </td><td>186186.7098901099   </td><td>3.0              </td><td>0.0               </td><td>0.0               </td><td>214914.42914979754 </td><td>170701.1126027397  </td><td>180921.19589041095</td><td>1.0                </td><td>179956.7995658466  </td><td>1992.0            </td><td>179226.5183666125 </td><td>167661.5652173913    </td><td>180183.74675819982   </td><td>184495.49206349207  </td><td>68.58035714285714 </td><td>144341.31346578366 </td><td>233.0             </td><td>202688.47896440132</td><td>175985.4779614325   </td><td>3.0               </td><td>1.0               </td><td>180950.9568197395  </td><td>21.0             </td><td>181130.53851444292</td><td>0.0               </td><td>191064.5097633085     </td><td>187885.73529411762  </td><td>2007.0            </td><td>161573.06818181818    </td><td>171483.95617879054 </td><td>185763.80737704918</td><td>179803.6792189679 </td><td>240052.69034090912    </td></tr>\n",
       "<tr><td>7      </td><td>0.0              </td><td>2010.0            </td><td>213732.90097087374   </td><td>393.0             </td><td>60.0             </td><td>6.0               </td><td>0.0              </td><td>184694.69028662422    </td><td>181169.40553633214  </td><td>156221.8912037037   </td><td>0.0               </td><td>1998.0            </td><td>187489.8360030511   </td><td>789.0             </td><td>183429.1470588235   </td><td>182021.19537815126</td><td>8402.0           </td><td>183632.62090007632</td><td>0.0               </td><td>176938.0475285171  </td><td>180921.19589041095</td><td>175202.21953255427     </td><td>191004.9947871416 </td><td>0.0               </td><td>2.0               </td><td>202892.65632183908  </td><td>2.0               </td><td>139962.51156462586   </td><td>0.0               </td><td>186825.11319340332  </td><td>5.0               </td><td>1465.0            </td><td>206101.6652892562 </td><td>0.0               </td><td>789.0            </td><td>0.0                </td><td>7.0               </td><td>1.0               </td><td>1.0               </td><td>173401.83662194162</td><td>0.0              </td><td>165652.29590766       </td><td>180921.19589041095   </td><td>225230.44204018547  </td><td>186433.973880597    </td><td>226351.41578947366   </td><td>186186.7098901099   </td><td>5.0              </td><td>0.0               </td><td>676.0             </td><td>156858.87136929462 </td><td>184034.89625585024 </td><td>180921.19589041095</td><td>1.0                </td><td>179956.7995658466  </td><td>1998.0            </td><td>180921.19589041095</td><td>214432.4603174603    </td><td>180183.74675819982   </td><td>184495.49206349207  </td><td>63.0              </td><td>144341.31346578366 </td><td>789.0             </td><td>202688.47896440132</td><td>210051.76404494382  </td><td>3.0               </td><td>0.0               </td><td>180950.9568197395  </td><td>75.0             </td><td>181130.53851444292</td><td>0.0               </td><td>191064.5097633085     </td><td>187885.73529411762  </td><td>1998.0            </td><td>170670.57674418602    </td><td>171483.95617879054 </td><td>185763.80737704918</td><td>179803.6792189679 </td><td>240052.69034090912    </td></tr>\n",
       "<tr><td>8      </td><td>0.0              </td><td>2010.0            </td><td>163077.45045045044   </td><td>506.0             </td><td>20.0             </td><td>7.0               </td><td>0.0              </td><td>184694.69028662422    </td><td>181169.40553633214  </td><td>156221.8912037037   </td><td>0.0               </td><td>1990.0            </td><td>187489.8360030511   </td><td>1300.0            </td><td>183429.1470588235   </td><td>182021.19537815126</td><td>10176.0          </td><td>183632.62090007632</td><td>192.0             </td><td>176938.0475285171  </td><td>180921.19589041095</td><td>175202.21953255427     </td><td>191004.9947871416 </td><td>0.0               </td><td>2.0               </td><td>202892.65632183908  </td><td>1.0               </td><td>212116.02389078494   </td><td>637.0             </td><td>186825.11319340332  </td><td>5.0               </td><td>1341.0            </td><td>164754.81837837838</td><td>0.0               </td><td>1341.0           </td><td>0.0                </td><td>5.0               </td><td>1.0               </td><td>1.0               </td><td>173401.83662194162</td><td>0.0              </td><td>246174.5144581885     </td><td>180921.19589041095   </td><td>225230.44204018547  </td><td>186433.973880597    </td><td>137437.70688356162   </td><td>186186.7098901099   </td><td>2.0              </td><td>0.0               </td><td>0.0               </td><td>156858.87136929462 </td><td>184034.89625585024 </td><td>180921.19589041095</td><td>1.0                </td><td>179956.7995658466  </td><td>1990.0            </td><td>180921.19589041095</td><td>167661.5652173913    </td><td>180183.74675819982   </td><td>184495.49206349207  </td><td>85.0              </td><td>144341.31346578366 </td><td>663.0             </td><td>202688.47896440132</td><td>175985.4779614325   </td><td>2.0               </td><td>1.0               </td><td>180950.9568197395  </td><td>0.0              </td><td>181130.53851444292</td><td>0.0               </td><td>191064.5097633085     </td><td>187885.73529411762  </td><td>1990.0            </td><td>235413.72009569374    </td><td>171483.95617879054 </td><td>185763.80737704918</td><td>179803.6792189679 </td><td>142156.42314049587    </td></tr>\n",
       "<tr><td>9      </td><td>0.0              </td><td>2010.0            </td><td>176689.20206874682   </td><td>525.0             </td><td>20.0             </td><td>4.0               </td><td>78.0             </td><td>167317.73956874682    </td><td>181169.40553633214  </td><td>156221.8912037037   </td><td>0.0               </td><td>1970.0            </td><td>187489.8360030511   </td><td>882.0             </td><td>183429.1470588235   </td><td>182021.19537815126</td><td>8400.0           </td><td>183632.62090007632</td><td>240.0             </td><td>181623.4258555133  </td><td>180921.19589041095</td><td>175202.21953255427     </td><td>191004.9947871416 </td><td>0.0               </td><td>2.0               </td><td>202892.65632183908  </td><td>1.0               </td><td>139962.51156462586   </td><td>804.0             </td><td>186825.11319340332  </td><td>5.0               </td><td>882.0             </td><td>164754.81837837838</td><td>0.0               </td><td>882.0            </td><td>0.0                </td><td>4.0               </td><td>0.0               </td><td>0.0               </td><td>173401.83662194162</td><td>0.0              </td><td>165652.29590766       </td><td>180921.19589041095   </td><td>149805.714511041    </td><td>186433.973880597    </td><td>180921.19589041095   </td><td>186186.7098901099   </td><td>4.0              </td><td>0.0               </td><td>0.0               </td><td>142362.8761682243  </td><td>184034.89625585024 </td><td>180921.19589041095</td><td>1.0                </td><td>179956.7995658466  </td><td>1970.0            </td><td>148751.0891719745 </td><td>170033.70860891376   </td><td>180183.74675819982   </td><td>184495.49206349207  </td><td>70.0              </td><td>144341.31346578366 </td><td>0.0               </td><td>140759.81818181818</td><td>175985.4779614325   </td><td>2.0               </td><td>1.0               </td><td>180950.9568197395  </td><td>0.0              </td><td>181130.53851444292</td><td>0.0               </td><td>145847.08000000002    </td><td>187885.73529411762  </td><td>1970.0            </td><td>161573.06818181818    </td><td>171483.95617879054 </td><td>185763.80737704918</td><td>179803.6792189679 </td><td>240052.69034090912    </td></tr>\n",
       "</tbody>\n",
       "</table>"
      ]
     },
     "metadata": {},
     "output_type": "display_data"
    }
   ],
   "source": [
    "print('Imputed and encoded numeric training data:')\n",
    "train[encoded_nums].describe() #79 numeric columns w/ no missing\n",
    "print('--------------------------------------------------------------------------------')\n",
    "print('Imputed and encoded numeric test data:')\n",
    "test[encoded_nums].describe() #79 numeric columns w/ no missing"
   ]
  },
  {
   "cell_type": "code",
   "execution_count": 10,
   "metadata": {
    "collapsed": false
   },
   "outputs": [
    {
     "data": {
      "text/html": [
       "<table>\n",
       "<thead>\n",
       "<tr><th>Neighborhood  </th><th style=\"text-align: right;\">  Neighborhood_Tencode</th></tr>\n",
       "</thead>\n",
       "<tbody>\n",
       "<tr><td>NAmes         </td><td style=\"text-align: right;\">                145847</td></tr>\n",
       "<tr><td>NAmes         </td><td style=\"text-align: right;\">                145847</td></tr>\n",
       "<tr><td>Gilbert       </td><td style=\"text-align: right;\">                191065</td></tr>\n",
       "<tr><td>Gilbert       </td><td style=\"text-align: right;\">                191065</td></tr>\n",
       "<tr><td>StoneBr       </td><td style=\"text-align: right;\">                291062</td></tr>\n",
       "</tbody>\n",
       "</table>"
      ]
     },
     "metadata": {},
     "output_type": "display_data"
    },
    {
     "name": "stdout",
     "output_type": "stream",
     "text": [
      "\n",
      "{nan: 180921.19589041095, 'BrDale': 115957.86688356164, 'Mitchel': 159967.78346519428, 'MeadowV': 110928.17938356164, 'Veenker': 230094.99756537983, 'CollgCr': 197965.77333333335, 'Crawfor': 206169.19605022832, 'NoRidge': 312139.1988957568, 'OldTown': 136129.68513577402, 'IDOTRR': 112243.39559977785, 'Gilbert': 191064.5097633085, 'Sawyer': 143412.3442484265, 'BrkSide': 133247.12334907887, 'ClearCr': 207818.79366927594, 'Edwards': 136124.92438356165, 'Blmngtn': 192778.42938356166, 'NAmes': 145847.08, 'Blueste': 144013.17938356166, 'SWISU': 148340.8353835616, 'NWAmes': 187830.7376027397, 'Somerst': 218711.04101146862, 'Timber': 233048.5096467195, 'SawyerW': 185710.60650220572, 'StoneBr': 291062.3293835616, 'NridgHt': 295968.20925369154, 'NPkVill': 148428.4571613394}\n"
     ]
    }
   ],
   "source": [
    "# Check Neighborhood_Tencode\n",
    "\n",
    "print(test[0:5, ['Neighborhood', 'Neighborhood_Tencode']])\n",
    "_, _ = target_encoder(train, test, 'Neighborhood', 'SalePrice', test=True)\n",
    "del _\n",
    "\n",
    "# NAmes   145847\n",
    "# NAmes   145847\n",
    "# Gilbert 191064\n",
    "# Gilbert 191064\n",
    "# StoneBr 291062"
   ]
  },
  {
   "cell_type": "markdown",
   "metadata": {},
   "source": [
    "## Create combination features"
   ]
  },
  {
   "cell_type": "code",
   "execution_count": 11,
   "metadata": {
    "collapsed": false
   },
   "outputs": [],
   "source": [
    "def feature_combiner(training_frame, test_frame, nums):\n",
    "    \n",
    "    \"\"\" Combines numeric features using simple arithmatic operations.\n",
    "    \n",
    "    :param training_frame: Training frame from which to generate features and onto which generated \n",
    "                           feeatures will be cbound.\n",
    "    :param test_frame: Test frame from which to generate features and onto which generated \n",
    "                       feeatures will be cbound.\n",
    "    :param nums: List of original numeric features from which to generate combined features.\n",
    "    \n",
    "    \"\"\"\n",
    "\n",
    "    total = len(nums)\n",
    "    \n",
    "    # convert to pandas\n",
    "    train_df = training_frame.as_data_frame()\n",
    "    test_df = test_frame.as_data_frame()\n",
    "    \n",
    "    for i, col_i in enumerate(nums):\n",
    "        \n",
    "        print('Combining: ' + col_i + ' (' + str(i+1) + '/' + str(total) + ') ...')        \n",
    "        \n",
    "        for j, col_j in enumerate(nums):\n",
    "            \n",
    "            # don't repeat (i*j = j*i)\n",
    "            if i < j:\n",
    "                \n",
    "                # convert to pandas\n",
    "                col_i_train_df = train_df[col_i]\n",
    "                col_j_train_df = train_df[col_j]\n",
    "                col_i_test_df = test_df[col_i]\n",
    "                col_j_test_df = test_df[col_j] \n",
    "\n",
    "                # multiply, convert back to h2o\n",
    "                train_df[str(col_i + '|' + col_j)] = col_i_train_df.values*col_j_train_df.values\n",
    "                test_df[str(col_i + '|' + col_j)] = col_i_test_df.values*col_j_test_df.values\n",
    "                \n",
    "    print('Done.')\n",
    "    \n",
    "    # convert back to h2o\n",
    "    \n",
    "    print('Converting to H2OFrame ...')\n",
    "    \n",
    "    training_frame = h2o.H2OFrame(train_df)\n",
    "    training_frame.columns = list(train_df)\n",
    "    test_frame = h2o.H2OFrame(test_df)\n",
    "    test_frame.columns = list(test_df)\n",
    "    \n",
    "    print('Done.')\n",
    "    \n",
    "    # conserve memory \n",
    "    del train_df\n",
    "    del test_df \n",
    "    \n",
    "    return training_frame, test_frame\n"
   ]
  },
  {
   "cell_type": "code",
   "execution_count": 12,
   "metadata": {
    "collapsed": false
   },
   "outputs": [
    {
     "name": "stdout",
     "output_type": "stream",
     "text": [
      "Combining: MiscVal (1/79) ...\n",
      "Combining: YrSold (2/79) ...\n",
      "Combining: Exterior1st_Tencode (3/79) ...\n",
      "Combining: GarageArea (4/79) ...\n",
      "Combining: MSSubClass (5/79) ...\n",
      "Combining: OverallQual (6/79) ...\n",
      "Combining: BsmtFinSF2 (7/79) ...\n",
      "Combining: BsmtFinType2_Tencode (8/79) ...\n",
      "Combining: Condition2_Tencode (9/79) ...\n",
      "Combining: MasVnrType_Tencode (10/79) ...\n",
      "Combining: PoolArea (11/79) ...\n",
      "Combining: GarageYrBlt (12/79) ...\n",
      "Combining: GarageQual_Tencode (13/79) ...\n",
      "Combining: TotalBsmtSF (14/79) ...\n",
      "Combining: Functional_Tencode (15/79) ...\n",
      "Combining: Heating_Tencode (16/79) ...\n",
      "Combining: LotArea (17/79) ...\n",
      "Combining: BsmtCond_Tencode (18/79) ...\n",
      "Combining: WoodDeckSF (19/79) ...\n",
      "Combining: LotConfig_Tencode (20/79) ...\n",
      "Combining: Alley_Tencode (21/79) ...\n",
      "Combining: SaleCondition_Tencode (22/79) ...\n",
      "Combining: MSZoning_Tencode (23/79) ...\n",
      "Combining: ScreenPorch (24/79) ...\n",
      "Combining: GarageCars (25/79) ...\n",
      "Combining: GarageType_Tencode (26/79) ...\n",
      "Combining: FullBath (27/79) ...\n",
      "Combining: KitchenQual_Tencode (28/79) ...\n",
      "Combining: BsmtFinSF1 (29/79) ...\n",
      "Combining: Electrical_Tencode (30/79) ...\n",
      "Combining: OverallCond (31/79) ...\n",
      "Combining: GrLivArea (32/79) ...\n",
      "Combining: LotShape_Tencode (33/79) ...\n",
      "Combining: 3SsnPorch (34/79) ...\n",
      "Combining: 1stFlrSF (35/79) ...\n",
      "Combining: BsmtHalfBath (36/79) ...\n",
      "Combining: TotRmsAbvGrd (37/79) ...\n",
      "Combining: HalfBath (38/79) ...\n",
      "Combining: Fireplaces (39/79) ...\n",
      "Combining: SaleType_Tencode (40/79) ...\n",
      "Combining: EnclosedPorch (41/79) ...\n",
      "Combining: BsmtExposure_Tencode (42/79) ...\n",
      "Combining: MiscFeature_Tencode (43/79) ...\n",
      "Combining: Foundation_Tencode (44/79) ...\n",
      "Combining: PavedDrive_Tencode (45/79) ...\n",
      "Combining: FireplaceQu_Tencode (46/79) ...\n",
      "Combining: CentralAir_Tencode (47/79) ...\n",
      "Combining: MoSold (48/79) ...\n",
      "Combining: LowQualFinSF (49/79) ...\n",
      "Combining: 2ndFlrSF (50/79) ...\n",
      "Combining: HeatingQC_Tencode (51/79) ...\n",
      "Combining: ExterCond_Tencode (52/79) ...\n",
      "Combining: PoolQC_Tencode (53/79) ...\n",
      "Combining: KitchenAbvGr (54/79) ...\n",
      "Combining: LandSlope_Tencode (55/79) ...\n",
      "Combining: YearBuilt (56/79) ...\n",
      "Combining: Fence_Tencode (57/79) ...\n",
      "Combining: Exterior2nd_Tencode (58/79) ...\n",
      "Combining: LandContour_Tencode (59/79) ...\n",
      "Combining: Condition1_Tencode (60/79) ...\n",
      "Combining: LotFrontage (61/79) ...\n",
      "Combining: ExterQual_Tencode (62/79) ...\n",
      "Combining: BsmtUnfSF (63/79) ...\n",
      "Combining: BsmtQual_Tencode (64/79) ...\n",
      "Combining: HouseStyle_Tencode (65/79) ...\n",
      "Combining: BedroomAbvGr (66/79) ...\n",
      "Combining: BsmtFullBath (67/79) ...\n",
      "Combining: Utilities_Tencode (68/79) ...\n",
      "Combining: OpenPorchSF (69/79) ...\n",
      "Combining: Street_Tencode (70/79) ...\n",
      "Combining: MasVnrArea (71/79) ...\n",
      "Combining: Neighborhood_Tencode (72/79) ...\n",
      "Combining: GarageCond_Tencode (73/79) ...\n",
      "Combining: YearRemodAdd (74/79) ...\n",
      "Combining: BsmtFinType1_Tencode (75/79) ...\n",
      "Combining: RoofStyle_Tencode (76/79) ...\n",
      "Combining: BldgType_Tencode (77/79) ...\n",
      "Combining: RoofMatl_Tencode (78/79) ...\n",
      "Combining: GarageFinish_Tencode (79/79) ...\n",
      "Done.\n",
      "Converting to H2OFrame ...\n",
      "Done.\n"
     ]
    }
   ],
   "source": [
    "train, test = feature_combiner(train, test, encoded_nums)"
   ]
  },
  {
   "cell_type": "markdown",
   "metadata": {},
   "source": [
    "#### Redefine numerics and explore"
   ]
  },
  {
   "cell_type": "code",
   "execution_count": 13,
   "metadata": {
    "collapsed": false
   },
   "outputs": [
    {
     "name": "stdout",
     "output_type": "stream",
     "text": [
      "Numeric = ['YearBuilt|Neighborhood_Tencode', 'WoodDeckSF|OpenPorchSF', 'PoolArea', 'OverallQual|EnclosedPorch', 'Exterior1st_Tencode|GarageYrBlt', 'SaleType_Tencode|LotFrontage', 'WoodDeckSF|BsmtQual_Tencode', 'BsmtCond_Tencode|BsmtFullBath', 'Foundation_Tencode|2ndFlrSF', 'BsmtFinSF1|YearRemodAdd', 'GarageYrBlt|LotArea', 'TotRmsAbvGrd|BsmtFullBath', 'FullBath|SaleType_Tencode', 'GarageArea|BedroomAbvGr', 'OpenPorchSF|Street_Tencode', 'FullBath|OverallCond', 'LotArea|Fence_Tencode', 'MSZoning_Tencode|BsmtExposure_Tencode', 'LowQualFinSF|Utilities_Tencode', 'OverallQual|HeatingQC_Tencode', 'Condition1_Tencode|BldgType_Tencode', '3SsnPorch|ExterQual_Tencode', 'LotShape_Tencode|BsmtExposure_Tencode', 'ScreenPorch|LotShape_Tencode', '3SsnPorch|TotRmsAbvGrd', 'BsmtFinType2_Tencode|PavedDrive_Tencode', 'MasVnrType_Tencode|BedroomAbvGr', 'SaleCondition_Tencode|OpenPorchSF', 'GarageQual_Tencode|ScreenPorch', '3SsnPorch|BsmtHalfBath', 'SaleType_Tencode|MasVnrArea', 'LotArea|BsmtQual_Tencode', 'PavedDrive_Tencode|MoSold', 'LowQualFinSF|GarageCond_Tencode', 'Fireplaces|SaleType_Tencode', 'BsmtCond_Tencode|LotShape_Tencode', 'OverallQual|Condition1_Tencode', 'GarageType_Tencode', 'MiscFeature_Tencode|PoolQC_Tencode', 'OverallCond|GarageCond_Tencode', 'MiscVal|BsmtHalfBath', 'PoolArea|Electrical_Tencode', 'MiscFeature_Tencode|MasVnrArea', 'BsmtUnfSF|YearRemodAdd', 'GarageQual_Tencode|BsmtFullBath', 'BsmtCond_Tencode|OpenPorchSF', 'Exterior1st_Tencode|BsmtFullBath', 'OverallCond|TotRmsAbvGrd', 'GarageType_Tencode|BsmtFullBath', 'BsmtFinSF2|Utilities_Tencode', 'MiscVal|MoSold', 'MiscVal|GarageCond_Tencode', 'YrSold|WoodDeckSF', '1stFlrSF|ExterQual_Tencode', 'LandContour_Tencode|BldgType_Tencode', 'LotArea|OpenPorchSF', 'LotConfig_Tencode|OpenPorchSF', 'FullBath|MoSold', 'GarageType_Tencode|GrLivArea', 'Exterior1st_Tencode|WoodDeckSF', 'OverallQual|GarageYrBlt', 'GarageYrBlt|HeatingQC_Tencode', 'PavedDrive_Tencode', 'Alley_Tencode|SaleCondition_Tencode', 'SaleCondition_Tencode|HouseStyle_Tencode', 'WoodDeckSF|ScreenPorch', 'OverallQual|YearRemodAdd', 'PoolArea|1stFlrSF', 'Functional_Tencode|GrLivArea', 'BsmtFinSF2|Fireplaces', 'YrSold|Alley_Tencode', 'Condition2_Tencode|WoodDeckSF', 'WoodDeckSF|LotShape_Tencode', 'YrSold|Heating_Tencode', 'GarageYrBlt|3SsnPorch', 'PoolArea|Utilities_Tencode', 'GrLivArea|GarageCond_Tencode', '3SsnPorch|LandContour_Tencode', 'MSZoning_Tencode|BsmtQual_Tencode', 'MSSubClass|HeatingQC_Tencode', 'FireplaceQu_Tencode|HeatingQC_Tencode', 'GarageCars|Exterior2nd_Tencode', 'MSSubClass|BsmtFullBath', 'BsmtFinType2_Tencode|Street_Tencode', '2ndFlrSF|Street_Tencode', 'EnclosedPorch|ExterCond_Tencode', 'YrSold|MSSubClass', 'MiscFeature_Tencode|LandContour_Tencode', 'BsmtFinSF2|YearBuilt', 'SaleType_Tencode|CentralAir_Tencode', 'TotalBsmtSF|BsmtFinType1_Tencode', 'ScreenPorch|Fence_Tencode', 'OverallQual|LandContour_Tencode', 'MSZoning_Tencode|Foundation_Tencode', 'Electrical_Tencode|BedroomAbvGr', 'Exterior2nd_Tencode|BldgType_Tencode', 'PoolArea|BsmtUnfSF', 'ScreenPorch|BsmtQual_Tencode', '3SsnPorch|BldgType_Tencode', 'LotShape_Tencode|RoofStyle_Tencode', 'BsmtFinType2_Tencode|Fireplaces', 'BsmtFinSF1|YearBuilt', 'OverallQual', 'MSZoning_Tencode', 'BsmtFullBath|OpenPorchSF', 'Functional_Tencode|BldgType_Tencode', 'Exterior1st_Tencode|2ndFlrSF', 'SaleCondition_Tencode|LandContour_Tencode', 'Condition2_Tencode|CentralAir_Tencode', 'Alley_Tencode|Fence_Tencode', 'GrLivArea|BsmtFinType1_Tencode', 'GarageYrBlt|FireplaceQu_Tencode', 'Electrical_Tencode|GarageFinish_Tencode', 'ScreenPorch|HalfBath', 'Alley_Tencode|HeatingQC_Tencode', 'Heating_Tencode|YearRemodAdd', 'BsmtFinSF2|SaleType_Tencode', 'Exterior1st_Tencode|HeatingQC_Tencode', 'ExterCond_Tencode|GarageFinish_Tencode', 'GarageYrBlt|ScreenPorch', 'BsmtFinSF1|BsmtFinType1_Tencode', 'BsmtCond_Tencode|HouseStyle_Tencode', 'ScreenPorch|GrLivArea', 'TotalBsmtSF|BsmtHalfBath', 'BsmtFinSF2|MasVnrType_Tencode', 'PoolArea|LandContour_Tencode', 'MiscFeature_Tencode|CentralAir_Tencode', 'GarageArea|BsmtFullBath', 'GarageYrBlt|CentralAir_Tencode', 'GarageQual_Tencode|HalfBath', 'BsmtFinSF1|LandContour_Tencode', 'GarageArea|OpenPorchSF', 'GarageType_Tencode|MasVnrArea', 'LotArea|MoSold', 'GrLivArea|RoofMatl_Tencode', 'MasVnrType_Tencode|LotArea', 'WoodDeckSF|BsmtFinType1_Tencode', 'MoSold|BsmtQual_Tencode', 'TotalBsmtSF|RoofStyle_Tencode', 'GarageCars|GarageFinish_Tencode', 'HouseStyle_Tencode|Utilities_Tencode', 'PoolArea|YearBuilt', '3SsnPorch|GarageFinish_Tencode', 'BsmtFinSF2|ExterQual_Tencode', 'Exterior1st_Tencode|BsmtFinType2_Tencode', 'LotConfig_Tencode|ExterQual_Tencode', 'HeatingQC_Tencode|RoofMatl_Tencode', '3SsnPorch|KitchenAbvGr', 'BsmtFinType2_Tencode|LotShape_Tencode', 'Alley_Tencode|OverallCond', 'MoSold|YearRemodAdd', 'Neighborhood_Tencode|RoofMatl_Tencode', 'PavedDrive_Tencode|ExterQual_Tencode', 'Electrical_Tencode|PavedDrive_Tencode', 'MasVnrType_Tencode|GarageQual_Tencode', 'Fence_Tencode|BsmtUnfSF', 'KitchenQual_Tencode|YearBuilt', 'MiscFeature_Tencode|Street_Tencode', 'ExterCond_Tencode|LandContour_Tencode', 'SaleType_Tencode', 'TotalBsmtSF|LotArea', 'BsmtFinSF1|OpenPorchSF', 'LotArea|RoofStyle_Tencode', 'PoolArea|OpenPorchSF', 'MSZoning_Tencode|Neighborhood_Tencode', '3SsnPorch|Condition1_Tencode', 'KitchenQual_Tencode|LotFrontage', 'Exterior1st_Tencode|MasVnrArea', 'Alley_Tencode|LandContour_Tencode', 'HalfBath|Foundation_Tencode', 'OverallQual|BsmtCond_Tencode', 'MSSubClass|MasVnrArea', '3SsnPorch|SaleType_Tencode', 'BsmtQual_Tencode|Utilities_Tencode', 'MSSubClass|KitchenAbvGr', 'BsmtFinSF1|ExterCond_Tencode', 'TotalBsmtSF|BsmtFinSF1', 'BsmtExposure_Tencode|ExterCond_Tencode', 'LotShape_Tencode|Utilities_Tencode', 'LotFrontage|YearRemodAdd', 'GarageCars|LandSlope_Tencode', 'BsmtFinSF2|SaleCondition_Tencode', 'WoodDeckSF|RoofMatl_Tencode', 'BsmtHalfBath|GarageFinish_Tencode', 'LandSlope_Tencode|Fence_Tencode', 'Condition1_Tencode|YearRemodAdd', 'Exterior2nd_Tencode|MasVnrArea', 'Functional_Tencode|GarageFinish_Tencode', 'GrLivArea|KitchenAbvGr', 'BsmtFinSF1|BsmtQual_Tencode', 'SaleCondition_Tencode|EnclosedPorch', 'TotRmsAbvGrd|FireplaceQu_Tencode', 'Foundation_Tencode|HeatingQC_Tencode', 'MasVnrType_Tencode|EnclosedPorch', 'KitchenAbvGr|RoofStyle_Tencode', 'Foundation_Tencode|BsmtFinType1_Tencode', 'Functional_Tencode|LotFrontage', 'TotalBsmtSF|ExterQual_Tencode', 'PavedDrive_Tencode|HouseStyle_Tencode', 'YrSold|Functional_Tencode', 'LotConfig_Tencode|RoofMatl_Tencode', 'FullBath|CentralAir_Tencode', 'FireplaceQu_Tencode|Neighborhood_Tencode', 'Fireplaces|Utilities_Tencode', 'GrLivArea|ExterQual_Tencode', 'ScreenPorch|MasVnrArea', 'GarageQual_Tencode', 'LotArea|Street_Tencode', 'HalfBath|GarageCond_Tencode', 'OpenPorchSF|YearRemodAdd', 'BsmtFinType2_Tencode|PoolQC_Tencode', 'MiscVal|GarageYrBlt', 'GarageYrBlt|LotShape_Tencode', 'MasVnrType_Tencode|LotConfig_Tencode', 'LotArea|LandContour_Tencode', 'LowQualFinSF|HouseStyle_Tencode', 'FullBath|Fence_Tencode', 'CentralAir_Tencode|BsmtQual_Tencode', 'YearBuilt|Utilities_Tencode', 'BsmtFinSF2|Neighborhood_Tencode', 'GarageYrBlt|BsmtExposure_Tencode', 'GarageQual_Tencode|HouseStyle_Tencode', 'MSZoning_Tencode|Utilities_Tencode', 'GarageType_Tencode|GarageCond_Tencode', 'Heating_Tencode|LotConfig_Tencode', 'KitchenQual_Tencode|MoSold', 'Heating_Tencode|LandContour_Tencode', 'Functional_Tencode|MSZoning_Tencode', 'GarageQual_Tencode|Functional_Tencode', 'ExterCond_Tencode|PoolQC_Tencode', 'SaleType_Tencode|FireplaceQu_Tencode', 'HalfBath|KitchenAbvGr', 'EnclosedPorch|MasVnrArea', 'BsmtFinSF1|ExterQual_Tencode', 'BsmtUnfSF|BsmtQual_Tencode', 'GarageArea|GarageType_Tencode', 'BsmtFinType2_Tencode|OpenPorchSF', 'GarageYrBlt|FullBath', 'WoodDeckSF|BsmtHalfBath', 'BsmtCond_Tencode|LotFrontage', 'BsmtCond_Tencode|BsmtHalfBath', '2ndFlrSF|LotFrontage', 'YrSold|PavedDrive_Tencode', 'HalfBath|BsmtUnfSF', 'LowQualFinSF|HeatingQC_Tencode', 'Exterior1st_Tencode|LandContour_Tencode', 'TotRmsAbvGrd|MoSold', 'MiscVal|BsmtFinType1_Tencode', 'MiscFeature_Tencode|ExterQual_Tencode', 'LotShape_Tencode|MiscFeature_Tencode', 'Alley_Tencode|GarageCond_Tencode', 'Functional_Tencode|BedroomAbvGr', 'OverallQual|FireplaceQu_Tencode', 'OverallCond|BsmtUnfSF', 'BsmtFinSF2|BsmtExposure_Tencode', 'BsmtQual_Tencode|BsmtFinType1_Tencode', 'TotalBsmtSF|BsmtExposure_Tencode', 'EnclosedPorch|BsmtQual_Tencode', '1stFlrSF|KitchenAbvGr', 'LotConfig_Tencode|GarageFinish_Tencode', 'Fireplaces|YearBuilt', 'OverallQual|KitchenAbvGr', 'BsmtHalfBath', 'BsmtHalfBath|Neighborhood_Tencode', 'MSSubClass|PoolQC_Tencode', 'Heating_Tencode|LotFrontage', 'MiscVal|Fence_Tencode', 'Condition2_Tencode|TotalBsmtSF', 'Condition2_Tencode|PoolArea', 'Fireplaces|LowQualFinSF', 'EnclosedPorch|MoSold', 'ScreenPorch|HouseStyle_Tencode', 'PavedDrive_Tencode|BldgType_Tencode', 'Alley_Tencode|GarageType_Tencode', 'OverallCond|LandSlope_Tencode', 'FullBath|BsmtFinSF1', 'Electrical_Tencode|ExterQual_Tencode', 'ExterCond_Tencode', 'Exterior1st_Tencode|ScreenPorch', 'Condition2_Tencode|3SsnPorch', 'GarageType_Tencode|SaleType_Tencode', 'Exterior1st_Tencode|YearBuilt', 'MasVnrType_Tencode|LandSlope_Tencode', 'GarageType_Tencode|PoolQC_Tencode', 'WoodDeckSF|GarageType_Tencode', 'LotFrontage|Utilities_Tencode', 'MSSubClass|Electrical_Tencode', 'OverallCond|Neighborhood_Tencode', 'BsmtFinType2_Tencode|HalfBath', 'WoodDeckSF|MasVnrArea', 'YrSold|MiscFeature_Tencode', 'GarageType_Tencode|Condition1_Tencode', 'GrLivArea|LandSlope_Tencode', 'SaleType_Tencode|BsmtFinType1_Tencode', 'BsmtExposure_Tencode|RoofStyle_Tencode', 'GarageArea|TotalBsmtSF', 'FullBath|2ndFlrSF', 'Heating_Tencode|3SsnPorch', 'GarageArea|ExterCond_Tencode', 'ScreenPorch|BsmtExposure_Tencode', 'LotArea|BsmtExposure_Tencode', 'MiscFeature_Tencode', 'Functional_Tencode|LotConfig_Tencode', 'FireplaceQu_Tencode|YearBuilt', 'GarageYrBlt|Fireplaces', 'BsmtFinType2_Tencode|WoodDeckSF', 'OverallCond|GarageFinish_Tencode', 'Condition2_Tencode|Heating_Tencode', 'LandSlope_Tencode|LotFrontage', 'LotConfig_Tencode|Utilities_Tencode', '1stFlrSF|YearBuilt', 'Alley_Tencode|Foundation_Tencode', 'GarageArea|GarageFinish_Tencode', 'BsmtHalfBath|Fireplaces', 'GarageCars|YearRemodAdd', 'BsmtFinSF2|BldgType_Tencode', 'Exterior1st_Tencode|BsmtFinType1_Tencode', 'TotalBsmtSF|Fence_Tencode', 'PoolArea|WoodDeckSF', 'GarageArea|FullBath', 'TotRmsAbvGrd|MiscFeature_Tencode', 'Electrical_Tencode|Exterior2nd_Tencode', 'Heating_Tencode|RoofMatl_Tencode', 'MiscVal|TotRmsAbvGrd', 'Condition2_Tencode|OpenPorchSF', 'GarageYrBlt|Heating_Tencode', 'Condition1_Tencode|GarageFinish_Tencode', 'TotalBsmtSF|WoodDeckSF', 'MSSubClass|WoodDeckSF', '1stFlrSF|SaleType_Tencode', 'FullBath|Exterior2nd_Tencode', 'MSSubClass|Condition2_Tencode', 'MSZoning_Tencode|BsmtFinSF1', 'FireplaceQu_Tencode|HouseStyle_Tencode', 'OverallCond|BsmtExposure_Tencode', 'Heating_Tencode|1stFlrSF', 'YearBuilt|YearRemodAdd', 'PoolQC_Tencode|BedroomAbvGr', 'TotalBsmtSF|FullBath', 'GarageArea|MasVnrArea', 'Heating_Tencode|MoSold', 'LotArea|2ndFlrSF', 'Exterior2nd_Tencode|LotFrontage', 'GarageArea|BsmtQual_Tencode', 'Functional_Tencode|RoofStyle_Tencode', 'OverallQual|BsmtFinSF2', 'BsmtFinSF2|KitchenAbvGr', 'MasVnrType_Tencode|TotalBsmtSF', 'BsmtHalfBath|Utilities_Tencode', 'BsmtFinSF2|EnclosedPorch', '2ndFlrSF|KitchenAbvGr', 'ScreenPorch|SaleType_Tencode', 'PoolArea|YearRemodAdd', 'Heating_Tencode|OverallCond', 'Fireplaces|BsmtQual_Tencode', 'Heating_Tencode|YearBuilt', 'GarageQual_Tencode|ExterCond_Tencode', 'MSZoning_Tencode|TotRmsAbvGrd', 'LandSlope_Tencode|BsmtUnfSF', 'KitchenAbvGr|HouseStyle_Tencode', 'ScreenPorch|BsmtUnfSF', 'Utilities_Tencode|OpenPorchSF', 'BsmtCond_Tencode|Foundation_Tencode', 'YrSold|PoolArea', 'WoodDeckSF|BsmtUnfSF', 'BsmtFinType2_Tencode|HeatingQC_Tencode', 'MiscVal|RoofMatl_Tencode', 'LotConfig_Tencode|TotRmsAbvGrd', 'BsmtHalfBath|LandContour_Tencode', 'SaleType_Tencode|Street_Tencode', 'LowQualFinSF|BldgType_Tencode', 'BsmtFullBath|RoofMatl_Tencode', 'BsmtCond_Tencode|3SsnPorch', 'PoolArea|MSZoning_Tencode', 'GarageQual_Tencode|Street_Tencode', 'WoodDeckSF|Exterior2nd_Tencode', 'OverallCond|EnclosedPorch', 'Electrical_Tencode|OpenPorchSF', '3SsnPorch|Utilities_Tencode', 'ScreenPorch|KitchenAbvGr', 'Functional_Tencode|OverallCond', 'MiscVal|BsmtFinType2_Tencode', 'FullBath|LotShape_Tencode', 'Neighborhood_Tencode|GarageCond_Tencode', 'OverallCond|MasVnrArea', 'KitchenQual_Tencode|BsmtHalfBath', 'WoodDeckSF|GarageCond_Tencode', 'MoSold|YearBuilt', 'Heating_Tencode|HouseStyle_Tencode', 'MiscVal', 'OverallQual|BedroomAbvGr', 'LotConfig_Tencode|Fence_Tencode', 'LotConfig_Tencode|GarageCars', 'SaleCondition_Tencode|RoofMatl_Tencode', 'Functional_Tencode|BsmtHalfBath', 'PoolArea|Alley_Tencode', 'PoolArea|CentralAir_Tencode', 'MSSubClass|PoolArea', 'Alley_Tencode|BsmtFinType1_Tencode', 'MiscVal|BsmtQual_Tencode', 'GrLivArea|LowQualFinSF', 'MiscVal|LotConfig_Tencode', 'HeatingQC_Tencode|Utilities_Tencode', 'MSZoning_Tencode|OverallCond', 'SaleType_Tencode|Condition1_Tencode', 'BsmtCond_Tencode|GarageCars', 'Condition2_Tencode|YearRemodAdd', 'OverallCond|Street_Tencode', 'Condition2_Tencode|Foundation_Tencode', 'OverallQual|MSZoning_Tencode', '3SsnPorch|MoSold', 'YrSold|Neighborhood_Tencode', 'HeatingQC_Tencode|OpenPorchSF', 'GarageCars|LotShape_Tencode', 'Fence_Tencode|BsmtFullBath', 'BsmtCond_Tencode|Neighborhood_Tencode', 'BsmtCond_Tencode|FullBath', 'PoolArea|LotShape_Tencode', 'OverallCond|PavedDrive_Tencode', 'TotRmsAbvGrd|OpenPorchSF', 'LotArea|EnclosedPorch', 'BsmtFinSF2|Condition2_Tencode', 'LandSlope_Tencode|GarageFinish_Tencode', 'YrSold|Electrical_Tencode', 'Condition2_Tencode|BsmtHalfBath', 'OverallCond|Fireplaces', 'LotArea|MSZoning_Tencode', 'Electrical_Tencode|3SsnPorch', 'HouseStyle_Tencode|RoofStyle_Tencode', 'SaleCondition_Tencode|BedroomAbvGr', 'Condition2_Tencode|LandSlope_Tencode', 'MiscFeature_Tencode|LandSlope_Tencode', '1stFlrSF|MasVnrArea', 'OverallQual|BsmtQual_Tencode', 'LotConfig_Tencode|LandSlope_Tencode', 'Electrical_Tencode|EnclosedPorch', 'MSZoning_Tencode|HouseStyle_Tencode', 'PoolArea|GarageYrBlt', 'GrLivArea|RoofStyle_Tencode', 'GrLivArea|BedroomAbvGr', 'FireplaceQu_Tencode|LandContour_Tencode', 'Condition2_Tencode|MasVnrType_Tencode', 'GarageType_Tencode|LotFrontage', 'Heating_Tencode|HeatingQC_Tencode', 'GarageQual_Tencode|BsmtFinSF1', 'BsmtHalfBath|BedroomAbvGr', 'HalfBath|OpenPorchSF', 'BsmtFinSF2|BsmtFinType2_Tencode', 'Functional_Tencode|Fireplaces', 'BsmtFinType2_Tencode|EnclosedPorch', 'ScreenPorch|YearRemodAdd', 'Alley_Tencode|LotShape_Tencode', 'SaleType_Tencode|BsmtFullBath', 'MSSubClass|BsmtFinType1_Tencode', 'BsmtExposure_Tencode|Neighborhood_Tencode', 'Condition2_Tencode|LotFrontage', 'LowQualFinSF|Exterior2nd_Tencode', 'GarageYrBlt|Street_Tencode', 'LandSlope_Tencode|RoofStyle_Tencode', 'GarageArea|RoofMatl_Tencode', 'LotArea|Foundation_Tencode', 'FullBath|RoofMatl_Tencode', 'GarageYrBlt|LandContour_Tencode', 'Exterior2nd_Tencode|BsmtFullBath', 'TotalBsmtSF|TotRmsAbvGrd', 'BsmtQual_Tencode|BsmtFullBath', 'BsmtHalfBath|BsmtFullBath', 'MSSubClass|HouseStyle_Tencode', 'MiscFeature_Tencode|GarageCond_Tencode', 'Fireplaces|GarageCond_Tencode', 'GarageCars|Street_Tencode', 'YrSold|HalfBath', 'MiscFeature_Tencode|LotFrontage', 'OverallQual|Heating_Tencode', 'LowQualFinSF|Condition1_Tencode', 'BsmtUnfSF|RoofStyle_Tencode', 'LotShape_Tencode|LotFrontage', 'LotConfig_Tencode|LotShape_Tencode', 'Heating_Tencode|Foundation_Tencode', 'BsmtUnfSF|Utilities_Tencode', 'Fireplaces|MoSold', '3SsnPorch|Fence_Tencode', 'BsmtExposure_Tencode|CentralAir_Tencode', 'OverallQual|MoSold', 'BsmtFullBath|Utilities_Tencode', 'KitchenQual_Tencode|Utilities_Tencode', 'HalfBath|CentralAir_Tencode', 'Fence_Tencode|GarageFinish_Tencode', 'Condition2_Tencode|GarageFinish_Tencode', 'GarageCars|Fence_Tencode', 'BsmtFinSF1|GarageFinish_Tencode', 'LotArea|RoofMatl_Tencode', 'LotArea|KitchenAbvGr', 'YrSold', 'PoolArea|GarageType_Tencode', 'YrSold|BsmtUnfSF', 'MasVnrType_Tencode|2ndFlrSF', 'BsmtCond_Tencode|MoSold', 'BsmtHalfBath|BsmtExposure_Tencode', 'OverallCond|YearBuilt', 'Electrical_Tencode|HalfBath', 'BsmtFinSF2|GarageCond_Tencode', 'GarageYrBlt|Electrical_Tencode', 'PavedDrive_Tencode|BsmtFinType1_Tencode', 'YrSold|ExterCond_Tencode', 'BsmtFinSF2|BsmtFinType1_Tencode', 'GarageYrBlt|RoofMatl_Tencode', 'HalfBath|Utilities_Tencode', 'MSZoning_Tencode|Exterior2nd_Tencode', 'HeatingQC_Tencode|Condition1_Tencode', 'Condition2_Tencode|ExterCond_Tencode', 'OverallQual|YearBuilt', 'LotConfig_Tencode|YearBuilt', 'ExterCond_Tencode|BldgType_Tencode', 'BsmtFinSF2|2ndFlrSF', 'MasVnrType_Tencode|MiscFeature_Tencode', 'Alley_Tencode|Utilities_Tencode', 'OverallQual|KitchenQual_Tencode', 'BsmtFinSF2|YearRemodAdd', 'BsmtFinType2_Tencode|Neighborhood_Tencode', 'BsmtHalfBath|YearRemodAdd', '1stFlrSF|BsmtFullBath', 'KitchenQual_Tencode|CentralAir_Tencode', 'MiscFeature_Tencode|Exterior2nd_Tencode', 'OverallQual|ExterCond_Tencode', 'BsmtFinSF2|WoodDeckSF', 'OverallQual|1stFlrSF', 'SaleCondition_Tencode|OverallCond', 'PoolArea|HouseStyle_Tencode', 'BsmtFinType2_Tencode|BldgType_Tencode', 'MiscVal|Electrical_Tencode', 'Electrical_Tencode|TotRmsAbvGrd', 'MiscVal|BsmtFinSF1', 'BsmtExposure_Tencode|MoSold', 'WoodDeckSF|CentralAir_Tencode', 'GrLivArea|LandContour_Tencode', 'MiscVal|Utilities_Tencode', 'BsmtExposure_Tencode|LandContour_Tencode', 'YearBuilt|LandContour_Tencode', 'BsmtFinType2_Tencode|LandSlope_Tencode', 'BsmtFinType2_Tencode|FireplaceQu_Tencode', 'Exterior2nd_Tencode|RoofStyle_Tencode', 'TotRmsAbvGrd|BsmtExposure_Tencode', 'Condition1_Tencode|MasVnrArea', 'HalfBath|BsmtFullBath', 'SaleType_Tencode|BsmtUnfSF', 'LowQualFinSF|LandContour_Tencode', 'OverallCond|BsmtFinType1_Tencode', 'KitchenQual_Tencode|HeatingQC_Tencode', 'MasVnrType_Tencode|GarageCars', 'Heating_Tencode|ExterCond_Tencode', 'TotRmsAbvGrd|GarageFinish_Tencode', 'GarageArea|LotFrontage', 'TotalBsmtSF|ExterCond_Tencode', 'MiscVal|OpenPorchSF', 'MoSold|RoofMatl_Tencode', 'CentralAir_Tencode', '1stFlrSF|BsmtUnfSF', 'Exterior1st_Tencode|GarageCars', 'Electrical_Tencode|ExterCond_Tencode', 'BsmtFinSF1|Neighborhood_Tencode', 'GarageType_Tencode|OpenPorchSF', 'MasVnrArea|RoofMatl_Tencode', 'KitchenAbvGr|GarageFinish_Tencode', 'CentralAir_Tencode|YearBuilt', 'LotArea|YearBuilt', 'BsmtFinType2_Tencode|MoSold', 'OverallCond|BedroomAbvGr', 'GarageQual_Tencode|Exterior2nd_Tencode', 'Fireplaces|Street_Tencode', 'Functional_Tencode|HalfBath', 'LotFrontage', 'EnclosedPorch|Condition1_Tencode', '1stFlrSF|BsmtQual_Tencode', 'GarageQual_Tencode|KitchenAbvGr', 'LotArea|Exterior2nd_Tencode', 'LotConfig_Tencode|Fireplaces', 'PoolArea|BldgType_Tencode', 'KitchenQual_Tencode|LowQualFinSF', '1stFlrSF|LandSlope_Tencode', 'GrLivArea|YearRemodAdd', 'TotRmsAbvGrd|EnclosedPorch', 'YrSold|GarageCars', 'SaleCondition_Tencode|FireplaceQu_Tencode', 'TotRmsAbvGrd|RoofStyle_Tencode', 'WoodDeckSF|YearBuilt', 'FullBath|BsmtHalfBath', 'BsmtFinType2_Tencode|GarageYrBlt', 'MSZoning_Tencode|CentralAir_Tencode', 'PoolArea|GarageQual_Tencode', 'KitchenQual_Tencode|BsmtQual_Tencode', 'GarageQual_Tencode|MoSold', 'Utilities_Tencode|BsmtFinType1_Tencode', 'ExterCond_Tencode|BedroomAbvGr', 'MasVnrType_Tencode|3SsnPorch', 'PoolQC_Tencode|BsmtUnfSF', 'BsmtExposure_Tencode|MiscFeature_Tencode', 'KitchenQual_Tencode|1stFlrSF', 'BsmtHalfBath|BldgType_Tencode', 'OpenPorchSF|BsmtFinType1_Tencode', 'Exterior1st_Tencode|3SsnPorch', 'Exterior1st_Tencode|GarageFinish_Tencode', 'LandContour_Tencode|Street_Tencode', 'PoolArea|HeatingQC_Tencode', 'FireplaceQu_Tencode|MasVnrArea', 'LotConfig_Tencode|EnclosedPorch', 'BsmtCond_Tencode', 'KitchenQual_Tencode|BldgType_Tencode', 'LotConfig_Tencode|CentralAir_Tencode', 'BsmtHalfBath|Street_Tencode', 'ExterQual_Tencode|MasVnrArea', 'EnclosedPorch|Utilities_Tencode', 'BsmtFinSF1|MiscFeature_Tencode', 'GarageQual_Tencode|Foundation_Tencode', 'HalfBath|RoofStyle_Tencode', 'YearBuilt|Condition1_Tencode', 'Functional_Tencode|MiscFeature_Tencode', 'ExterQual_Tencode|BldgType_Tencode', 'BsmtFinSF2|GrLivArea', 'HouseStyle_Tencode|BldgType_Tencode', 'BsmtFinType2_Tencode|LowQualFinSF', 'FullBath|Neighborhood_Tencode', 'Foundation_Tencode|RoofMatl_Tencode', 'YrSold|TotalBsmtSF', 'BsmtQual_Tencode|MasVnrArea', 'FullBath|LandContour_Tencode', 'PoolArea|HalfBath', 'MSSubClass|BedroomAbvGr', 'Functional_Tencode|LowQualFinSF', 'Exterior1st_Tencode|OverallCond', '3SsnPorch|YearBuilt', 'BsmtFinSF1|Utilities_Tencode', 'EnclosedPorch|2ndFlrSF', 'LotShape_Tencode|Fence_Tencode', 'BsmtFinType2_Tencode|GarageType_Tencode', 'TotalBsmtSF|ScreenPorch', 'PavedDrive_Tencode|OpenPorchSF', 'MiscVal|LandSlope_Tencode', 'BsmtFinType2_Tencode|3SsnPorch', 'PoolArea|OverallCond', 'GarageCars|BldgType_Tencode', 'SaleCondition_Tencode|BsmtFullBath', 'GarageYrBlt|LandSlope_Tencode', 'ExterCond_Tencode|BsmtUnfSF', 'YrSold|LotShape_Tencode', 'GrLivArea|MiscFeature_Tencode', 'BsmtFinSF1|Street_Tencode', 'Condition2_Tencode|RoofMatl_Tencode', 'LandSlope_Tencode|ExterQual_Tencode', 'MSZoning_Tencode|MiscFeature_Tencode', 'Fireplaces|BsmtFullBath', 'BsmtFinType2_Tencode|GarageCond_Tencode', '1stFlrSF|LowQualFinSF', '3SsnPorch|BsmtQual_Tencode', 'YrSold|GarageType_Tencode', 'FireplaceQu_Tencode|BldgType_Tencode', '1stFlrSF|BldgType_Tencode', 'BsmtUnfSF|OpenPorchSF', 'BsmtCond_Tencode|2ndFlrSF', 'Functional_Tencode|BsmtExposure_Tencode', 'TotalBsmtSF|2ndFlrSF', 'BsmtFinType2_Tencode|BsmtFinSF1', 'GarageQual_Tencode|LotShape_Tencode', 'OverallCond|LotShape_Tencode', 'EnclosedPorch|LandSlope_Tencode', 'MSZoning_Tencode|GarageFinish_Tencode', 'FullBath|EnclosedPorch', 'MasVnrType_Tencode|Exterior2nd_Tencode', 'MiscFeature_Tencode|BedroomAbvGr', 'FullBath|3SsnPorch', 'TotalBsmtSF|FireplaceQu_Tencode', 'CentralAir_Tencode|ExterCond_Tencode', 'WoodDeckSF|FireplaceQu_Tencode', 'Condition1_Tencode|LotFrontage', 'OverallQual|OverallCond', 'Fireplaces|PavedDrive_Tencode', 'TotalBsmtSF|Utilities_Tencode', 'GarageQual_Tencode|SaleCondition_Tencode', 'WoodDeckSF|SaleType_Tencode', 'WoodDeckSF|FullBath', 'MSSubClass|BsmtQual_Tencode', 'Fireplaces|LandContour_Tencode', 'LotShape_Tencode|BsmtQual_Tencode', 'YrSold|BsmtFullBath', 'LotShape_Tencode|BsmtFullBath', 'PoolArea|BsmtQual_Tencode', 'MasVnrType_Tencode|GarageCond_Tencode', 'CentralAir_Tencode|MasVnrArea', 'GarageType_Tencode|RoofMatl_Tencode', 'OverallQual|FullBath', 'Functional_Tencode|TotRmsAbvGrd', 'Condition2_Tencode|SaleType_Tencode', 'PoolArea|Neighborhood_Tencode', 'Electrical_Tencode|HeatingQC_Tencode', 'YrSold|BsmtFinType2_Tencode', 'Functional_Tencode|FireplaceQu_Tencode', 'BsmtHalfBath|LotFrontage', 'OverallQual|BsmtUnfSF', 'PoolArea|Functional_Tencode', 'Fence_Tencode|BedroomAbvGr', 'TotRmsAbvGrd|BsmtUnfSF', 'Utilities_Tencode|BldgType_Tencode', 'SaleCondition_Tencode|Neighborhood_Tencode', 'MiscFeature_Tencode|Foundation_Tencode', 'PoolArea|2ndFlrSF', 'MasVnrArea|BldgType_Tencode', 'LotArea|BedroomAbvGr', 'SaleCondition_Tencode|BldgType_Tencode', 'Condition2_Tencode|ScreenPorch', 'Utilities_Tencode|RoofStyle_Tencode', 'SaleCondition_Tencode|ScreenPorch', 'ExterQual_Tencode|BsmtFullBath', 'GarageQual_Tencode|BsmtHalfBath', '3SsnPorch|RoofMatl_Tencode', 'MiscFeature_Tencode|GarageFinish_Tencode', 'SaleType_Tencode|LandContour_Tencode', 'Fireplaces|BsmtExposure_Tencode', 'OverallQual|OpenPorchSF', 'Foundation_Tencode|BsmtQual_Tencode', 'GarageArea|ScreenPorch', 'PoolQC_Tencode|RoofStyle_Tencode', 'FullBath', 'MasVnrType_Tencode|Utilities_Tencode', 'LotShape_Tencode|BsmtHalfBath', 'ScreenPorch|PoolQC_Tencode', 'TotRmsAbvGrd|ExterQual_Tencode', 'LandSlope_Tencode|BldgType_Tencode', '2ndFlrSF|Exterior2nd_Tencode', 'MSSubClass|TotalBsmtSF', 'Heating_Tencode|BsmtCond_Tencode', 'OverallQual|GrLivArea', 'BsmtFinSF2|BedroomAbvGr', 'MSSubClass|YearBuilt', 'PavedDrive_Tencode|PoolQC_Tencode', 'LotShape_Tencode|BldgType_Tencode', 'HouseStyle_Tencode|OpenPorchSF', 'SaleCondition_Tencode|Fireplaces', 'GrLivArea|PoolQC_Tencode', 'PavedDrive_Tencode|Condition1_Tencode', 'GarageType_Tencode|ExterQual_Tencode', 'Condition2_Tencode|BsmtFullBath', 'OverallQual|Alley_Tencode', 'BsmtCond_Tencode|1stFlrSF', 'GarageArea|BsmtFinType2_Tencode', 'WoodDeckSF|TotRmsAbvGrd', 'BsmtQual_Tencode|GarageCond_Tencode', 'LandContour_Tencode|RoofMatl_Tencode', 'MSSubClass|BsmtFinSF2', 'CentralAir_Tencode|ExterQual_Tencode', 'Utilities_Tencode|Neighborhood_Tencode', 'YearBuilt|LotFrontage', 'BsmtUnfSF|GarageCond_Tencode', 'YrSold|YearRemodAdd', 'MSSubClass|Exterior2nd_Tencode', 'SaleCondition_Tencode|RoofStyle_Tencode', 'TotRmsAbvGrd|HouseStyle_Tencode', 'SaleType_Tencode|BldgType_Tencode', 'GarageCars|KitchenAbvGr', 'YearBuilt|GarageCond_Tencode', 'Electrical_Tencode|LowQualFinSF', 'CentralAir_Tencode|PoolQC_Tencode', 'GarageQual_Tencode|PavedDrive_Tencode', 'Exterior1st_Tencode|1stFlrSF', 'BsmtFinType2_Tencode|Heating_Tencode', 'BsmtCond_Tencode|OverallCond', 'KitchenQual_Tencode|Condition1_Tencode', 'OverallCond|HeatingQC_Tencode', 'OverallQual|TotRmsAbvGrd', 'BsmtFinType2_Tencode|GarageFinish_Tencode', 'SaleType_Tencode|MoSold', 'KitchenQual_Tencode|BsmtFinType1_Tencode', 'MasVnrType_Tencode|FullBath', 'BsmtFullBath|BsmtFinType1_Tencode', 'Foundation_Tencode|Neighborhood_Tencode', 'GarageYrBlt|BldgType_Tencode', 'BsmtFinType2_Tencode|BsmtQual_Tencode', 'Exterior2nd_Tencode|GarageCond_Tencode', 'SaleCondition_Tencode|MoSold', 'Heating_Tencode|Neighborhood_Tencode', 'GarageCars|Foundation_Tencode', 'Neighborhood_Tencode', '2ndFlrSF|ExterCond_Tencode', 'OverallQual|WoodDeckSF', 'Exterior1st_Tencode|YearRemodAdd', 'Foundation_Tencode|FireplaceQu_Tencode', 'Functional_Tencode|Foundation_Tencode', 'Alley_Tencode|Condition1_Tencode', 'MoSold|LowQualFinSF', 'TotalBsmtSF|BsmtFullBath', 'ScreenPorch|MiscFeature_Tencode', 'YrSold|RoofStyle_Tencode', '2ndFlrSF|BedroomAbvGr', 'BsmtFinType2_Tencode|KitchenQual_Tencode', 'GarageType_Tencode|EnclosedPorch', '1stFlrSF|PavedDrive_Tencode', 'EnclosedPorch|GarageFinish_Tencode', 'Functional_Tencode|YearRemodAdd', 'MSSubClass|Fireplaces', 'GarageCars|GarageCond_Tencode', 'Fence_Tencode', 'WoodDeckSF|1stFlrSF', 'OverallQual|RoofStyle_Tencode', 'Exterior1st_Tencode|LotShape_Tencode', 'LotArea|LandSlope_Tencode', 'TotalBsmtSF|LowQualFinSF', 'LotFrontage|GarageCond_Tencode', 'WoodDeckSF|RoofStyle_Tencode', '1stFlrSF|RoofStyle_Tencode', 'WoodDeckSF|LandSlope_Tencode', 'MoSold|BsmtFullBath', 'Foundation_Tencode|MasVnrArea', '1stFlrSF|LandContour_Tencode', 'BsmtFinType2_Tencode|ExterQual_Tencode', 'FullBath|Electrical_Tencode', 'Alley_Tencode|ExterQual_Tencode', 'SaleCondition_Tencode|TotRmsAbvGrd', 'Alley_Tencode|HouseStyle_Tencode', 'WoodDeckSF|PavedDrive_Tencode', 'EnclosedPorch|BedroomAbvGr', 'KitchenAbvGr|BedroomAbvGr', 'MiscVal|Alley_Tencode', 'MSZoning_Tencode|2ndFlrSF', 'Electrical_Tencode|FireplaceQu_Tencode', 'GarageCars|BsmtFullBath', '2ndFlrSF|HouseStyle_Tencode', 'Electrical_Tencode|BldgType_Tencode', 'WoodDeckSF|HeatingQC_Tencode', 'GarageType_Tencode|KitchenAbvGr', 'WoodDeckSF|Street_Tencode', 'Fireplaces|BldgType_Tencode', 'YrSold|Street_Tencode', 'TotalBsmtSF|MasVnrArea', 'LotShape_Tencode|Exterior2nd_Tencode', 'ExterQual_Tencode|BedroomAbvGr', 'MoSold|Utilities_Tencode', 'LotArea|SaleType_Tencode', 'TotRmsAbvGrd|Fence_Tencode', 'LotShape_Tencode|PavedDrive_Tencode', 'LotShape_Tencode|BedroomAbvGr', 'MSZoning_Tencode|ScreenPorch', 'MiscVal|ScreenPorch', 'PoolQC_Tencode|GarageCond_Tencode', 'FullBath|Utilities_Tencode', 'MasVnrType_Tencode|BsmtHalfBath', 'GarageArea|HouseStyle_Tencode', 'BsmtHalfBath|ExterQual_Tencode', 'Condition2_Tencode|YearBuilt', 'GarageQual_Tencode|EnclosedPorch', 'FullBath|YearRemodAdd', 'YrSold|BsmtExposure_Tencode', 'LotShape_Tencode|LowQualFinSF', 'ExterCond_Tencode|LotFrontage', 'MoSold|HouseStyle_Tencode', 'WoodDeckSF|Utilities_Tencode', 'MiscVal|BsmtFullBath', 'Fireplaces|Foundation_Tencode', 'YrSold|LotArea', 'PoolArea|TotRmsAbvGrd', 'LandSlope_Tencode', 'Alley_Tencode|YearBuilt', 'PoolArea|LowQualFinSF', 'HalfBath|2ndFlrSF', 'Functional_Tencode|KitchenAbvGr', 'BsmtFinSF1|BsmtExposure_Tencode', 'Exterior1st_Tencode|OverallQual', 'Foundation_Tencode|GarageFinish_Tencode', 'LowQualFinSF|YearBuilt', 'Street_Tencode|GarageFinish_Tencode', 'MiscVal|EnclosedPorch', 'BsmtExposure_Tencode|LotFrontage', 'GarageQual_Tencode|BsmtUnfSF', 'KitchenAbvGr', 'MSSubClass|GarageCond_Tencode', 'CentralAir_Tencode|HeatingQC_Tencode', 'Electrical_Tencode|MiscFeature_Tencode', 'GarageType_Tencode|BsmtFinSF1', 'OpenPorchSF', 'KitchenAbvGr|Exterior2nd_Tencode', 'Alley_Tencode|2ndFlrSF', 'BsmtExposure_Tencode|RoofMatl_Tencode', 'BsmtExposure_Tencode|KitchenAbvGr', 'HalfBath|PavedDrive_Tencode', 'MSZoning_Tencode|RoofMatl_Tencode', 'MoSold|BldgType_Tencode', 'GarageCars|LandContour_Tencode', 'MoSold|Fence_Tencode', 'MiscFeature_Tencode|BsmtQual_Tencode', 'BsmtFinSF2|GarageCars', 'GarageCond_Tencode|RoofStyle_Tencode', 'BsmtHalfBath|BsmtUnfSF', 'KitchenQual_Tencode|LandContour_Tencode', 'KitchenQual_Tencode|LotShape_Tencode', 'Functional_Tencode', 'ScreenPorch|LandContour_Tencode', 'EnclosedPorch|MiscFeature_Tencode', 'OverallQual|LotShape_Tencode', 'BsmtHalfBath|OpenPorchSF', 'LotConfig_Tencode|RoofStyle_Tencode', 'Foundation_Tencode|HouseStyle_Tencode', 'BsmtCond_Tencode|MSZoning_Tencode', 'Condition2_Tencode|TotRmsAbvGrd', 'BedroomAbvGr|MasVnrArea', 'KitchenQual_Tencode|KitchenAbvGr', 'MasVnrArea|BsmtFinType1_Tencode', 'Fireplaces|BedroomAbvGr', 'GarageYrBlt|BedroomAbvGr', 'TotalBsmtSF|KitchenAbvGr', 'BsmtFinType2_Tencode|SaleType_Tencode', 'MasVnrType_Tencode|CentralAir_Tencode', 'SaleCondition_Tencode|1stFlrSF', 'WoodDeckSF|ExterQual_Tencode', 'FullBath|OpenPorchSF', 'BsmtFinType2_Tencode|SaleCondition_Tencode', 'Functional_Tencode|Exterior2nd_Tencode', 'ExterCond_Tencode|Fence_Tencode', 'GarageCars|Electrical_Tencode', 'Neighborhood_Tencode|YearRemodAdd', 'Condition2_Tencode|GarageQual_Tencode', 'WoodDeckSF|SaleCondition_Tencode', 'BsmtFullBath|GarageFinish_Tencode', 'HalfBath|EnclosedPorch', 'BsmtCond_Tencode|SaleCondition_Tencode', '3SsnPorch|BsmtFullBath', 'Fireplaces|OpenPorchSF', 'Foundation_Tencode|ExterQual_Tencode', 'FireplaceQu_Tencode|MoSold', 'FireplaceQu_Tencode|CentralAir_Tencode', 'Functional_Tencode|Fence_Tencode', 'Heating_Tencode|Exterior2nd_Tencode', 'OpenPorchSF|GarageFinish_Tencode', 'FireplaceQu_Tencode|BsmtUnfSF', 'Exterior1st_Tencode|BsmtFinSF1', 'LandContour_Tencode|Neighborhood_Tencode', 'FireplaceQu_Tencode|LotFrontage', 'MiscFeature_Tencode|HeatingQC_Tencode', 'KitchenQual_Tencode|SaleType_Tencode', 'KitchenAbvGr|Street_Tencode', 'Street_Tencode|GarageCond_Tencode', 'LotArea|LotConfig_Tencode', 'GarageCars|3SsnPorch', '1stFlrSF|HalfBath', 'OverallQual|MasVnrArea', 'Functional_Tencode|ExterCond_Tencode', 'OverallQual|PavedDrive_Tencode', 'BsmtUnfSF|GarageFinish_Tencode', 'SaleCondition_Tencode|BsmtFinType1_Tencode', 'SaleType_Tencode|HeatingQC_Tencode', 'ScreenPorch|1stFlrSF', 'MiscVal|LotArea', 'MSZoning_Tencode|MoSold', 'Heating_Tencode|ScreenPorch', 'YrSold|MasVnrArea', 'ScreenPorch|ExterQual_Tencode', 'Heating_Tencode|LotArea', 'MiscVal|Functional_Tencode', 'BsmtCond_Tencode|MasVnrArea', 'BsmtHalfBath|Foundation_Tencode', 'BsmtHalfBath|TotRmsAbvGrd', 'LotConfig_Tencode|HeatingQC_Tencode', '3SsnPorch|CentralAir_Tencode', 'BedroomAbvGr', 'GarageType_Tencode|ExterCond_Tencode', 'LotConfig_Tencode|SaleCondition_Tencode', 'ScreenPorch|GarageType_Tencode', 'EnclosedPorch|KitchenAbvGr', '2ndFlrSF|BsmtFinType1_Tencode', 'HalfBath|Street_Tencode', 'BsmtUnfSF|BsmtFullBath', 'MiscVal|LotFrontage', 'TotalBsmtSF|LandSlope_Tencode', 'SaleCondition_Tencode|Electrical_Tencode', 'FullBath|GarageFinish_Tencode', 'GarageArea|TotRmsAbvGrd', 'Condition2_Tencode|BsmtFinSF1', 'BsmtFinSF1|MasVnrArea', 'WoodDeckSF|Fireplaces', 'Heating_Tencode|BsmtFinSF1', '3SsnPorch|PavedDrive_Tencode', 'OverallCond|GrLivArea', 'MiscVal|1stFlrSF', 'Condition2_Tencode', 'OverallCond|Fence_Tencode', 'Exterior2nd_Tencode|BedroomAbvGr', 'Exterior1st_Tencode|BsmtUnfSF', 'CentralAir_Tencode|YearRemodAdd', 'GarageCars|BsmtExposure_Tencode', 'YrSold|SaleCondition_Tencode', 'LotArea|BsmtHalfBath', 'GarageCond_Tencode|RoofMatl_Tencode', 'GarageType_Tencode|Fence_Tencode', 'Alley_Tencode|BsmtExposure_Tencode', 'BsmtQual_Tencode|BldgType_Tencode', 'MasVnrType_Tencode|GarageYrBlt', 'Heating_Tencode|MasVnrArea', 'GarageType_Tencode|HouseStyle_Tencode', 'SaleCondition_Tencode|GrLivArea', 'SaleCondition_Tencode|Street_Tencode', 'Condition2_Tencode|BsmtFinType1_Tencode', 'MSZoning_Tencode|LandSlope_Tencode', 'BsmtFinSF2|ScreenPorch', 'GarageCond_Tencode|BsmtFinType1_Tencode', 'BsmtFinType2_Tencode|GrLivArea', 'GarageArea|KitchenAbvGr', 'Condition2_Tencode|BsmtQual_Tencode', 'KitchenAbvGr|LandContour_Tencode', 'MiscVal|ExterCond_Tencode', 'LandContour_Tencode|BsmtFullBath', 'LotArea|LotFrontage', 'EnclosedPorch|LotFrontage', 'HalfBath|BsmtQual_Tencode', 'MiscVal|RoofStyle_Tencode', 'Exterior2nd_Tencode|YearRemodAdd', 'GarageType_Tencode|Electrical_Tencode', '2ndFlrSF|BldgType_Tencode', 'GarageYrBlt|ExterQual_Tencode', 'PoolArea|KitchenAbvGr', 'LotConfig_Tencode|KitchenQual_Tencode', 'FireplaceQu_Tencode|BsmtFinType1_Tencode', 'GarageCars|PavedDrive_Tencode', 'WoodDeckSF|GarageCars', 'PavedDrive_Tencode|LandSlope_Tencode', 'YrSold|BedroomAbvGr', 'GarageCars|BsmtQual_Tencode', 'MiscVal|BsmtCond_Tencode', 'ExterCond_Tencode|Neighborhood_Tencode', 'SaleType_Tencode|YearRemodAdd', 'Exterior1st_Tencode|Street_Tencode', 'Condition2_Tencode|PavedDrive_Tencode', 'Exterior1st_Tencode|FireplaceQu_Tencode', 'PavedDrive_Tencode|FireplaceQu_Tencode', 'GarageArea|SaleCondition_Tencode', 'MasVnrType_Tencode|BsmtCond_Tencode', 'KitchenQual_Tencode|Fireplaces', '1stFlrSF', 'Fence_Tencode|LotFrontage', 'GarageCars|Neighborhood_Tencode', 'MiscVal|HalfBath', 'MSSubClass|GarageType_Tencode', 'OverallQual|GarageCond_Tencode', 'MasVnrType_Tencode|LandContour_Tencode', 'Heating_Tencode|EnclosedPorch', 'Functional_Tencode|LotShape_Tencode', 'Foundation_Tencode', 'YrSold|MoSold', 'OverallQual|HalfBath', 'PavedDrive_Tencode|HeatingQC_Tencode', 'LotShape_Tencode|ExterCond_Tencode', 'FullBath|MiscFeature_Tencode', 'PavedDrive_Tencode|LandContour_Tencode', 'GarageQual_Tencode|RoofMatl_Tencode', 'GrLivArea|2ndFlrSF', 'BsmtHalfBath|PavedDrive_Tencode', 'HouseStyle_Tencode|GarageFinish_Tencode', 'Street_Tencode|RoofMatl_Tencode', 'LotConfig_Tencode|1stFlrSF', 'HouseStyle_Tencode|RoofMatl_Tencode', 'MSSubClass|LandSlope_Tencode', 'MiscFeature_Tencode|RoofStyle_Tencode', 'BsmtQual_Tencode|HouseStyle_Tencode', 'MasVnrArea|GarageCond_Tencode', 'GarageQual_Tencode|MasVnrArea', 'MasVnrType_Tencode|ScreenPorch', 'BsmtExposure_Tencode|BsmtUnfSF', 'WoodDeckSF|BldgType_Tencode', 'HalfBath|HouseStyle_Tencode', 'LandSlope_Tencode|YearBuilt', 'MiscVal|KitchenAbvGr', 'OverallQual|2ndFlrSF', 'Functional_Tencode|PavedDrive_Tencode', 'BsmtFinSF1|KitchenAbvGr', 'Condition1_Tencode|BsmtFullBath', '1stFlrSF|ExterCond_Tencode', 'BsmtFinSF1|Condition1_Tencode', 'GarageQual_Tencode|GarageCars', 'TotalBsmtSF|BsmtUnfSF', 'YrSold|GarageArea', 'Alley_Tencode|BsmtUnfSF', 'BsmtFinType2_Tencode|Condition2_Tencode', 'LowQualFinSF|2ndFlrSF', 'BsmtFinSF1|PoolQC_Tencode', 'GarageQual_Tencode|Alley_Tencode', 'GarageCars|MasVnrArea', 'GarageCars|MoSold', 'MSSubClass|RoofStyle_Tencode', 'Alley_Tencode|HalfBath', 'OverallQual|PoolQC_Tencode', 'LotConfig_Tencode|Street_Tencode', 'LotArea|BsmtCond_Tencode', 'BldgType_Tencode|RoofMatl_Tencode', 'Electrical_Tencode|Foundation_Tencode', 'PavedDrive_Tencode|BsmtFullBath', 'GarageType_Tencode|Utilities_Tencode', 'YrSold|OverallQual', 'ExterQual_Tencode|Utilities_Tencode', 'GarageArea|Neighborhood_Tencode', 'TotRmsAbvGrd|YearBuilt', 'GarageCars|MiscFeature_Tencode', 'FullBath|LandSlope_Tencode', 'Fence_Tencode|Street_Tencode', 'BsmtFinSF1|1stFlrSF', 'HeatingQC_Tencode|BedroomAbvGr', 'Condition1_Tencode|ExterQual_Tencode', 'BsmtExposure_Tencode|BsmtQual_Tencode', 'Functional_Tencode|GarageType_Tencode', 'CentralAir_Tencode|Utilities_Tencode', 'TotalBsmtSF|HeatingQC_Tencode', 'HeatingQC_Tencode|BsmtFullBath', 'Condition2_Tencode|Fence_Tencode', 'SaleCondition_Tencode|BsmtExposure_Tencode', 'KitchenQual_Tencode|ExterCond_Tencode', '1stFlrSF|GarageFinish_Tencode', 'GarageArea|Electrical_Tencode', 'SaleCondition_Tencode|MSZoning_Tencode', 'Foundation_Tencode|Fence_Tencode', 'HouseStyle_Tencode|Neighborhood_Tencode', 'BsmtFinSF2|GarageQual_Tencode', 'MSZoning_Tencode|YearBuilt', 'MSSubClass|EnclosedPorch', 'LotConfig_Tencode|KitchenAbvGr', 'Foundation_Tencode|ExterCond_Tencode', 'GarageQual_Tencode|OpenPorchSF', 'MSZoning_Tencode|EnclosedPorch', 'Fence_Tencode|Condition1_Tencode', 'PoolArea|Fireplaces', 'OverallQual|Fence_Tencode', 'GarageType_Tencode|BsmtHalfBath', 'BsmtFinType2_Tencode|Foundation_Tencode', 'BsmtFullBath|MasVnrArea', 'GarageQual_Tencode|GarageCond_Tencode', 'KitchenAbvGr|YearBuilt', 'Functional_Tencode|OpenPorchSF', 'GrLivArea|MoSold', 'GrLivArea|BldgType_Tencode', 'MasVnrType_Tencode|SaleCondition_Tencode', 'Condition2_Tencode|MoSold', 'LotConfig_Tencode|BsmtFinSF1', 'Exterior1st_Tencode|MoSold', 'BsmtFinType2_Tencode|LotConfig_Tencode', 'PavedDrive_Tencode|GarageFinish_Tencode', 'Alley_Tencode|BsmtHalfBath', 'YrSold|RoofMatl_Tencode', 'ScreenPorch|GarageCars', 'HalfBath|MiscFeature_Tencode', 'Fence_Tencode|RoofStyle_Tencode', 'OverallQual|Electrical_Tencode', 'Condition2_Tencode|LotShape_Tencode', 'LotShape_Tencode|Fireplaces', 'BsmtFinType2_Tencode|PoolArea', 'GarageYrBlt|Functional_Tencode', '2ndFlrSF|GarageCond_Tencode', 'KitchenQual_Tencode|HalfBath', 'Functional_Tencode|Street_Tencode', 'KitchenQual_Tencode|Street_Tencode', 'Fireplaces|LandSlope_Tencode', 'Foundation_Tencode|LotFrontage', 'GarageYrBlt|SaleType_Tencode', 'FireplaceQu_Tencode|RoofMatl_Tencode', 'Exterior1st_Tencode|GarageQual_Tencode', 'HeatingQC_Tencode|KitchenAbvGr', 'LowQualFinSF|RoofStyle_Tencode', 'MSSubClass|GrLivArea', 'EnclosedPorch|OpenPorchSF', 'GarageCars|ExterCond_Tencode', 'GrLivArea|Fence_Tencode', 'ScreenPorch|Fireplaces', 'GarageType_Tencode|MoSold', 'GarageQual_Tencode|RoofStyle_Tencode', 'Electrical_Tencode|Fireplaces', 'MiscVal|Heating_Tencode', 'BsmtFinSF1|2ndFlrSF', 'GarageQual_Tencode|BedroomAbvGr', 'HouseStyle_Tencode|Street_Tencode', 'BsmtFinSF2|BsmtQual_Tencode', 'GarageYrBlt|OpenPorchSF', 'BsmtFinSF2|Exterior2nd_Tencode', 'MSZoning_Tencode|1stFlrSF', 'Heating_Tencode|2ndFlrSF', 'GarageArea|EnclosedPorch', 'GarageArea|BsmtCond_Tencode', 'BsmtExposure_Tencode|Condition1_Tencode', 'KitchenQual_Tencode|LandSlope_Tencode', 'GarageArea|Fireplaces', 'BsmtCond_Tencode|Fireplaces', 'GarageQual_Tencode|SaleType_Tencode', 'LandContour_Tencode|GarageCond_Tencode', 'Fireplaces|BsmtFinType1_Tencode', 'Alley_Tencode|GarageCars', 'EnclosedPorch|ExterQual_Tencode', 'MasVnrType_Tencode|PoolQC_Tencode', 'GrLivArea|BsmtFullBath', 'GarageCond_Tencode|YearRemodAdd', 'Functional_Tencode|MasVnrArea', 'BsmtFinType2_Tencode|KitchenAbvGr', 'MSZoning_Tencode|OpenPorchSF', 'EnclosedPorch|Exterior2nd_Tencode', 'MSZoning_Tencode|ExterQual_Tencode', 'ScreenPorch|Electrical_Tencode', 'TotalBsmtSF|BldgType_Tencode', 'Heating_Tencode|RoofStyle_Tencode', 'MSZoning_Tencode|GrLivArea', 'PoolQC_Tencode|LotFrontage', 'MSSubClass|BldgType_Tencode', 'Alley_Tencode|RoofStyle_Tencode', 'SaleCondition_Tencode|BsmtFinSF1', 'TotalBsmtSF|OpenPorchSF', 'TotalBsmtSF|SaleType_Tencode', 'KitchenAbvGr|GarageCond_Tencode', 'BsmtFinSF2|MasVnrArea', 'MasVnrType_Tencode|GrLivArea', 'Heating_Tencode|BsmtQual_Tencode', 'YearBuilt|BsmtFullBath', 'FullBath|LotFrontage', 'Electrical_Tencode|OverallCond', 'HouseStyle_Tencode|BedroomAbvGr', 'MSZoning_Tencode|BsmtFullBath', 'BedroomAbvGr|BsmtFinType1_Tencode', 'WoodDeckSF|BsmtExposure_Tencode', 'Exterior1st_Tencode|LotFrontage', 'Exterior2nd_Tencode|BsmtUnfSF', 'GarageYrBlt|2ndFlrSF', '1stFlrSF|OpenPorchSF', 'Heating_Tencode|Street_Tencode', 'Exterior1st_Tencode|SaleType_Tencode', 'GarageYrBlt|GrLivArea', 'TotRmsAbvGrd|Foundation_Tencode', 'MiscFeature_Tencode|PavedDrive_Tencode', 'Electrical_Tencode|LandSlope_Tencode', 'LowQualFinSF|KitchenAbvGr', 'Functional_Tencode|FullBath', 'Foundation_Tencode|LandContour_Tencode', 'GarageQual_Tencode|TotalBsmtSF', 'Exterior1st_Tencode|BsmtCond_Tencode', 'WoodDeckSF|MiscFeature_Tencode', 'FireplaceQu_Tencode|LowQualFinSF', 'RoofStyle_Tencode|GarageFinish_Tencode', 'LandContour_Tencode|BsmtFinType1_Tencode', 'GarageYrBlt|Alley_Tencode', 'BsmtHalfBath|CentralAir_Tencode', '2ndFlrSF|HeatingQC_Tencode', 'HeatingQC_Tencode', 'HalfBath|PoolQC_Tencode', 'GrLivArea|Condition1_Tencode', 'LandSlope_Tencode|Neighborhood_Tencode', 'GarageQual_Tencode|Utilities_Tencode', 'MasVnrType_Tencode|BsmtFullBath', 'Condition2_Tencode|OverallCond', 'BsmtHalfBath|LandSlope_Tencode', 'Condition2_Tencode|BsmtExposure_Tencode', 'TotalBsmtSF|SaleCondition_Tencode', 'MSSubClass|YearRemodAdd', 'CentralAir_Tencode|LowQualFinSF', 'MasVnrType_Tencode|Fireplaces', 'HeatingQC_Tencode|Neighborhood_Tencode', 'OverallCond|HalfBath', 'YrSold|2ndFlrSF', 'LowQualFinSF|ExterCond_Tencode', 'GrLivArea|BsmtUnfSF', 'FullBath|BedroomAbvGr', 'Foundation_Tencode|YearRemodAdd', 'WoodDeckSF|Neighborhood_Tencode', 'GarageQual_Tencode|BsmtFinType1_Tencode', 'SaleCondition_Tencode|Fence_Tencode', 'TotalBsmtSF|Alley_Tencode', 'LotArea|GarageCars', 'FullBath|Street_Tencode', 'MasVnrArea', 'LotFrontage|BldgType_Tencode', 'Heating_Tencode|BsmtHalfBath', 'OverallCond', 'Exterior1st_Tencode|PoolArea', 'Heating_Tencode|LowQualFinSF', 'MiscFeature_Tencode|YearRemodAdd', '1stFlrSF|YearRemodAdd', 'OverallQual|GarageQual_Tencode', 'Neighborhood_Tencode|GarageFinish_Tencode', 'PoolArea|BsmtHalfBath', 'YrSold|FireplaceQu_Tencode', 'ExterQual_Tencode|RoofStyle_Tencode', 'LowQualFinSF|GarageFinish_Tencode', 'OverallCond|YearRemodAdd', 'BsmtExposure_Tencode|Utilities_Tencode', '1stFlrSF|FireplaceQu_Tencode', 'LotConfig_Tencode|BldgType_Tencode', 'Foundation_Tencode|PavedDrive_Tencode', 'MasVnrType_Tencode|SaleType_Tencode', 'BsmtCond_Tencode|ScreenPorch', 'ScreenPorch|BsmtFullBath', 'GarageArea|PoolArea', 'Exterior1st_Tencode|MasVnrType_Tencode', 'MiscVal|GarageType_Tencode', 'Exterior1st_Tencode|Fireplaces', 'MSSubClass|OpenPorchSF', 'Exterior1st_Tencode|HalfBath', 'LotConfig_Tencode|GarageType_Tencode', 'Alley_Tencode|MasVnrArea', 'WoodDeckSF|Fence_Tencode', 'Functional_Tencode|Heating_Tencode', 'Functional_Tencode|WoodDeckSF', 'GarageYrBlt|MasVnrArea', 'PavedDrive_Tencode|Exterior2nd_Tencode', 'Fireplaces|FireplaceQu_Tencode', 'PoolArea|SaleType_Tencode', 'BedroomAbvGr|GarageFinish_Tencode', 'TotalBsmtSF|LotConfig_Tencode', 'HeatingQC_Tencode|ExterCond_Tencode', 'ScreenPorch|RoofMatl_Tencode', 'LandSlope_Tencode|Condition1_Tencode', 'OverallQual|PoolArea', 'TotRmsAbvGrd|PoolQC_Tencode', 'TotRmsAbvGrd|LowQualFinSF', 'GarageArea|LowQualFinSF', 'KitchenQual_Tencode|Electrical_Tencode', 'Alley_Tencode|FullBath', 'MiscVal|BsmtUnfSF', 'SaleType_Tencode|RoofStyle_Tencode', 'TotRmsAbvGrd|BldgType_Tencode', 'GarageType_Tencode|HalfBath', 'ExterCond_Tencode|BsmtFullBath', 'BsmtHalfBath|MasVnrArea', 'GarageCars|CentralAir_Tencode', 'MiscFeature_Tencode|HouseStyle_Tencode', 'OverallQual|LowQualFinSF', 'MiscVal|GarageQual_Tencode', 'BsmtCond_Tencode|Utilities_Tencode', 'GarageType_Tencode|Neighborhood_Tencode', 'Foundation_Tencode|BldgType_Tencode', 'Electrical_Tencode|BsmtFinType1_Tencode', 'GrLivArea|HalfBath', 'HeatingQC_Tencode|LotFrontage', 'YearBuilt|OpenPorchSF', 'OverallCond|BsmtHalfBath', 'PoolQC_Tencode|Fence_Tencode', 'MiscVal|Exterior1st_Tencode', 'Heating_Tencode|LotShape_Tencode', 'GarageType_Tencode|BsmtUnfSF', 'ScreenPorch|OverallCond', 'FireplaceQu_Tencode|Fence_Tencode', '1stFlrSF|RoofMatl_Tencode', 'YrSold|BldgType_Tencode', 'LotShape_Tencode|HalfBath', 'Electrical_Tencode|RoofStyle_Tencode', 'MiscVal|WoodDeckSF', 'GarageArea|GarageYrBlt', 'GarageCars|EnclosedPorch', 'GarageQual_Tencode|BsmtQual_Tencode', 'ExterCond_Tencode|RoofStyle_Tencode', 'Fireplaces|MasVnrArea', 'GarageArea|GrLivArea', 'KitchenQual_Tencode|BedroomAbvGr', '2ndFlrSF|YearRemodAdd', 'Condition1_Tencode|OpenPorchSF', 'EnclosedPorch|Street_Tencode', 'BsmtFinSF1|3SsnPorch', 'GarageArea|BsmtFinType1_Tencode', 'Condition1_Tencode', 'MoSold|Street_Tencode', 'MSZoning_Tencode|Fireplaces', 'MiscVal|LowQualFinSF', 'HouseStyle_Tencode', 'KitchenQual_Tencode|MiscFeature_Tencode', 'BsmtCond_Tencode|HeatingQC_Tencode', 'MasVnrType_Tencode|Neighborhood_Tencode', 'ScreenPorch|FireplaceQu_Tencode', 'TotalBsmtSF|LotFrontage', 'Heating_Tencode|MSZoning_Tencode', 'PoolArea|RoofStyle_Tencode', 'SaleCondition_Tencode|HeatingQC_Tencode', 'PavedDrive_Tencode|Fence_Tencode', 'CentralAir_Tencode|Exterior2nd_Tencode', 'GarageArea|LotArea', 'EnclosedPorch|YearBuilt', 'Foundation_Tencode|BsmtFullBath', 'BsmtHalfBath|LowQualFinSF', 'MSSubClass|1stFlrSF', 'Fence_Tencode|BsmtFinType1_Tencode', 'GrLivArea|EnclosedPorch', 'BsmtHalfBath|MoSold', 'LotArea|BsmtFinSF1', 'BsmtFinType2_Tencode|MasVnrType_Tencode', 'OverallQual|GarageType_Tencode', 'MSSubClass|2ndFlrSF', 'EnclosedPorch|Fence_Tencode', 'GrLivArea|Street_Tencode', 'MSZoning_Tencode|LowQualFinSF', 'YrSold|BsmtHalfBath', 'Electrical_Tencode|Utilities_Tencode', 'MSSubClass|TotRmsAbvGrd', 'Foundation_Tencode|GarageCond_Tencode', 'Alley_Tencode|BsmtFinSF1', 'Heating_Tencode|Alley_Tencode', 'FireplaceQu_Tencode|Exterior2nd_Tencode', 'SaleCondition_Tencode|HalfBath', 'Alley_Tencode|RoofMatl_Tencode', '2ndFlrSF|ExterQual_Tencode', 'GarageYrBlt|TotRmsAbvGrd', 'LotArea|PoolQC_Tencode', 'BsmtFinSF1|HouseStyle_Tencode', 'BsmtFinType1_Tencode|RoofStyle_Tencode', 'TotRmsAbvGrd|Condition1_Tencode', 'ExterQual_Tencode|GarageFinish_Tencode', 'TotRmsAbvGrd|GarageCond_Tencode', 'MSZoning_Tencode|BldgType_Tencode', 'BsmtUnfSF|HouseStyle_Tencode', 'GarageYrBlt|BsmtFinType1_Tencode', 'MoSold|Exterior2nd_Tencode', 'WoodDeckSF|HalfBath', 'GarageCond_Tencode', 'MSZoning_Tencode|BsmtHalfBath', 'LotShape_Tencode', 'GarageCond_Tencode|BldgType_Tencode', 'EnclosedPorch|FireplaceQu_Tencode', 'Exterior1st_Tencode|Heating_Tencode', 'EnclosedPorch|BsmtFinType1_Tencode', 'Condition2_Tencode|EnclosedPorch', 'BsmtFinSF2|LowQualFinSF', 'Utilities_Tencode|GarageCond_Tencode', 'Electrical_Tencode|BsmtFullBath', 'PoolArea|BsmtFullBath', 'GarageYrBlt|BsmtCond_Tencode', 'OverallQual|GarageCars', 'SaleCondition_Tencode|Exterior2nd_Tencode', 'GarageType_Tencode|PavedDrive_Tencode', '3SsnPorch|FireplaceQu_Tencode', 'GarageCars', 'BsmtCond_Tencode|GarageCond_Tencode', 'YrSold|BsmtCond_Tencode', 'Condition2_Tencode|GarageType_Tencode', 'HeatingQC_Tencode|Street_Tencode', 'GarageArea|CentralAir_Tencode', 'BsmtFinSF2|Street_Tencode', 'Condition2_Tencode|LotConfig_Tencode', 'MiscVal|MiscFeature_Tencode', 'BsmtHalfBath|YearBuilt', 'LotConfig_Tencode|OverallCond', 'Functional_Tencode|GarageCars', 'Condition2_Tencode|HalfBath', 'Fireplaces|2ndFlrSF', 'MSSubClass|GarageYrBlt', 'LotConfig_Tencode|Alley_Tencode', 'MSSubClass|Street_Tencode', 'Exterior1st_Tencode|RoofStyle_Tencode', 'BsmtFinSF1|RoofStyle_Tencode', 'TotalBsmtSF|PoolQC_Tencode', 'HeatingQC_Tencode|BldgType_Tencode', 'YrSold|LowQualFinSF', 'MoSold|OpenPorchSF', 'OpenPorchSF|Neighborhood_Tencode', 'LotFrontage|BsmtUnfSF', 'Alley_Tencode|PoolQC_Tencode', 'SaleCondition_Tencode|BsmtHalfBath', 'BsmtExposure_Tencode|GarageFinish_Tencode', 'GarageArea|Functional_Tencode', 'Heating_Tencode', 'BedroomAbvGr|Neighborhood_Tencode', 'MiscFeature_Tencode|BsmtFullBath', 'FireplaceQu_Tencode|RoofStyle_Tencode', 'MSZoning_Tencode|BsmtUnfSF', 'PavedDrive_Tencode|RoofStyle_Tencode', 'BsmtExposure_Tencode|GarageCond_Tencode', 'TotalBsmtSF|GarageFinish_Tencode', 'WoodDeckSF|LandContour_Tencode', 'PavedDrive_Tencode|ExterCond_Tencode', 'LotConfig_Tencode|PoolQC_Tencode', 'Alley_Tencode', 'TotRmsAbvGrd|BedroomAbvGr', 'SaleCondition_Tencode|Utilities_Tencode', 'MSZoning_Tencode|Electrical_Tencode', 'PavedDrive_Tencode|CentralAir_Tencode', 'MasVnrType_Tencode|ExterCond_Tencode', 'WoodDeckSF|LotFrontage', 'Exterior1st_Tencode|LotArea', 'FullBath|BsmtUnfSF', 'TotalBsmtSF|OverallCond', 'MSSubClass|ExterCond_Tencode', 'MSSubClass|RoofMatl_Tencode', 'GrLivArea', 'YrSold|BsmtFinSF2', 'GarageArea|BsmtFinSF1', 'MasVnrType_Tencode|BsmtFinType1_Tencode', 'BsmtCond_Tencode|GarageType_Tencode', 'ExterQual_Tencode|BsmtQual_Tencode', 'GarageCond_Tencode|GarageFinish_Tencode', 'BldgType_Tencode', 'GarageQual_Tencode|1stFlrSF', 'Electrical_Tencode|Condition1_Tencode', '2ndFlrSF|BsmtUnfSF', 'MiscVal|Street_Tencode', 'EnclosedPorch|PoolQC_Tencode', 'GarageArea|BsmtExposure_Tencode', 'BsmtHalfBath|GarageCond_Tencode', 'HalfBath', 'Heating_Tencode|GarageCars', 'Utilities_Tencode|YearRemodAdd', 'OverallQual|LotFrontage', 'LotArea|Electrical_Tencode', 'Foundation_Tencode|Utilities_Tencode', 'GarageArea|1stFlrSF', 'KitchenAbvGr|Neighborhood_Tencode', 'Utilities_Tencode|RoofMatl_Tencode', 'MasVnrType_Tencode|Condition1_Tencode', 'Fireplaces|GarageFinish_Tencode', 'GarageQual_Tencode|Heating_Tencode', 'ScreenPorch|TotRmsAbvGrd', 'SaleCondition_Tencode|MasVnrArea', 'MasVnrType_Tencode|RoofStyle_Tencode', 'KitchenAbvGr|BsmtFinType1_Tencode', 'PoolQC_Tencode|BsmtFullBath', 'MasVnrType_Tencode|KitchenAbvGr', 'BsmtFinType2_Tencode|MasVnrArea', 'MoSold|LotFrontage', 'LotShape_Tencode|SaleType_Tencode', 'OverallQual|MasVnrType_Tencode', 'MSSubClass|Utilities_Tencode', 'GarageType_Tencode|Fireplaces', 'Alley_Tencode|LandSlope_Tencode', 'PoolQC_Tencode|LandSlope_Tencode', 'LotArea|MasVnrArea', 'FullBath|KitchenAbvGr', 'Exterior1st_Tencode|TotalBsmtSF', 'GarageQual_Tencode|FireplaceQu_Tencode', 'Electrical_Tencode|KitchenAbvGr', 'BsmtFinSF1|LandSlope_Tencode', 'Electrical_Tencode|Fence_Tencode', 'GarageArea|YearBuilt', 'LowQualFinSF|PoolQC_Tencode', 'LandSlope_Tencode|Street_Tencode', 'GarageArea|KitchenQual_Tencode', 'KitchenQual_Tencode|BsmtExposure_Tencode', 'LotShape_Tencode|3SsnPorch', 'Functional_Tencode|Alley_Tencode', 'BsmtFinSF1|Exterior2nd_Tencode', 'SaleCondition_Tencode|ExterCond_Tencode', 'PoolArea|FullBath', 'SaleCondition_Tencode|ExterQual_Tencode', 'TotRmsAbvGrd|MasVnrArea', 'GarageCars|Fireplaces', 'GarageArea', '1stFlrSF|HouseStyle_Tencode', 'Foundation_Tencode|OpenPorchSF', 'Heating_Tencode|BedroomAbvGr', 'BsmtFinSF1|Fence_Tencode', 'Exterior1st_Tencode|Alley_Tencode', 'PoolQC_Tencode|Exterior2nd_Tencode', 'BedroomAbvGr|OpenPorchSF', 'BsmtCond_Tencode|YearBuilt', 'GarageYrBlt', 'MSSubClass|CentralAir_Tencode', 'Condition2_Tencode|BsmtUnfSF', 'Functional_Tencode|HeatingQC_Tencode', 'FullBath|BsmtFullBath', '1stFlrSF|BsmtHalfBath', 'PoolQC_Tencode|OpenPorchSF', 'SaleCondition_Tencode|Foundation_Tencode', 'Exterior1st_Tencode|ExterCond_Tencode', 'PoolQC_Tencode|Street_Tencode', 'GarageYrBlt|Fence_Tencode', 'GarageCars|Utilities_Tencode', 'BsmtFinSF1|EnclosedPorch', 'Exterior1st_Tencode|BsmtQual_Tencode', 'MSSubClass|SaleType_Tencode', 'BsmtFinType2_Tencode|BsmtCond_Tencode', 'MiscVal|CentralAir_Tencode', 'BsmtHalfBath|ExterCond_Tencode', 'Condition2_Tencode|Functional_Tencode', 'LotFrontage|RoofStyle_Tencode', 'MasVnrArea|Neighborhood_Tencode', 'Fireplaces|Exterior2nd_Tencode', 'Alley_Tencode|OpenPorchSF', 'LandSlope_Tencode|RoofMatl_Tencode', 'BsmtCond_Tencode|Electrical_Tencode', 'GrLivArea|MasVnrArea', 'FullBath|PoolQC_Tencode', 'OverallQual|TotalBsmtSF', 'LotShape_Tencode|EnclosedPorch', 'GrLivArea|GarageFinish_Tencode', 'GarageType_Tencode|LotShape_Tencode', 'MSSubClass|Condition1_Tencode', 'SaleType_Tencode|GarageFinish_Tencode', 'PoolArea|ExterCond_Tencode', 'PavedDrive_Tencode|Neighborhood_Tencode', 'LotConfig_Tencode|MiscFeature_Tencode', 'BsmtHalfBath|SaleType_Tencode', 'LotArea|BsmtFinType1_Tencode', 'LotShape_Tencode|BsmtFinType1_Tencode', 'BedroomAbvGr|YearRemodAdd', 'LotArea|Alley_Tencode', '3SsnPorch|MasVnrArea', 'MSZoning_Tencode|KitchenAbvGr', 'SaleCondition_Tencode|LandSlope_Tencode', 'Functional_Tencode|BsmtUnfSF', '3SsnPorch|BsmtFinType1_Tencode', 'LotArea|MiscFeature_Tencode', 'MoSold|2ndFlrSF', 'YrSold|KitchenAbvGr', 'SaleType_Tencode|HouseStyle_Tencode', 'MoSold|LandContour_Tencode', 'BsmtFinSF2|BsmtFullBath', 'BsmtCond_Tencode|YearRemodAdd', 'BsmtCond_Tencode|BsmtUnfSF', 'HalfBath|Fence_Tencode', 'HalfBath|FireplaceQu_Tencode', 'LowQualFinSF|BedroomAbvGr', 'BsmtFinSF1|CentralAir_Tencode', 'MiscFeature_Tencode|2ndFlrSF', 'PoolArea|BsmtFinSF1', 'Exterior2nd_Tencode|OpenPorchSF', 'BedroomAbvGr|Street_Tencode', 'ExterCond_Tencode|GarageCond_Tencode', 'MiscVal|OverallQual', 'PoolArea|MoSold', 'MSSubClass|MSZoning_Tencode', 'GarageArea|Utilities_Tencode', 'FireplaceQu_Tencode|OpenPorchSF', 'ScreenPorch|YearBuilt', 'MSZoning_Tencode|YearRemodAdd', 'YearRemodAdd|GarageFinish_Tencode', 'YrSold|Fireplaces', 'Functional_Tencode|SaleType_Tencode', 'Exterior2nd_Tencode', 'YearBuilt|Street_Tencode', 'SaleType_Tencode|GarageCond_Tencode', 'TotalBsmtSF|RoofMatl_Tencode', 'KitchenQual_Tencode|GarageFinish_Tencode', 'BsmtCond_Tencode|Street_Tencode', 'OverallQual|Foundation_Tencode', 'MSSubClass|BsmtCond_Tencode', 'GarageYrBlt|KitchenAbvGr', 'MoSold|Neighborhood_Tencode', 'Condition2_Tencode|Condition1_Tencode', 'BsmtQual_Tencode|OpenPorchSF', '3SsnPorch|EnclosedPorch', 'Alley_Tencode|BedroomAbvGr', 'MSSubClass|HalfBath', 'YrSold|GarageYrBlt', 'GrLivArea|TotRmsAbvGrd', 'BsmtFullBath|GarageCond_Tencode', 'Electrical_Tencode|YearBuilt', 'CentralAir_Tencode|Street_Tencode', 'CentralAir_Tencode|Neighborhood_Tencode', '3SsnPorch|Fireplaces', '3SsnPorch|RoofStyle_Tencode', 'BsmtFinType2_Tencode|Fence_Tencode', 'MoSold|Condition1_Tencode', 'HeatingQC_Tencode|PoolQC_Tencode', 'GarageYrBlt|GarageCars', 'LotShape_Tencode|GarageFinish_Tencode', 'Condition2_Tencode|Alley_Tencode', 'YearBuilt|RoofMatl_Tencode', 'MoSold|GarageFinish_Tencode', 'Condition2_Tencode|MiscFeature_Tencode', 'MSZoning_Tencode|LandContour_Tencode', 'GarageCars|OverallCond', 'BsmtFinSF2|PoolQC_Tencode', 'LotShape_Tencode|OpenPorchSF', 'PoolArea|LandSlope_Tencode', 'MSZoning_Tencode|BedroomAbvGr', 'WoodDeckSF|EnclosedPorch', 'LotFrontage|OpenPorchSF', 'Exterior1st_Tencode|Foundation_Tencode', 'PoolArea|PoolQC_Tencode', 'Heating_Tencode|ExterQual_Tencode', 'LandSlope_Tencode|MasVnrArea', 'LowQualFinSF|BsmtUnfSF', 'MasVnrType_Tencode|LowQualFinSF', 'Exterior1st_Tencode|MSSubClass', 'OverallCond|HouseStyle_Tencode', '3SsnPorch|1stFlrSF', 'MoSold|ExterCond_Tencode', 'MSZoning_Tencode|MasVnrArea', 'PoolArea|EnclosedPorch', 'MSSubClass|Alley_Tencode', 'GarageArea|GarageCond_Tencode', 'Condition2_Tencode|LowQualFinSF', 'MasVnrType_Tencode|Functional_Tencode', 'Electrical_Tencode|BsmtHalfBath', 'Exterior1st_Tencode|Condition1_Tencode', 'LowQualFinSF|Neighborhood_Tencode', 'FireplaceQu_Tencode|ExterCond_Tencode', 'Fence_Tencode|YearRemodAdd', 'Alley_Tencode|YearRemodAdd', 'Electrical_Tencode|GarageCond_Tencode', 'PavedDrive_Tencode|2ndFlrSF', 'Street_Tencode|RoofStyle_Tencode', 'EnclosedPorch|BsmtExposure_Tencode', 'Heating_Tencode|PoolQC_Tencode', 'OverallQual|LotArea', 'ExterQual_Tencode|GarageCond_Tencode', 'PoolQC_Tencode|HouseStyle_Tencode', 'HeatingQC_Tencode|YearBuilt', 'TotalBsmtSF|GarageCond_Tencode', 'LotShape_Tencode|ExterQual_Tencode', 'Condition2_Tencode|Street_Tencode', 'WoodDeckSF|YearRemodAdd', 'LotArea|1stFlrSF', 'HalfBath|HeatingQC_Tencode', 'ScreenPorch|BsmtFinSF1', '3SsnPorch|LandSlope_Tencode', 'BsmtQual_Tencode|YearRemodAdd', 'BsmtFinSF1|RoofMatl_Tencode', 'Exterior1st_Tencode|KitchenAbvGr', 'MSSubClass|LandContour_Tencode', 'Exterior1st_Tencode|Electrical_Tencode', 'BsmtFinSF2|3SsnPorch', 'SaleCondition_Tencode|BsmtQual_Tencode', 'LotConfig_Tencode|HalfBath', 'GarageType_Tencode|CentralAir_Tencode', 'Electrical_Tencode|1stFlrSF', 'TotalBsmtSF|YearRemodAdd', 'MoSold|PoolQC_Tencode', 'BsmtFinSF2|Alley_Tencode', 'LotConfig_Tencode|BsmtExposure_Tencode', 'KitchenAbvGr|BsmtUnfSF', 'Heating_Tencode|BsmtFullBath', 'MSSubClass|BsmtUnfSF', 'LowQualFinSF|Fence_Tencode', 'BsmtFinSF2|FullBath', 'ExterQual_Tencode', 'BsmtCond_Tencode|BldgType_Tencode', 'LotArea|WoodDeckSF', 'OverallCond|3SsnPorch', 'Functional_Tencode|1stFlrSF', 'SaleType_Tencode|EnclosedPorch', 'Functional_Tencode|GarageCond_Tencode', 'GarageCars|BedroomAbvGr', 'BsmtExposure_Tencode|Street_Tencode', 'EnclosedPorch|YearRemodAdd', 'LotConfig_Tencode|FullBath', 'Neighborhood_Tencode|BsmtFinType1_Tencode', 'GarageQual_Tencode|GarageType_Tencode', 'Condition2_Tencode|Fireplaces', 'GarageType_Tencode|OverallCond', 'SaleCondition_Tencode|LotShape_Tencode', 'GarageArea|SaleType_Tencode', 'Functional_Tencode|CentralAir_Tencode', 'HalfBath|ExterCond_Tencode', 'Exterior1st_Tencode|ExterQual_Tencode', 'OverallCond|Foundation_Tencode', 'PavedDrive_Tencode|KitchenAbvGr', 'BsmtHalfBath|HalfBath', 'TotalBsmtSF|PavedDrive_Tencode', 'GarageYrBlt|YearBuilt', 'Heating_Tencode|KitchenQual_Tencode', 'LowQualFinSF|LotFrontage', 'LandSlope_Tencode|BsmtQual_Tencode', 'ScreenPorch|MoSold', 'BsmtCond_Tencode|LotConfig_Tencode', 'KitchenQual_Tencode|BsmtUnfSF', 'WoodDeckSF|MSZoning_Tencode', 'BsmtUnfSF|BldgType_Tencode', 'BsmtFinSF1|GarageCond_Tencode', 'SaleCondition_Tencode|3SsnPorch', 'MasVnrType_Tencode|GarageFinish_Tencode', 'Foundation_Tencode|Street_Tencode', 'Electrical_Tencode|LandContour_Tencode', 'BsmtCond_Tencode|CentralAir_Tencode', 'MasVnrType_Tencode|BldgType_Tencode', '2ndFlrSF|BsmtFullBath', 'OverallQual|3SsnPorch', 'Foundation_Tencode|Condition1_Tencode', 'GarageCars|RoofStyle_Tencode', 'GarageYrBlt|1stFlrSF', 'LotConfig_Tencode|LandContour_Tencode', 'Condition1_Tencode|BsmtQual_Tencode', 'HalfBath|LandContour_Tencode', 'CentralAir_Tencode|GarageCond_Tencode', 'GrLivArea|Neighborhood_Tencode', 'SaleCondition_Tencode|GarageCars', 'FullBath|GrLivArea', 'BsmtFullBath|RoofStyle_Tencode', 'EnclosedPorch|GarageCond_Tencode', 'TotRmsAbvGrd|ExterCond_Tencode', 'GarageCars|SaleType_Tencode', 'BsmtExposure_Tencode|PavedDrive_Tencode', 'GarageType_Tencode|FullBath', 'MasVnrType_Tencode|Heating_Tencode', 'OverallQual|BldgType_Tencode', 'HouseStyle_Tencode|BsmtFinType1_Tencode', 'Condition2_Tencode|HeatingQC_Tencode', 'OverallCond|LandContour_Tencode', 'LotShape_Tencode|YearBuilt', 'LotArea|YearRemodAdd', 'HalfBath|LandSlope_Tencode', 'GarageQual_Tencode|2ndFlrSF', 'FullBath|BsmtExposure_Tencode', 'BsmtExposure_Tencode|BldgType_Tencode', 'Exterior1st_Tencode|BsmtExposure_Tencode', 'BsmtFinSF2|PavedDrive_Tencode', 'Heating_Tencode|WoodDeckSF', 'GrLivArea|Fireplaces', 'OverallCond|LowQualFinSF', 'Foundation_Tencode|MoSold', 'GarageYrBlt|BsmtHalfBath', 'FullBath|FireplaceQu_Tencode', 'ExterCond_Tencode|Utilities_Tencode', 'YrSold|TotRmsAbvGrd', 'BsmtFinSF1', '2ndFlrSF|Fence_Tencode', 'SaleCondition_Tencode|YearBuilt', 'BsmtFinType2_Tencode|ScreenPorch', 'PoolArea|ScreenPorch', 'PoolArea|MiscFeature_Tencode', 'BedroomAbvGr|BldgType_Tencode', '3SsnPorch|Foundation_Tencode', 'Exterior1st_Tencode|Exterior2nd_Tencode', 'LotArea|FireplaceQu_Tencode', 'Functional_Tencode|LandSlope_Tencode', 'LotShape_Tencode|2ndFlrSF', 'ScreenPorch|GarageCond_Tencode', 'CentralAir_Tencode|BldgType_Tencode', '1stFlrSF|LotFrontage', 'ScreenPorch|OpenPorchSF', 'PoolArea|GarageCond_Tencode', 'LandContour_Tencode|HouseStyle_Tencode', 'GarageArea|BldgType_Tencode', 'MiscVal|Exterior2nd_Tencode', 'YearRemodAdd', 'OverallQual|BsmtFinSF1', 'LotShape_Tencode|PoolQC_Tencode', 'Heating_Tencode|Fireplaces', 'MiscVal|GrLivArea', 'RoofMatl_Tencode', 'SaleCondition_Tencode|LotFrontage', 'EnclosedPorch|CentralAir_Tencode', 'BsmtFinSF1|Foundation_Tencode', 'WoodDeckSF|OverallCond', 'BsmtHalfBath|FireplaceQu_Tencode', 'LotConfig_Tencode|LowQualFinSF', 'FireplaceQu_Tencode|BedroomAbvGr', 'Alley_Tencode|3SsnPorch', 'Exterior1st_Tencode|Utilities_Tencode', 'BsmtFinType2_Tencode|MSZoning_Tencode', 'CentralAir_Tencode|LandSlope_Tencode', 'Fence_Tencode|Neighborhood_Tencode', 'MSSubClass|MiscFeature_Tencode', 'TotRmsAbvGrd|Exterior2nd_Tencode', 'Fence_Tencode|ExterQual_Tencode', 'Exterior2nd_Tencode|RoofMatl_Tencode', 'MiscFeature_Tencode|LowQualFinSF', 'Exterior1st_Tencode|GarageArea', 'LotFrontage|HouseStyle_Tencode', 'WoodDeckSF|BsmtFullBath', 'YearBuilt|RoofStyle_Tencode', 'Fireplaces|PoolQC_Tencode', 'Functional_Tencode|SaleCondition_Tencode', 'LandContour_Tencode|MasVnrArea', 'GarageQual_Tencode|LotArea', 'LotShape_Tencode|Foundation_Tencode', 'BedroomAbvGr|BsmtFullBath', 'BsmtExposure_Tencode|HeatingQC_Tencode', 'YrSold|1stFlrSF', 'Alley_Tencode|KitchenAbvGr', 'SaleCondition_Tencode|PoolQC_Tencode', 'GarageQual_Tencode|MiscFeature_Tencode', 'LotConfig_Tencode', 'Condition2_Tencode|ExterQual_Tencode', 'MasVnrType_Tencode|MSZoning_Tencode', 'GarageYrBlt|GarageQual_Tencode', 'Foundation_Tencode|KitchenAbvGr', 'GrLivArea|LotShape_Tencode', 'OverallQual|Condition2_Tencode', 'Heating_Tencode|LandSlope_Tencode', 'GarageType_Tencode|BldgType_Tencode', 'CentralAir_Tencode|RoofStyle_Tencode', 'SaleType_Tencode|PoolQC_Tencode', 'BsmtExposure_Tencode|Foundation_Tencode', 'BsmtFinSF1|GrLivArea', 'BsmtFinType2_Tencode|FullBath', 'Heating_Tencode|OpenPorchSF', 'PoolQC_Tencode|BsmtQual_Tencode', 'MSSubClass|FullBath', 'PavedDrive_Tencode|Utilities_Tencode', 'Alley_Tencode|FireplaceQu_Tencode', 'GarageType_Tencode|YearRemodAdd', 'BsmtFinType2_Tencode|LotArea', 'HalfBath|MasVnrArea', 'BsmtExposure_Tencode|LowQualFinSF', 'Fireplaces|MiscFeature_Tencode', 'PoolQC_Tencode|KitchenAbvGr', 'LotArea|LotShape_Tencode', 'LandContour_Tencode|LotFrontage', '1stFlrSF|TotRmsAbvGrd', 'GrLivArea|YearBuilt', 'CentralAir_Tencode|HouseStyle_Tencode', 'PoolQC_Tencode|Utilities_Tencode', 'TotalBsmtSF|1stFlrSF', 'MSZoning_Tencode|GarageType_Tencode', 'OverallCond|FireplaceQu_Tencode', 'BsmtHalfBath|BsmtFinType1_Tencode', 'MasVnrType_Tencode|BsmtExposure_Tencode', 'MSSubClass|KitchenQual_Tencode', '2ndFlrSF|OpenPorchSF', 'Alley_Tencode|ScreenPorch', 'BsmtFinSF2|KitchenQual_Tencode', 'SaleCondition_Tencode|YearRemodAdd', 'GarageArea|FireplaceQu_Tencode', 'BsmtFinType1_Tencode|GarageFinish_Tencode', 'OverallQual|Functional_Tencode', 'BsmtFinType2_Tencode|1stFlrSF', 'FullBath|ExterQual_Tencode', 'LowQualFinSF|ExterQual_Tencode', 'Exterior1st_Tencode|LotConfig_Tencode', 'BsmtFinType2_Tencode|2ndFlrSF', 'BsmtFinType2_Tencode|Utilities_Tencode', 'Condition2_Tencode|HouseStyle_Tencode', 'OverallCond|PoolQC_Tencode', 'OverallQual|Neighborhood_Tencode', 'OverallQual|Street_Tencode', 'BsmtFinSF2|RoofStyle_Tencode', 'OverallCond|RoofMatl_Tencode', 'Utilities_Tencode', 'HalfBath|Neighborhood_Tencode', 'Heating_Tencode|TotRmsAbvGrd', 'Functional_Tencode|LotArea', 'CentralAir_Tencode|RoofMatl_Tencode', 'Foundation_Tencode|BsmtUnfSF', 'HalfBath|BsmtExposure_Tencode', 'Foundation_Tencode|BedroomAbvGr', 'GarageArea|LotShape_Tencode', 'CentralAir_Tencode|KitchenAbvGr', 'Condition2_Tencode|GarageCond_Tencode', 'GrLivArea|SaleType_Tencode', 'OverallQual|BsmtFinType2_Tencode', 'FullBath|Foundation_Tencode', 'KitchenQual_Tencode|EnclosedPorch', 'MiscFeature_Tencode|Utilities_Tencode', 'MasVnrType_Tencode|1stFlrSF', 'MSZoning_Tencode|GarageCond_Tencode', 'BsmtCond_Tencode|Fence_Tencode', 'MiscVal|Foundation_Tencode', 'Condition1_Tencode|RoofMatl_Tencode', 'BsmtFinType2_Tencode|Functional_Tencode', 'SaleCondition_Tencode|PavedDrive_Tencode', 'BsmtQual_Tencode', 'SaleType_Tencode|LowQualFinSF', 'Heating_Tencode|PavedDrive_Tencode', 'MSSubClass|LotFrontage', 'BsmtFinSF2|1stFlrSF', 'BsmtFinSF2|LotShape_Tencode', 'PoolArea|SaleCondition_Tencode', 'ScreenPorch|GarageFinish_Tencode', 'MasVnrType_Tencode|Alley_Tencode', 'BsmtFinSF2|MoSold', 'GarageQual_Tencode|LotConfig_Tencode', 'WoodDeckSF|3SsnPorch', 'Condition2_Tencode|GarageYrBlt', 'BsmtCond_Tencode|LowQualFinSF', 'GarageYrBlt|WoodDeckSF', 'Exterior1st_Tencode|FullBath', 'MSZoning_Tencode|Street_Tencode', '1stFlrSF|BsmtFinType1_Tencode', 'TotalBsmtSF|LandContour_Tencode', 'Functional_Tencode|BsmtQual_Tencode', 'YearBuilt|ExterQual_Tencode', 'SaleType_Tencode|Neighborhood_Tencode', 'BsmtFinSF1|SaleType_Tencode', 'YrSold|Condition2_Tencode', 'Alley_Tencode|BldgType_Tencode', '1stFlrSF|Fence_Tencode', 'KitchenQual_Tencode|PoolQC_Tencode', 'LotArea|SaleCondition_Tencode', 'TotRmsAbvGrd|LotFrontage', 'GarageQual_Tencode|CentralAir_Tencode', 'MasVnrType_Tencode|HeatingQC_Tencode', 'MiscFeature_Tencode|Neighborhood_Tencode', 'TotalBsmtSF|Electrical_Tencode', 'BsmtFinType2_Tencode|BsmtHalfBath', 'GarageCars|BsmtHalfBath', 'PoolArea|RoofMatl_Tencode', 'BsmtHalfBath|PoolQC_Tencode', 'TotalBsmtSF|Neighborhood_Tencode', 'Condition2_Tencode|BldgType_Tencode', '1stFlrSF|HeatingQC_Tencode', 'Alley_Tencode|LotFrontage', 'MiscFeature_Tencode|OpenPorchSF', 'LotArea|BldgType_Tencode', 'BsmtCond_Tencode|PavedDrive_Tencode', 'BsmtFinType2_Tencode|BsmtFullBath', 'Fireplaces|RoofMatl_Tencode', 'GarageCars|BsmtFinType1_Tencode', 'TotRmsAbvGrd|Street_Tencode', 'MSSubClass|ExterQual_Tencode', 'Condition2_Tencode|PoolQC_Tencode', 'Condition2_Tencode|SaleCondition_Tencode', 'KitchenAbvGr|LotFrontage', 'PoolArea|MasVnrArea', '1stFlrSF|BsmtExposure_Tencode', 'Heating_Tencode|BsmtFinType1_Tencode', 'ScreenPorch|BedroomAbvGr', 'MiscFeature_Tencode|KitchenAbvGr', 'Street_Tencode|Neighborhood_Tencode', 'ScreenPorch|LandSlope_Tencode', 'TotRmsAbvGrd|SaleType_Tencode', '1stFlrSF|Fireplaces', 'TotRmsAbvGrd|Neighborhood_Tencode', 'BsmtCond_Tencode|RoofMatl_Tencode', 'LotConfig_Tencode|Condition1_Tencode', 'SaleCondition_Tencode|2ndFlrSF', 'LotArea|ExterQual_Tencode', 'SaleCondition_Tencode|KitchenQual_Tencode', 'ExterCond_Tencode|MasVnrArea', 'MasVnrType_Tencode', 'MasVnrType_Tencode|OverallCond', 'BsmtUnfSF|BsmtFinType1_Tencode', 'PavedDrive_Tencode|YearRemodAdd', 'BsmtExposure_Tencode|BedroomAbvGr', 'Foundation_Tencode|LowQualFinSF', 'GarageArea|LotConfig_Tencode', 'Alley_Tencode|TotRmsAbvGrd', 'PoolQC_Tencode|ExterQual_Tencode', 'LotArea|FullBath', 'BsmtCond_Tencode|HalfBath', 'MasVnrType_Tencode|YearRemodAdd', 'HalfBath|RoofMatl_Tencode', 'Exterior1st_Tencode|TotRmsAbvGrd', 'TotalBsmtSF|Heating_Tencode', '2ndFlrSF|PoolQC_Tencode', 'KitchenAbvGr|Utilities_Tencode', 'GarageQual_Tencode|LowQualFinSF', 'BsmtHalfBath|HouseStyle_Tencode', 'SaleCondition_Tencode|SaleType_Tencode', 'Functional_Tencode|Electrical_Tencode', 'BsmtFinType2_Tencode|TotRmsAbvGrd', 'MiscVal|LandContour_Tencode', 'MSSubClass|LotArea', 'MSZoning_Tencode|FireplaceQu_Tencode', 'GarageQual_Tencode|YearRemodAdd', 'Condition2_Tencode|RoofStyle_Tencode', 'GarageArea|PoolQC_Tencode', 'FireplaceQu_Tencode|PoolQC_Tencode', 'LotArea|Utilities_Tencode', 'ScreenPorch|PavedDrive_Tencode', 'Exterior1st_Tencode|BsmtFinSF2', 'TotalBsmtSF', 'YearBuilt|BsmtFinType1_Tencode', 'MiscVal|OverallCond', 'LotArea|OverallCond', 'LotArea|ScreenPorch', 'PoolArea|GarageCars', 'BsmtFinType2_Tencode|RoofMatl_Tencode', 'PavedDrive_Tencode|RoofMatl_Tencode', 'PavedDrive_Tencode|LowQualFinSF', 'LandSlope_Tencode|Exterior2nd_Tencode', 'YrSold|LotFrontage', 'RoofStyle_Tencode|BldgType_Tencode', 'Utilities_Tencode|MasVnrArea', 'MiscVal|BldgType_Tencode', 'BsmtQual_Tencode|Street_Tencode', '3SsnPorch|HalfBath', 'Electrical_Tencode|MoSold', 'ScreenPorch|RoofStyle_Tencode', 'GrLivArea|HouseStyle_Tencode', 'BsmtFinSF2|GarageYrBlt', 'PoolArea|PavedDrive_Tencode', 'BsmtHalfBath|2ndFlrSF', 'MSSubClass|SaleCondition_Tencode', 'ScreenPorch|Street_Tencode', 'YearBuilt|Fence_Tencode', 'GarageCars|GrLivArea', 'TotalBsmtSF|GrLivArea', 'GarageYrBlt|BsmtUnfSF', 'BsmtFinSF2|Condition1_Tencode', 'MSZoning_Tencode|LotFrontage', 'OverallCond|BsmtFullBath', 'LotArea|GarageCond_Tencode', 'GrLivArea|Utilities_Tencode', 'GarageYrBlt|YearRemodAdd', 'YearBuilt', 'BsmtFinSF1|Fireplaces', 'FullBath|MasVnrArea', 'GarageQual_Tencode|BsmtCond_Tencode', 'LotConfig_Tencode|BsmtFinType1_Tencode', 'LandSlope_Tencode|BsmtFinType1_Tencode', 'OverallQual|BsmtFinType1_Tencode', 'MoSold|KitchenAbvGr', 'ScreenPorch|CentralAir_Tencode', 'Condition2_Tencode|LotArea', 'TotalBsmtSF|HalfBath', 'MasVnrType_Tencode|OpenPorchSF', 'BsmtFinSF2|TotalBsmtSF', 'LandSlope_Tencode|BsmtFullBath', 'MiscFeature_Tencode|BldgType_Tencode', 'OverallQual|RoofMatl_Tencode', 'YrSold|FullBath', 'ExterQual_Tencode|Street_Tencode', 'Heating_Tencode|KitchenAbvGr', 'BsmtFinSF1|Electrical_Tencode', 'HeatingQC_Tencode|GarageCond_Tencode', 'GarageCars|2ndFlrSF', 'BsmtFinType2_Tencode|Exterior2nd_Tencode', 'HeatingQC_Tencode|ExterQual_Tencode', 'BsmtHalfBath|RoofStyle_Tencode', 'OpenPorchSF|RoofMatl_Tencode', 'FireplaceQu_Tencode|YearRemodAdd', 'BsmtFullBath|Street_Tencode', 'MiscFeature_Tencode|Condition1_Tencode', 'BsmtFinType2_Tencode|MiscFeature_Tencode', 'LotConfig_Tencode|FireplaceQu_Tencode', 'BedroomAbvGr|RoofMatl_Tencode', 'KitchenQual_Tencode|GrLivArea', 'Street_Tencode|MasVnrArea', 'HalfBath|Condition1_Tencode', 'GarageType_Tencode|RoofStyle_Tencode', 'MiscFeature_Tencode|FireplaceQu_Tencode', 'GarageArea|BsmtUnfSF', 'YrSold|LotConfig_Tencode', 'Alley_Tencode|EnclosedPorch', 'BsmtFinSF2|BsmtCond_Tencode', 'GarageCars|OpenPorchSF', 'GarageQual_Tencode|LandSlope_Tencode', 'Street_Tencode|YearRemodAdd', '3SsnPorch|PoolQC_Tencode', 'GarageYrBlt|LotFrontage', 'MiscVal|Condition2_Tencode', 'HeatingQC_Tencode|BsmtQual_Tencode', 'BsmtCond_Tencode|FireplaceQu_Tencode', 'BsmtExposure_Tencode|Exterior2nd_Tencode', 'PoolQC_Tencode|YearBuilt', 'GarageQual_Tencode|LotFrontage', 'Exterior1st_Tencode|GarageCond_Tencode', 'EnclosedPorch|HeatingQC_Tencode', 'Functional_Tencode|Utilities_Tencode', 'YrSold|KitchenQual_Tencode', 'LotArea|GarageType_Tencode', 'GarageQual_Tencode|KitchenQual_Tencode', 'GarageQual_Tencode|PoolQC_Tencode', 'Exterior1st_Tencode|HouseStyle_Tencode', '1stFlrSF|MiscFeature_Tencode', '1stFlrSF|Neighborhood_Tencode', 'Exterior1st_Tencode|GarageType_Tencode', 'Heating_Tencode|SaleType_Tencode', 'Foundation_Tencode|YearBuilt', 'LotConfig_Tencode|GarageCond_Tencode', 'MasVnrArea|RoofStyle_Tencode', 'MiscVal|Fireplaces', 'BsmtCond_Tencode|PoolQC_Tencode', 'LandContour_Tencode', 'TotalBsmtSF|KitchenQual_Tencode', 'BsmtFinSF1|LotShape_Tencode', 'CentralAir_Tencode|BsmtFinType1_Tencode', '2ndFlrSF|YearBuilt', 'TotRmsAbvGrd|KitchenAbvGr', 'PavedDrive_Tencode|GarageCond_Tencode', 'YrSold|LandSlope_Tencode', 'GrLivArea|BsmtExposure_Tencode', 'GarageQual_Tencode|OverallCond', '3SsnPorch|LowQualFinSF', 'SaleCondition_Tencode|BsmtUnfSF', 'MasVnrType_Tencode|LotShape_Tencode', 'MiscVal|GarageCars', 'OverallQual|Exterior2nd_Tencode', 'MasVnrType_Tencode|BsmtQual_Tencode', 'BsmtFullBath|Neighborhood_Tencode', 'YrSold|SaleType_Tencode', 'Foundation_Tencode|PoolQC_Tencode', 'KitchenQual_Tencode|TotRmsAbvGrd', 'OverallCond|MoSold', 'TotalBsmtSF|BsmtQual_Tencode', 'HalfBath|BsmtFinType1_Tencode', 'MiscVal|BedroomAbvGr', 'GarageYrBlt|KitchenQual_Tencode', 'MoSold|ExterQual_Tencode', 'GarageQual_Tencode|ExterQual_Tencode', 'Alley_Tencode|SaleType_Tencode', 'GrLivArea|ExterCond_Tencode', 'BsmtFinType2_Tencode|BsmtUnfSF', 'GarageQual_Tencode|HeatingQC_Tencode', 'TotalBsmtSF|HouseStyle_Tencode', 'LotConfig_Tencode|3SsnPorch', 'MSSubClass|ScreenPorch', 'MSZoning_Tencode|PoolQC_Tencode', 'YearBuilt|BsmtUnfSF', 'EnclosedPorch|BsmtFullBath', 'FullBath|Fireplaces', 'BsmtCond_Tencode|Condition1_Tencode', 'HeatingQC_Tencode|Fence_Tencode', 'MasVnrType_Tencode|BsmtUnfSF', 'GarageType_Tencode|Street_Tencode', 'GarageQual_Tencode|Fireplaces', 'FireplaceQu_Tencode|GarageCond_Tencode', 'LotFrontage|Neighborhood_Tencode', 'LandSlope_Tencode|YearRemodAdd', 'MSZoning_Tencode|FullBath', 'GarageQual_Tencode|Fence_Tencode', 'GarageArea|MSZoning_Tencode', 'PoolQC_Tencode', 'WoodDeckSF|PoolQC_Tencode', 'Fence_Tencode|OpenPorchSF', 'Exterior2nd_Tencode|GarageFinish_Tencode', '1stFlrSF|Exterior2nd_Tencode', 'GarageType_Tencode|LowQualFinSF', 'LotShape_Tencode|Condition1_Tencode', 'FireplaceQu_Tencode|BsmtFullBath', 'ScreenPorch|HeatingQC_Tencode', 'HouseStyle_Tencode|GarageCond_Tencode', 'GarageType_Tencode|Exterior2nd_Tencode', 'Electrical_Tencode|GrLivArea', 'YrSold|BsmtQual_Tencode', 'GarageYrBlt|BsmtFullBath', 'GarageQual_Tencode|MSZoning_Tencode', 'GarageArea|PavedDrive_Tencode', 'OverallQual|ExterQual_Tencode', 'MasVnrType_Tencode|Street_Tencode', 'LandSlope_Tencode|OpenPorchSF', 'GarageArea|YearRemodAdd', 'MiscVal|YearRemodAdd', 'GarageType_Tencode|YearBuilt', 'Exterior2nd_Tencode|Utilities_Tencode', 'GarageArea|Foundation_Tencode', '3SsnPorch|2ndFlrSF', 'BsmtFullBath|YearRemodAdd', 'BsmtFinType2_Tencode|ExterCond_Tencode', 'Functional_Tencode|2ndFlrSF', 'MSZoning_Tencode|GarageCars', 'Heating_Tencode|GarageType_Tencode', 'PoolArea|LotArea', 'LotConfig_Tencode|Neighborhood_Tencode', 'OverallCond|ExterCond_Tencode', 'OverallQual|MiscFeature_Tencode', 'KitchenQual_Tencode|OpenPorchSF', 'TotRmsAbvGrd|BsmtQual_Tencode', 'GrLivArea|CentralAir_Tencode', 'BsmtCond_Tencode|EnclosedPorch', 'LotConfig_Tencode|BsmtFullBath', 'BsmtFinSF2', 'Functional_Tencode|YearBuilt', 'GarageArea|Alley_Tencode', 'Electrical_Tencode|BsmtQual_Tencode', 'MoSold|BsmtUnfSF', 'BsmtFinSF1|BedroomAbvGr', 'GarageCars|BsmtFinSF1', 'GarageArea|Exterior2nd_Tencode', 'SaleType_Tencode|ExterCond_Tencode', 'Fence_Tencode|LandContour_Tencode', 'MSZoning_Tencode|HeatingQC_Tencode', 'SaleType_Tencode|MiscFeature_Tencode', 'FireplaceQu_Tencode|Condition1_Tencode', 'HalfBath|SaleType_Tencode', 'FireplaceQu_Tencode|ExterQual_Tencode', 'Alley_Tencode|CentralAir_Tencode', 'GarageType_Tencode|3SsnPorch', 'GarageCars|HouseStyle_Tencode', 'Condition2_Tencode|2ndFlrSF', 'BsmtCond_Tencode|KitchenAbvGr', 'MSSubClass|Functional_Tencode', 'KitchenQual_Tencode|BsmtFullBath', 'Exterior1st_Tencode|PoolQC_Tencode', 'GarageType_Tencode|Foundation_Tencode', 'FullBath|BsmtQual_Tencode', 'GarageYrBlt|Neighborhood_Tencode', 'ExterQual_Tencode|Neighborhood_Tencode', 'Heating_Tencode|Electrical_Tencode', 'TotRmsAbvGrd|BsmtFinType1_Tencode', 'OverallCond|1stFlrSF', 'HalfBath|MoSold', 'WoodDeckSF|GarageFinish_Tencode', 'LotShape_Tencode|CentralAir_Tencode', 'HalfBath|YearBuilt', 'LotShape_Tencode|RoofMatl_Tencode', 'BsmtFinSF2|BsmtHalfBath', 'MasVnrArea|GarageFinish_Tencode', 'Exterior1st_Tencode|BldgType_Tencode', 'BsmtHalfBath|Condition1_Tencode', 'SaleType_Tencode|Exterior2nd_Tencode', 'Heating_Tencode|GarageCond_Tencode', '1stFlrSF|BedroomAbvGr', 'MSSubClass|BsmtFinSF1', 'YrSold|CentralAir_Tencode', 'GarageYrBlt|RoofStyle_Tencode', 'PoolQC_Tencode|MasVnrArea', 'OverallQual|BsmtHalfBath', 'MasVnrType_Tencode|FireplaceQu_Tencode', 'LotShape_Tencode|LandContour_Tencode', 'Condition2_Tencode|Neighborhood_Tencode', 'BsmtExposure_Tencode', 'PoolQC_Tencode|Condition1_Tencode', '2ndFlrSF|MasVnrArea', 'Fireplaces|Condition1_Tencode', 'PoolArea|KitchenQual_Tencode', 'Functional_Tencode|LandContour_Tencode', 'Exterior2nd_Tencode|Street_Tencode', 'TotalBsmtSF|MoSold', 'Condition1_Tencode|Street_Tencode', 'ScreenPorch|LotFrontage', 'GarageArea|MoSold', 'HeatingQC_Tencode|LandContour_Tencode', 'BsmtFinType2_Tencode|GarageCars', 'MasVnrType_Tencode|KitchenQual_Tencode', 'BsmtCond_Tencode|GrLivArea', 'TotRmsAbvGrd|YearRemodAdd', 'MiscVal|MasVnrArea', 'TotalBsmtSF|MiscFeature_Tencode', 'SaleType_Tencode|BedroomAbvGr', 'WoodDeckSF|Alley_Tencode', 'YrSold|Condition1_Tencode', 'Street_Tencode', 'BsmtHalfBath|Fence_Tencode', 'BsmtFinType2_Tencode|BsmtFinType1_Tencode', 'Electrical_Tencode|RoofMatl_Tencode', 'Exterior1st_Tencode|KitchenQual_Tencode', 'TotalBsmtSF|Foundation_Tencode', '2ndFlrSF|BsmtQual_Tencode', 'BsmtFinSF2|HouseStyle_Tencode', 'LotArea|GrLivArea', 'BsmtExposure_Tencode|PoolQC_Tencode', 'CentralAir_Tencode|MoSold', 'SaleType_Tencode|ExterQual_Tencode', 'GarageYrBlt|MSZoning_Tencode', '2ndFlrSF|LandSlope_Tencode', 'MSZoning_Tencode|Fence_Tencode', 'MSSubClass|Neighborhood_Tencode', 'KitchenQual_Tencode|BsmtFinSF1', 'MiscFeature_Tencode|ExterCond_Tencode', 'MSSubClass|MoSold', 'Functional_Tencode|ExterQual_Tencode', 'WoodDeckSF|BedroomAbvGr', 'YearBuilt|BldgType_Tencode', '3SsnPorch|ExterCond_Tencode', 'Alley_Tencode|PavedDrive_Tencode', 'BsmtFinType2_Tencode', 'OverallCond|KitchenAbvGr', 'HouseStyle_Tencode|MasVnrArea', 'WoodDeckSF|ExterCond_Tencode', 'GarageType_Tencode|TotRmsAbvGrd', 'Fence_Tencode|BsmtQual_Tencode', 'LowQualFinSF|RoofMatl_Tencode', 'BsmtCond_Tencode|BsmtQual_Tencode', 'MiscFeature_Tencode|RoofMatl_Tencode', 'BsmtFinSF2|BsmtUnfSF', 'Condition2_Tencode|FullBath', '1stFlrSF|2ndFlrSF', 'HalfBath|ExterQual_Tencode', 'Condition2_Tencode|FireplaceQu_Tencode', 'ScreenPorch|Neighborhood_Tencode', 'SaleType_Tencode|BsmtExposure_Tencode', 'BsmtFinSF2|BsmtFinSF1', 'BsmtQual_Tencode|GarageFinish_Tencode', 'KitchenQual_Tencode|Foundation_Tencode', 'Fireplaces|HeatingQC_Tencode', 'MiscVal|BsmtFinSF2', 'LotArea', 'PavedDrive_Tencode|LotFrontage', 'MasVnrType_Tencode|Foundation_Tencode', 'Electrical_Tencode|2ndFlrSF', 'BsmtExposure_Tencode|BsmtFullBath', 'Electrical_Tencode|SaleType_Tencode', 'KitchenAbvGr|Condition1_Tencode', 'LotArea|HalfBath', 'Electrical_Tencode|CentralAir_Tencode', '3SsnPorch|GarageCond_Tencode', 'BsmtCond_Tencode|LandContour_Tencode', 'MiscVal|PoolArea', 'Alley_Tencode|Fireplaces', 'SaleType_Tencode|KitchenAbvGr', 'BsmtFinSF1|BldgType_Tencode', 'BsmtFinType2_Tencode|LotFrontage', 'GarageCars|PoolQC_Tencode', 'Exterior2nd_Tencode|Neighborhood_Tencode', 'Functional_Tencode|PoolQC_Tencode', 'MiscVal|PoolQC_Tencode', 'MSZoning_Tencode|BsmtFinType1_Tencode', 'Electrical_Tencode|BsmtUnfSF', 'LotShape_Tencode|Street_Tencode', 'BsmtQual_Tencode|Neighborhood_Tencode', '2ndFlrSF|GarageFinish_Tencode', 'Electrical_Tencode|Street_Tencode', 'GarageYrBlt|Exterior2nd_Tencode', 'PoolArea|LotConfig_Tencode', 'PoolQC_Tencode|RoofMatl_Tencode', 'LotShape_Tencode|1stFlrSF', 'Foundation_Tencode|LandSlope_Tencode', 'Exterior1st_Tencode|SaleCondition_Tencode', 'MiscFeature_Tencode|Fence_Tencode', 'BsmtHalfBath|MiscFeature_Tencode', 'GarageCars|GarageType_Tencode', 'ScreenPorch|Condition1_Tencode', 'MSSubClass|Heating_Tencode', 'BsmtFinType2_Tencode|OverallCond', '1stFlrSF|CentralAir_Tencode', 'YrSold|GarageCond_Tencode', 'SaleType_Tencode|PavedDrive_Tencode', 'Condition2_Tencode|GrLivArea', 'ScreenPorch|KitchenQual_Tencode', '3SsnPorch|OpenPorchSF', 'ScreenPorch|3SsnPorch', 'KitchenQual_Tencode|3SsnPorch', '3SsnPorch|HeatingQC_Tencode', 'BsmtCond_Tencode|SaleType_Tencode', 'MSSubClass|GarageCars', 'BsmtFinSF2|HeatingQC_Tencode', 'FullBath|PavedDrive_Tencode', 'SaleType_Tencode|RoofMatl_Tencode', 'BsmtExposure_Tencode|FireplaceQu_Tencode', 'GarageArea|HalfBath', 'SaleType_Tencode|Foundation_Tencode', 'OverallQual|Utilities_Tencode', 'BsmtUnfSF|BedroomAbvGr', 'TotalBsmtSF|LotShape_Tencode', 'BsmtFinSF2|FireplaceQu_Tencode', 'TotalBsmtSF|CentralAir_Tencode', 'PoolQC_Tencode|BldgType_Tencode', 'Condition2_Tencode|MasVnrArea', 'CentralAir_Tencode|BedroomAbvGr', 'MiscVal|YrSold', 'Heating_Tencode|Utilities_Tencode', 'Alley_Tencode|GarageFinish_Tencode', 'MiscVal|MasVnrType_Tencode', 'ExterQual_Tencode|RoofMatl_Tencode', 'BsmtFullBath', 'ExterCond_Tencode|YearBuilt', 'LandContour_Tencode|RoofStyle_Tencode', 'BsmtFinType1_Tencode|BldgType_Tencode', 'KitchenAbvGr|BsmtFullBath', 'BsmtExposure_Tencode|YearBuilt', 'FireplaceQu_Tencode|BsmtQual_Tencode', 'GarageArea|BsmtFinSF2', 'BsmtExposure_Tencode|MasVnrArea', 'LotShape_Tencode|BsmtUnfSF', 'LotShape_Tencode|HeatingQC_Tencode', 'GarageYrBlt|Condition1_Tencode', 'BsmtFinType1_Tencode', 'EnclosedPorch|PavedDrive_Tencode', 'GarageCars|BsmtUnfSF', 'SaleCondition_Tencode|MiscFeature_Tencode', 'GarageType_Tencode|KitchenQual_Tencode', 'PoolArea|GarageFinish_Tencode', 'Foundation_Tencode|Exterior2nd_Tencode', 'OpenPorchSF|BldgType_Tencode', 'MSSubClass', 'PoolArea|BsmtExposure_Tencode', 'Fireplaces|KitchenAbvGr', 'HalfBath|LotFrontage', 'LotArea|GarageFinish_Tencode', 'HeatingQC_Tencode|LandSlope_Tencode', 'CentralAir_Tencode|LotFrontage', 'BsmtFinSF2|RoofMatl_Tencode', 'LotShape_Tencode|YearRemodAdd', 'Condition2_Tencode|Electrical_Tencode', '1stFlrSF|EnclosedPorch', 'ExterCond_Tencode|KitchenAbvGr', 'KitchenQual_Tencode|ExterQual_Tencode', 'EnclosedPorch|BldgType_Tencode', 'BldgType_Tencode|GarageFinish_Tencode', '1stFlrSF|PoolQC_Tencode', 'GarageType_Tencode|BsmtExposure_Tencode', 'GarageYrBlt|LotConfig_Tencode', 'Fireplaces|ExterQual_Tencode', 'MoSold|MasVnrArea', 'ExterCond_Tencode|ExterQual_Tencode', 'BsmtCond_Tencode|ExterQual_Tencode', 'BsmtFinType2_Tencode|TotalBsmtSF', 'KitchenQual_Tencode|YearRemodAdd', 'GarageYrBlt|EnclosedPorch', 'TotalBsmtSF|Functional_Tencode', 'Exterior1st_Tencode|GrLivArea', 'FullBath|LowQualFinSF', 'GarageYrBlt|HouseStyle_Tencode', 'MiscVal|BsmtExposure_Tencode', 'MiscVal|SaleType_Tencode', 'GrLivArea|Exterior2nd_Tencode', 'Electrical_Tencode|PoolQC_Tencode', 'ExterCond_Tencode|Street_Tencode', 'YrSold|GarageQual_Tencode', 'GarageArea|Street_Tencode', 'BsmtFinSF1|HeatingQC_Tencode', 'TotalBsmtSF|GarageType_Tencode', 'BsmtFinType2_Tencode|LandContour_Tencode', 'Exterior1st_Tencode|Fence_Tencode', 'MSSubClass|BsmtHalfBath', 'GarageArea|RoofStyle_Tencode', 'GarageCars|KitchenQual_Tencode', 'LotConfig_Tencode|LotFrontage', 'Fireplaces|ExterCond_Tencode', 'BsmtFinSF2|MiscFeature_Tencode', 'GrLivArea|3SsnPorch', 'FullBath|ExterCond_Tencode', 'GarageType_Tencode|GarageFinish_Tencode', 'OverallCond|BldgType_Tencode', 'BedroomAbvGr|GarageCond_Tencode', 'Exterior1st_Tencode|EnclosedPorch', 'MSZoning_Tencode|Condition1_Tencode', 'KitchenAbvGr|Fence_Tencode', 'LotConfig_Tencode|PavedDrive_Tencode', 'HalfBath|LowQualFinSF', 'YrSold|3SsnPorch', 'Functional_Tencode|Condition1_Tencode', '2ndFlrSF|LandContour_Tencode', 'Functional_Tencode|RoofMatl_Tencode', 'MSSubClass|LotConfig_Tencode', 'Heating_Tencode|BldgType_Tencode', 'Alley_Tencode|Street_Tencode', '2ndFlrSF', 'OverallCond|CentralAir_Tencode', 'LandContour_Tencode|ExterQual_Tencode', 'MSZoning_Tencode|LotShape_Tencode', 'Utilities_Tencode|GarageFinish_Tencode', 'Functional_Tencode|BsmtFinSF1', 'GarageYrBlt|LowQualFinSF', 'BsmtFinSF2|Foundation_Tencode', 'Heating_Tencode|BsmtExposure_Tencode', 'KitchenAbvGr|BldgType_Tencode', 'BsmtFinSF2|Heating_Tencode', 'PoolArea|Foundation_Tencode', 'GarageCars|ExterQual_Tencode', '1stFlrSF|Condition1_Tencode', 'BsmtFinSF1|LotFrontage', 'HalfBath|Exterior2nd_Tencode', 'TotalBsmtSF|Exterior2nd_Tencode', 'LotFrontage|BsmtFinType1_Tencode', 'TotRmsAbvGrd|HalfBath', 'LowQualFinSF|MasVnrArea', 'TotalBsmtSF|Condition1_Tencode', 'MiscVal|PavedDrive_Tencode', 'FireplaceQu_Tencode|LandSlope_Tencode', 'LandContour_Tencode|BsmtQual_Tencode', 'BsmtExposure_Tencode|2ndFlrSF', 'LandContour_Tencode|Utilities_Tencode', 'Alley_Tencode|Electrical_Tencode', 'Exterior1st_Tencode|BsmtHalfBath', '1stFlrSF|Foundation_Tencode', 'BsmtFinSF2|Functional_Tencode', 'LotArea|BsmtFullBath', 'BsmtCond_Tencode|WoodDeckSF', 'MiscFeature_Tencode|YearBuilt', 'OverallCond|LotFrontage', 'Fireplaces|CentralAir_Tencode', 'BsmtFinType2_Tencode|BedroomAbvGr', 'GarageCars|RoofMatl_Tencode', 'Exterior2nd_Tencode|ExterQual_Tencode', 'MasVnrType_Tencode|HouseStyle_Tencode', 'MiscVal|HeatingQC_Tencode', 'PavedDrive_Tencode|BsmtQual_Tencode', 'CentralAir_Tencode|BsmtUnfSF', 'ScreenPorch|LowQualFinSF', 'Condition1_Tencode|HouseStyle_Tencode', 'TotRmsAbvGrd|RoofMatl_Tencode', 'Exterior1st_Tencode|PavedDrive_Tencode', 'EnclosedPorch|Neighborhood_Tencode', 'GarageCars|Condition1_Tencode', 'LowQualFinSF|LandSlope_Tencode', 'FireplaceQu_Tencode|Street_Tencode', 'Fireplaces|RoofStyle_Tencode', 'HeatingQC_Tencode|GarageFinish_Tencode', 'BsmtFinSF1|MoSold', 'OpenPorchSF|MasVnrArea', 'KitchenQual_Tencode|MasVnrArea', 'Heating_Tencode|GrLivArea', 'GarageType_Tencode|LandContour_Tencode', 'GrLivArea|BsmtQual_Tencode', 'GarageYrBlt|GarageCond_Tencode', 'CentralAir_Tencode|Fence_Tencode', 'BsmtFinType2_Tencode|HouseStyle_Tencode', 'GarageArea|Condition2_Tencode', 'OverallQual|LotConfig_Tencode', 'Functional_Tencode|EnclosedPorch', 'Condition2_Tencode|Exterior2nd_Tencode', 'RoofStyle_Tencode|RoofMatl_Tencode', 'HouseStyle_Tencode|YearRemodAdd', 'HouseStyle_Tencode|BsmtFullBath', 'LotFrontage|MasVnrArea', 'MiscVal|HouseStyle_Tencode', '3SsnPorch|MiscFeature_Tencode', 'GarageType_Tencode|2ndFlrSF', 'MSSubClass|BsmtFinType2_Tencode', 'MasVnrType_Tencode|WoodDeckSF', 'LotConfig_Tencode|SaleType_Tencode', 'Fence_Tencode|MasVnrArea', 'KitchenQual_Tencode', 'GarageArea|Heating_Tencode', 'MiscVal|MSZoning_Tencode', 'LotShape_Tencode|HouseStyle_Tencode', 'SaleType_Tencode|YearBuilt', 'Electrical_Tencode', 'GarageArea|MiscFeature_Tencode', 'LandSlope_Tencode|Utilities_Tencode', 'PoolArea|TotalBsmtSF', 'OverallCond|SaleType_Tencode', 'LotFrontage|GarageFinish_Tencode', 'EnclosedPorch|HouseStyle_Tencode', 'EnclosedPorch|BsmtUnfSF', '3SsnPorch|YearRemodAdd', 'YrSold|YearBuilt', 'TotRmsAbvGrd|CentralAir_Tencode', 'Fireplaces|LotFrontage', 'BsmtFinType2_Tencode|CentralAir_Tencode', 'Exterior2nd_Tencode|BsmtFinType1_Tencode', 'GarageType_Tencode|1stFlrSF', 'GarageYrBlt|BsmtQual_Tencode', 'Exterior1st_Tencode|OpenPorchSF', 'Fireplaces', 'EnclosedPorch|RoofMatl_Tencode', 'OverallQual|CentralAir_Tencode', 'GarageType_Tencode|BsmtFinType1_Tencode', 'FireplaceQu_Tencode|KitchenAbvGr', 'BsmtCond_Tencode|ExterCond_Tencode', 'BsmtHalfBath|EnclosedPorch', 'GarageArea|HeatingQC_Tencode', 'BsmtFinSF2|LandContour_Tencode', 'Fence_Tencode|RoofMatl_Tencode', 'LotConfig_Tencode|HouseStyle_Tencode', 'SaleCondition_Tencode|KitchenAbvGr', 'ScreenPorch|Utilities_Tencode', '2ndFlrSF|Condition1_Tencode', 'TotalBsmtSF|Fireplaces', 'YearBuilt|GarageFinish_Tencode', 'Heating_Tencode|Fence_Tencode', 'ExterQual_Tencode|YearRemodAdd', 'ScreenPorch|BldgType_Tencode', 'BsmtCond_Tencode|KitchenQual_Tencode', 'Electrical_Tencode|BsmtExposure_Tencode', 'GarageQual_Tencode|Condition1_Tencode', 'SaleCondition_Tencode|GarageFinish_Tencode', 'MiscVal|2ndFlrSF', 'GrLivArea|OpenPorchSF', 'PoolQC_Tencode|GarageFinish_Tencode', 'GarageCars|FireplaceQu_Tencode', 'SaleType_Tencode|BsmtQual_Tencode', 'OverallQual|HouseStyle_Tencode', 'Condition2_Tencode|GarageCars', 'PoolArea|Fence_Tencode', 'FireplaceQu_Tencode|2ndFlrSF', 'BsmtFinSF2|GarageType_Tencode', 'LotConfig_Tencode|GrLivArea', 'OverallCond|MiscFeature_Tencode', 'Exterior1st_Tencode|BedroomAbvGr', 'LowQualFinSF|YearRemodAdd', '2ndFlrSF|Neighborhood_Tencode', 'MasVnrType_Tencode|YearBuilt', 'Functional_Tencode|BsmtFinType1_Tencode', 'KitchenQual_Tencode|HouseStyle_Tencode', 'LotShape_Tencode|FireplaceQu_Tencode', 'GarageYrBlt|Utilities_Tencode', 'YearBuilt|HouseStyle_Tencode', 'PoolQC_Tencode|BsmtFinType1_Tencode', 'GrLivArea|BsmtHalfBath', 'MasVnrArea|YearRemodAdd', 'KitchenQual_Tencode|GarageCond_Tencode', 'BsmtUnfSF|MasVnrArea', 'Condition1_Tencode|Neighborhood_Tencode', 'Exterior1st_Tencode', 'BsmtCond_Tencode|BedroomAbvGr', 'OverallQual|BsmtFullBath', 'BsmtExposure_Tencode|Fence_Tencode', 'CentralAir_Tencode|BsmtFullBath', 'Exterior1st_Tencode|MiscFeature_Tencode', 'FireplaceQu_Tencode|GarageFinish_Tencode', 'Fence_Tencode|BldgType_Tencode', 'PavedDrive_Tencode|Street_Tencode', 'Condition2_Tencode|KitchenAbvGr', 'LotShape_Tencode|TotRmsAbvGrd', 'Functional_Tencode|BsmtCond_Tencode', 'ScreenPorch|ExterCond_Tencode', 'OverallQual|ScreenPorch', 'YearBuilt|BsmtQual_Tencode', 'KitchenQual_Tencode|Fence_Tencode', 'BsmtFinType2_Tencode|Electrical_Tencode', '3SsnPorch|BedroomAbvGr', 'KitchenAbvGr|BsmtQual_Tencode', 'Alley_Tencode|BsmtFullBath', 'MiscVal|FullBath', 'BsmtFinSF2|Electrical_Tencode', 'KitchenAbvGr|LandSlope_Tencode', 'Heating_Tencode|GarageFinish_Tencode', 'MoSold|RoofStyle_Tencode', 'TotalBsmtSF|3SsnPorch', 'SaleCondition_Tencode', 'YrSold|Foundation_Tencode', 'WoodDeckSF|KitchenAbvGr', 'GarageType_Tencode|FireplaceQu_Tencode', 'LandSlope_Tencode|GarageCond_Tencode', 'GarageQual_Tencode|Electrical_Tencode', 'YrSold|BsmtFinSF1', 'BsmtUnfSF|Street_Tencode', 'YrSold|Exterior1st_Tencode', 'BedroomAbvGr|RoofStyle_Tencode', 'YrSold|GrLivArea', 'YrSold|ScreenPorch', 'GarageType_Tencode|MiscFeature_Tencode', 'FullBath|1stFlrSF', 'BsmtFinType2_Tencode|YearRemodAdd', 'GarageYrBlt|GarageType_Tencode', 'BsmtFinSF2|TotRmsAbvGrd', 'OpenPorchSF|GarageCond_Tencode', '3SsnPorch', 'Exterior2nd_Tencode|LandContour_Tencode', 'BsmtQual_Tencode|RoofStyle_Tencode', 'RoofMatl_Tencode|GarageFinish_Tencode', 'GarageCars|TotRmsAbvGrd', 'ExterCond_Tencode|LandSlope_Tencode', 'BsmtUnfSF', 'BsmtFinSF1|TotRmsAbvGrd', 'GarageYrBlt|GarageFinish_Tencode', 'Fence_Tencode|HouseStyle_Tencode', 'LandContour_Tencode|Condition1_Tencode', 'SaleCondition_Tencode|Condition1_Tencode', 'Fireplaces|EnclosedPorch', 'YrSold|MasVnrType_Tencode', 'LotArea|HouseStyle_Tencode', 'MasVnrType_Tencode|TotRmsAbvGrd', 'EnclosedPorch', 'OverallQual|SaleType_Tencode', 'MoSold|HeatingQC_Tencode', 'FullBath|BsmtFinType1_Tencode', 'YearBuilt|BedroomAbvGr', 'PoolArea|LotFrontage', 'GrLivArea|PavedDrive_Tencode', 'BsmtFinSF2|GarageFinish_Tencode', 'PoolArea|ExterQual_Tencode', 'Alley_Tencode|1stFlrSF', 'HalfBath|YearRemodAdd', 'MiscVal|YearBuilt', 'PavedDrive_Tencode|BsmtUnfSF', 'Condition1_Tencode|BsmtUnfSF', 'MasVnrType_Tencode|BsmtFinSF1', '3SsnPorch|LotFrontage', 'BsmtFinSF2|LotConfig_Tencode', 'FullBath|RoofStyle_Tencode', 'Condition2_Tencode|1stFlrSF', 'BsmtFinSF1|BsmtUnfSF', 'MiscVal|LotShape_Tencode', 'Electrical_Tencode|Neighborhood_Tencode', 'Alley_Tencode|MiscFeature_Tencode', 'GarageQual_Tencode|WoodDeckSF', 'KitchenQual_Tencode|RoofStyle_Tencode', 'GarageFinish_Tencode', 'LotConfig_Tencode|MSZoning_Tencode', 'LotConfig_Tencode|2ndFlrSF', '3SsnPorch|Exterior2nd_Tencode', 'BsmtFinSF2|LandSlope_Tencode', 'EnclosedPorch|Foundation_Tencode', 'MSSubClass|FireplaceQu_Tencode', 'BsmtUnfSF|RoofMatl_Tencode', '1stFlrSF|GarageCond_Tencode', 'GarageCars|LotFrontage', 'TotRmsAbvGrd|2ndFlrSF', 'LandSlope_Tencode|LandContour_Tencode', 'ExterCond_Tencode|BsmtFinType1_Tencode', 'ExterCond_Tencode|HouseStyle_Tencode', 'BsmtFinSF2|LotFrontage', 'EnclosedPorch|LandContour_Tencode', 'BsmtHalfBath|BsmtQual_Tencode', 'Heating_Tencode|FireplaceQu_Tencode', 'KitchenQual_Tencode|RoofMatl_Tencode', 'TotRmsAbvGrd|Utilities_Tencode', '1stFlrSF|Utilities_Tencode', 'YrSold|GarageFinish_Tencode', '3SsnPorch|BsmtExposure_Tencode', 'BsmtFinSF2|PoolArea', 'CentralAir_Tencode|2ndFlrSF', 'MiscFeature_Tencode|MoSold', 'GarageQual_Tencode|GarageFinish_Tencode', 'GarageQual_Tencode|3SsnPorch', 'LotConfig_Tencode|ExterCond_Tencode', 'KitchenAbvGr|MasVnrArea', 'KitchenAbvGr|OpenPorchSF', 'WoodDeckSF|MoSold', 'Foundation_Tencode|RoofStyle_Tencode', 'GarageType_Tencode|LandSlope_Tencode', 'YrSold|OverallCond', 'ExterQual_Tencode|HouseStyle_Tencode', 'GrLivArea|FireplaceQu_Tencode', 'Electrical_Tencode|LotShape_Tencode', 'Heating_Tencode|FullBath', 'BsmtCond_Tencode|BsmtFinSF1', 'BsmtFullBath|BldgType_Tencode', 'OverallCond|2ndFlrSF', 'YrSold|BsmtFinType1_Tencode', 'BsmtFinSF1|LowQualFinSF', 'YrSold|HeatingQC_Tencode', 'GarageArea|WoodDeckSF', 'LotShape_Tencode|MoSold', 'MiscFeature_Tencode|BsmtFinType1_Tencode', 'GarageYrBlt|MoSold', 'BedroomAbvGr|Utilities_Tencode', 'HalfBath|Fireplaces', 'ScreenPorch', 'PoolArea|GrLivArea', 'MiscVal|GarageArea', 'Condition2_Tencode|BedroomAbvGr', 'BsmtHalfBath|RoofMatl_Tencode', 'Exterior2nd_Tencode|BsmtQual_Tencode', 'OverallQual|GarageFinish_Tencode', '2ndFlrSF|RoofMatl_Tencode', 'PoolArea|Street_Tencode', 'Exterior1st_Tencode|Functional_Tencode', 'Exterior1st_Tencode|MSZoning_Tencode', 'Functional_Tencode|HouseStyle_Tencode', 'LotArea|LowQualFinSF', 'Fence_Tencode|Utilities_Tencode', 'KitchenQual_Tencode|Exterior2nd_Tencode', 'TotRmsAbvGrd|LandContour_Tencode', 'KitchenAbvGr|ExterQual_Tencode', 'FullBath|GarageCond_Tencode', 'BsmtUnfSF|Neighborhood_Tencode', 'BsmtCond_Tencode|GarageFinish_Tencode', 'PoolQC_Tencode|YearRemodAdd', 'HeatingQC_Tencode|MasVnrArea', 'MiscVal|SaleCondition_Tencode', 'MSZoning_Tencode|3SsnPorch', 'GrLivArea|Foundation_Tencode', 'MSSubClass|Fence_Tencode', 'ExterCond_Tencode|YearRemodAdd', 'ExterQual_Tencode|BsmtFinType1_Tencode', 'WoodDeckSF|GrLivArea', 'LowQualFinSF', 'HeatingQC_Tencode|HouseStyle_Tencode', 'YrSold|OpenPorchSF', 'BsmtCond_Tencode|BsmtFinType1_Tencode', 'Exterior1st_Tencode|Condition2_Tencode', 'OverallCond|OpenPorchSF', 'PoolArea|BsmtCond_Tencode', 'Condition2_Tencode|BsmtCond_Tencode', 'LandSlope_Tencode|HouseStyle_Tencode', 'Condition1_Tencode|RoofStyle_Tencode', 'MiscVal|MSSubClass', 'GarageArea|OverallQual', 'GarageQual_Tencode|YearBuilt', 'Condition1_Tencode|Utilities_Tencode', 'Fireplaces|YearRemodAdd', 'LotConfig_Tencode|ScreenPorch', 'Condition1_Tencode|GarageCond_Tencode', 'BsmtFinType2_Tencode|GarageQual_Tencode', 'Fireplaces|Neighborhood_Tencode', 'LotFrontage|RoofMatl_Tencode', 'CentralAir_Tencode|LandContour_Tencode', 'BsmtExposure_Tencode|ExterQual_Tencode', 'Fireplaces|BsmtUnfSF', 'GarageType_Tencode|BsmtQual_Tencode', 'GarageType_Tencode|BedroomAbvGr', 'WoodDeckSF|LowQualFinSF', 'FullBath|TotRmsAbvGrd', 'LotConfig_Tencode|Electrical_Tencode', 'Functional_Tencode|Neighborhood_Tencode', 'LowQualFinSF|BsmtQual_Tencode', 'HeatingQC_Tencode|YearRemodAdd', 'HeatingQC_Tencode|RoofStyle_Tencode', 'ExterCond_Tencode|RoofMatl_Tencode', 'MasVnrType_Tencode|MasVnrArea', 'Foundation_Tencode|CentralAir_Tencode', 'LotShape_Tencode|GarageCond_Tencode', 'PavedDrive_Tencode|MasVnrArea', 'MSSubClass|BsmtExposure_Tencode', 'MoSold|BsmtFinType1_Tencode', 'LotArea|KitchenQual_Tencode', 'TotRmsAbvGrd|LandSlope_Tencode', 'GarageQual_Tencode|LandContour_Tencode', 'GrLivArea|1stFlrSF', 'LowQualFinSF|OpenPorchSF', 'BsmtFinSF1|BsmtFullBath', '3SsnPorch|Neighborhood_Tencode', 'ScreenPorch|BsmtHalfBath', 'BsmtFinSF2|ExterCond_Tencode', 'Electrical_Tencode|LotFrontage', 'MSSubClass|3SsnPorch', 'MasVnrType_Tencode|MoSold', 'MasVnrType_Tencode|Fence_Tencode', 'LotConfig_Tencode|Foundation_Tencode', 'GrLivArea|HeatingQC_Tencode', 'OverallCond|ExterQual_Tencode', 'Exterior1st_Tencode|CentralAir_Tencode', 'GarageArea|BsmtHalfBath', 'Condition1_Tencode|BsmtFinType1_Tencode', 'GarageYrBlt|MiscFeature_Tencode', 'TotalBsmtSF|YearBuilt', 'SaleCondition_Tencode|CentralAir_Tencode', 'BsmtFinSF1|BsmtHalfBath', 'BsmtExposure_Tencode|YearRemodAdd', 'TotalBsmtSF|BsmtCond_Tencode', '2ndFlrSF|RoofStyle_Tencode', 'KitchenQual_Tencode|OverallCond', 'Alley_Tencode|LowQualFinSF', 'LotFrontage|BedroomAbvGr', 'GarageArea|LandContour_Tencode', 'TotRmsAbvGrd|HeatingQC_Tencode', 'Alley_Tencode|KitchenQual_Tencode', 'Neighborhood_Tencode|RoofStyle_Tencode', 'KitchenQual_Tencode|PavedDrive_Tencode', 'BsmtFinSF2|Fence_Tencode', 'LotFrontage|BsmtQual_Tencode', 'Exterior2nd_Tencode|Condition1_Tencode', 'LotFrontage|BsmtFullBath', 'LandContour_Tencode|GarageFinish_Tencode', 'PoolQC_Tencode|LandContour_Tencode', 'MSZoning_Tencode|PavedDrive_Tencode', 'ScreenPorch|Foundation_Tencode', 'BsmtFinType2_Tencode|Alley_Tencode', 'LandSlope_Tencode|BedroomAbvGr', 'MoSold|GarageCond_Tencode', 'SaleType_Tencode|Fence_Tencode', 'TotalBsmtSF|Street_Tencode', 'KitchenQual_Tencode|FireplaceQu_Tencode', 'MasVnrType_Tencode|HalfBath', 'GarageQual_Tencode|BsmtExposure_Tencode', 'LotArea|BsmtUnfSF', 'Alley_Tencode|Exterior2nd_Tencode', 'LotShape_Tencode|KitchenAbvGr', 'FireplaceQu_Tencode|Utilities_Tencode', 'OverallCond|Utilities_Tencode', 'HalfBath|BedroomAbvGr', 'LotArea|HeatingQC_Tencode', 'BsmtQual_Tencode|BedroomAbvGr', 'RoofStyle_Tencode', 'BsmtCond_Tencode|TotRmsAbvGrd', 'BsmtFinType2_Tencode|Condition1_Tencode', '3SsnPorch|Street_Tencode', 'GarageYrBlt|Foundation_Tencode', 'Alley_Tencode|GrLivArea', 'MiscVal|TotalBsmtSF', 'BsmtHalfBath|KitchenAbvGr', 'PoolArea|BsmtFinType1_Tencode', '3SsnPorch|BsmtUnfSF', 'Heating_Tencode|HalfBath', 'Electrical_Tencode|HouseStyle_Tencode', 'BsmtFinType2_Tencode|YearBuilt', 'TotalBsmtSF|MSZoning_Tencode', 'MasVnrType_Tencode|Electrical_Tencode', 'Alley_Tencode|Neighborhood_Tencode', 'TotalBsmtSF|GarageCars', 'BsmtExposure_Tencode|OpenPorchSF', 'ScreenPorch|EnclosedPorch', 'OverallQual|SaleCondition_Tencode', 'PoolArea|FireplaceQu_Tencode', 'SaleType_Tencode|OpenPorchSF', 'LotArea|3SsnPorch', 'MSZoning_Tencode|KitchenQual_Tencode', 'MSSubClass|PavedDrive_Tencode', 'MoSold|BedroomAbvGr', 'LandContour_Tencode|OpenPorchSF', 'GarageYrBlt|TotalBsmtSF', 'BsmtExposure_Tencode|LandSlope_Tencode', 'LotFrontage|ExterQual_Tencode', 'Condition2_Tencode|KitchenQual_Tencode', 'HalfBath|BldgType_Tencode', 'BsmtFinSF1|HalfBath', 'CentralAir_Tencode|GarageFinish_Tencode', 'YrSold|PoolQC_Tencode', '1stFlrSF|Street_Tencode', 'Heating_Tencode|CentralAir_Tencode', 'YrSold|ExterQual_Tencode', 'FullBath|Condition1_Tencode', 'LotConfig_Tencode|BsmtHalfBath', 'KitchenAbvGr|RoofMatl_Tencode', 'BsmtFinSF1|PavedDrive_Tencode', 'BsmtHalfBath|Exterior2nd_Tencode', 'BsmtFinSF2|OverallCond', 'GarageYrBlt|SaleCondition_Tencode', 'LotFrontage|Street_Tencode', 'GarageArea|2ndFlrSF', 'MSSubClass|MasVnrType_Tencode', 'CentralAir_Tencode|Condition1_Tencode', 'GarageQual_Tencode|FullBath', 'MasVnrType_Tencode|ExterQual_Tencode', 'ExterCond_Tencode|BsmtQual_Tencode', 'MiscFeature_Tencode|BsmtUnfSF', 'MiscVal|FireplaceQu_Tencode', 'GarageCars|1stFlrSF', 'MiscVal|KitchenQual_Tencode', 'HeatingQC_Tencode|BsmtFinType1_Tencode', 'Electrical_Tencode|YearRemodAdd', 'BsmtCond_Tencode|RoofStyle_Tencode', 'MSSubClass|LotShape_Tencode', 'LotArea|PavedDrive_Tencode', 'FullBath|HouseStyle_Tencode', 'FullBath|HeatingQC_Tencode', 'SaleType_Tencode|2ndFlrSF', 'FireplaceQu_Tencode', 'PoolArea|Heating_Tencode', 'Fireplaces|Fence_Tencode', 'Alley_Tencode|MoSold', 'LowQualFinSF|Street_Tencode', 'LandContour_Tencode|BedroomAbvGr', 'MSSubClass|Foundation_Tencode', 'MSSubClass|OverallQual', 'GarageYrBlt|OverallCond', 'HalfBath|GarageFinish_Tencode', 'WoodDeckSF|Electrical_Tencode', 'GarageArea|LandSlope_Tencode', 'GarageQual_Tencode|Neighborhood_Tencode', 'MSZoning_Tencode|ExterCond_Tencode', 'ExterCond_Tencode|Condition1_Tencode', 'BsmtCond_Tencode|LandSlope_Tencode', 'OverallCond|Condition1_Tencode', 'GarageCars|YearBuilt', 'PoolQC_Tencode|Neighborhood_Tencode', 'GarageArea|ExterQual_Tencode', 'Condition2_Tencode|Utilities_Tencode', 'GrLivArea|LotFrontage', 'YearRemodAdd|RoofStyle_Tencode', 'EnclosedPorch|RoofStyle_Tencode', 'LotConfig_Tencode|Exterior2nd_Tencode', 'Condition2_Tencode|MSZoning_Tencode', 'MiscVal|ExterQual_Tencode', 'MasVnrType_Tencode|RoofMatl_Tencode', 'WoodDeckSF|Foundation_Tencode', 'Exterior2nd_Tencode|HouseStyle_Tencode', 'YearBuilt|Exterior2nd_Tencode', 'Electrical_Tencode|MasVnrArea', '1stFlrSF|MoSold', 'HeatingQC_Tencode|Exterior2nd_Tencode', 'TotRmsAbvGrd|PavedDrive_Tencode', 'KitchenAbvGr|YearRemodAdd', 'OverallQual|LandSlope_Tencode', 'GarageType_Tencode|HeatingQC_Tencode', 'GarageYrBlt|HalfBath', 'YearRemodAdd|BsmtFinType1_Tencode', 'GarageYrBlt|PoolQC_Tencode', 'MasVnrType_Tencode|PavedDrive_Tencode', 'KitchenQual_Tencode|2ndFlrSF', 'Alley_Tencode|MSZoning_Tencode', 'LandContour_Tencode|BsmtUnfSF', 'MSZoning_Tencode|HalfBath', 'Alley_Tencode|BsmtQual_Tencode', 'TotRmsAbvGrd', 'BsmtFinSF1|OverallCond', 'FullBath|HalfBath', 'ExterQual_Tencode|BsmtUnfSF', 'LotShape_Tencode|LandSlope_Tencode', 'MSSubClass|LowQualFinSF', 'YrSold|Exterior2nd_Tencode', 'WoodDeckSF|LotConfig_Tencode', 'TotRmsAbvGrd|Fireplaces', 'OverallCond|RoofStyle_Tencode', 'BsmtFinSF2|MSZoning_Tencode', 'BsmtFinSF2|CentralAir_Tencode', 'SaleCondition_Tencode|GarageCond_Tencode', 'ExterCond_Tencode|Exterior2nd_Tencode', 'SaleCondition_Tencode|FullBath', 'FullBath|BldgType_Tencode', 'LotConfig_Tencode|BsmtQual_Tencode', 'BsmtCond_Tencode|Alley_Tencode', 'PoolArea|Exterior2nd_Tencode', 'Exterior1st_Tencode|LowQualFinSF', 'MiscVal|GarageFinish_Tencode', 'HeatingQC_Tencode|BsmtUnfSF', 'LowQualFinSF|BsmtFullBath', 'BsmtQual_Tencode|RoofMatl_Tencode', 'GarageArea|MSSubClass', 'BsmtFinType2_Tencode|BsmtExposure_Tencode', 'MiscVal|Neighborhood_Tencode', 'BsmtHalfBath|HeatingQC_Tencode', 'YearRemodAdd|RoofMatl_Tencode', 'Exterior1st_Tencode|Neighborhood_Tencode', 'BsmtExposure_Tencode|HouseStyle_Tencode', 'GarageQual_Tencode|TotRmsAbvGrd', 'PoolArea|BedroomAbvGr', 'BsmtFinSF2|OpenPorchSF', 'Street_Tencode|BsmtFinType1_Tencode', 'MSZoning_Tencode|SaleType_Tencode', 'Fireplaces|HouseStyle_Tencode', 'MiscVal|Condition1_Tencode', 'EnclosedPorch|LowQualFinSF', 'GarageCars|FullBath', 'BsmtCond_Tencode|BsmtExposure_Tencode', 'ScreenPorch|BsmtFinType1_Tencode', 'BsmtFinType2_Tencode|RoofStyle_Tencode', 'MiscVal|3SsnPorch', 'GarageYrBlt|BsmtFinSF1', 'Alley_Tencode|ExterCond_Tencode', 'LandContour_Tencode|YearRemodAdd', '2ndFlrSF|Utilities_Tencode', 'ScreenPorch|FullBath', 'ExterCond_Tencode|OpenPorchSF', 'BsmtCond_Tencode|Exterior2nd_Tencode', 'Fence_Tencode|Exterior2nd_Tencode', 'Heating_Tencode|BsmtUnfSF', 'LotConfig_Tencode|BsmtUnfSF', 'PoolArea|3SsnPorch', 'LotArea|Fireplaces', 'MSSubClass|GarageQual_Tencode', 'BsmtExposure_Tencode|BsmtFinType1_Tencode', 'TotalBsmtSF|EnclosedPorch', 'Heating_Tencode|SaleCondition_Tencode', 'GarageArea|Condition1_Tencode', 'GarageQual_Tencode|BldgType_Tencode', 'BsmtFinSF1|FireplaceQu_Tencode', 'GarageArea|OverallCond', 'MasVnrType_Tencode|PoolArea', 'Functional_Tencode|BsmtFullBath', 'OverallCond|Exterior2nd_Tencode', 'MoSold|LandSlope_Tencode', 'Heating_Tencode|Condition1_Tencode', 'WoodDeckSF', 'GarageQual_Tencode|GrLivArea', 'BsmtFinSF2|HalfBath', 'GarageArea|GarageCars', 'YrSold|Utilities_Tencode', 'OverallQual|Fireplaces', 'GarageYrBlt|PavedDrive_Tencode', 'WoodDeckSF|HouseStyle_Tencode', 'WoodDeckSF|BsmtFinSF1', 'BsmtFinSF2|LotArea', 'WoodDeckSF|2ndFlrSF', 'BsmtCond_Tencode|MiscFeature_Tencode', 'LotShape_Tencode|MasVnrArea', 'MasVnrType_Tencode|GarageType_Tencode', 'LotArea|TotRmsAbvGrd', 'YrSold|Fence_Tencode', 'OpenPorchSF|RoofStyle_Tencode', 'Utilities_Tencode|Street_Tencode', 'PavedDrive_Tencode|BedroomAbvGr', 'Fence_Tencode|GarageCond_Tencode', 'MSSubClass|OverallCond', 'BsmtFinType1_Tencode|RoofMatl_Tencode', 'Heating_Tencode|MiscFeature_Tencode', 'GarageArea|3SsnPorch', 'GarageCars|HeatingQC_Tencode', 'TotalBsmtSF|BedroomAbvGr', 'MasVnrType_Tencode|LotFrontage', 'GarageCars|HalfBath', 'MSSubClass|GarageFinish_Tencode', 'WoodDeckSF|KitchenQual_Tencode', 'Functional_Tencode|3SsnPorch', 'YrSold|HouseStyle_Tencode', 'PoolArea|Condition1_Tencode', 'LotArea|Condition1_Tencode', 'PavedDrive_Tencode|YearBuilt', 'GarageCars|LowQualFinSF', 'LowQualFinSF|BsmtFinType1_Tencode', 'Street_Tencode|BldgType_Tencode', 'LotConfig_Tencode|MoSold', 'YrSold|MSZoning_Tencode', 'GarageYrBlt|ExterCond_Tencode', 'OverallQual|BsmtExposure_Tencode', 'Condition2_Tencode|LandContour_Tencode', 'Functional_Tencode|ScreenPorch', 'ScreenPorch|Exterior2nd_Tencode', 'MoSold', 'WoodDeckSF|Condition1_Tencode', 'Functional_Tencode|MoSold', 'Functional_Tencode|KitchenQual_Tencode', 'ExterQual_Tencode|OpenPorchSF', 'LotConfig_Tencode|BedroomAbvGr', 'OverallCond|BsmtQual_Tencode', 'SaleCondition_Tencode|LowQualFinSF', 'YearBuilt|MasVnrArea', 'GarageArea|MasVnrType_Tencode', 'KitchenQual_Tencode|Neighborhood_Tencode', 'CentralAir_Tencode|OpenPorchSF', 'LotArea|CentralAir_Tencode', 'Neighborhood_Tencode|BldgType_Tencode', 'YrSold|EnclosedPorch', 'SaleCondition_Tencode|GarageType_Tencode', 'YrSold|LandContour_Tencode', 'Condition1_Tencode|BedroomAbvGr', 'SaleType_Tencode|LandSlope_Tencode', '3SsnPorch|HouseStyle_Tencode', 'LotConfig_Tencode|MasVnrArea', 'MSZoning_Tencode|RoofStyle_Tencode', 'GarageArea|GarageQual_Tencode', 'LotShape_Tencode|Neighborhood_Tencode', 'FullBath|YearBuilt', 'LotArea|ExterCond_Tencode', 'LotArea|Neighborhood_Tencode', 'ScreenPorch|2ndFlrSF', 'YearRemodAdd|BldgType_Tencode', 'GarageArea|Fence_Tencode', 'LotConfig_Tencode|YearRemodAdd', 'SaleType_Tencode|Utilities_Tencode', 'Exterior1st_Tencode|LandSlope_Tencode', 'FullBath|KitchenQual_Tencode', 'Exterior1st_Tencode|RoofMatl_Tencode']\n",
      "\n",
      "Categorical = ['PavedDrive', 'FireplaceQu', 'GarageCond', 'LotConfig', 'BsmtExposure', 'BsmtCond', 'KitchenQual', 'HeatingQC', 'Heating', 'SaleCondition', 'Neighborhood', 'RoofMatl', 'LotShape', 'ExterQual', 'BsmtFinType2', 'Exterior1st', 'Utilities', 'CentralAir', 'RoofStyle', 'BsmtFinType1', 'BldgType', 'Condition2', 'MasVnrType', 'Foundation', 'LandContour', 'MSZoning', 'GarageFinish', 'Fence', 'MiscFeature', 'Exterior2nd', 'Alley', 'SaleType', 'ExterCond', 'Street', 'Functional', 'Condition1', 'HouseStyle', 'GarageQual', 'LandSlope', 'Electrical', 'GarageType', 'BsmtQual', 'PoolQC']\n"
     ]
    }
   ],
   "source": [
    "encoded_combined_nums, cats = get_type_lists(frame=train)"
   ]
  },
  {
   "cell_type": "code",
   "execution_count": 14,
   "metadata": {
    "collapsed": false
   },
   "outputs": [
    {
     "name": "stdout",
     "output_type": "stream",
     "text": [
      "True\n",
      "True\n"
     ]
    }
   ],
   "source": [
    "# check number of created variables is correct\n",
    "# 1 id column, 1 target column, 79 original + encoded numeric columns, 43 original categorical variables\n",
    "# sum(range(1, 79)) combined variables\n",
    "print(train.shape == (1460, sum(range(1, 79), (79 + 43 + 1 + 1))))\n",
    "print(test.shape == (1459, sum(range(1, 79), (79 + 43 + 1))))"
   ]
  },
  {
   "cell_type": "code",
   "execution_count": 15,
   "metadata": {
    "collapsed": false
   },
   "outputs": [
    {
     "data": {
      "text/html": [
       "<table>\n",
       "<thead>\n",
       "<tr><th style=\"text-align: right;\">  Exterior1st_Tencode</th><th style=\"text-align: right;\">  BsmtQual_Tencode</th><th style=\"text-align: right;\">  Exterior1st_Tencode|BsmtQual_Tencode</th></tr>\n",
       "</thead>\n",
       "<tbody>\n",
       "<tr><td style=\"text-align: right;\">               165680</td><td style=\"text-align: right;\">            180921</td><td style=\"text-align: right;\">                            2.9975e+10</td></tr>\n",
       "</tbody>\n",
       "</table>"
      ]
     },
     "metadata": {},
     "output_type": "display_data"
    },
    {
     "name": "stdout",
     "output_type": "stream",
     "text": [
      "\n"
     ]
    },
    {
     "data": {
      "text/html": [
       "<table>\n",
       "<thead>\n",
       "<tr><th style=\"text-align: right;\">  Exterior1st_Tencode</th><th style=\"text-align: right;\">  BsmtQual_Tencode</th><th style=\"text-align: right;\">  Exterior1st_Tencode|BsmtQual_Tencode</th></tr>\n",
       "</thead>\n",
       "<tbody>\n",
       "<tr><td style=\"text-align: right;\">               149422</td><td style=\"text-align: right;\">            140760</td><td style=\"text-align: right;\">                           2.10326e+10</td></tr>\n",
       "</tbody>\n",
       "</table>"
      ]
     },
     "metadata": {},
     "output_type": "display_data"
    },
    {
     "name": "stdout",
     "output_type": "stream",
     "text": [
      "\n",
      "29974965728.813835\n",
      "21032638505.240494\n"
     ]
    }
   ],
   "source": [
    "# check multiplication for a random column\n",
    "ridx = np.random.choice(sum(range(1, 79)))\n",
    "combined_only = [name for name in encoded_combined_nums if name not in encoded_nums]\n",
    "combined_check_vars = combined_only[ridx].split('|')\n",
    "combined_check_vars.append(combined_only[ridx])\n",
    "\n",
    "print(train[736, combined_check_vars])\n",
    "print(test[637, combined_check_vars])\n",
    "\n",
    "print(train[736, combined_check_vars[0]]*train[736, combined_check_vars[1]])\n",
    "print(test[637, combined_check_vars[0]]*test[637, combined_check_vars[1]])"
   ]
  },
  {
   "cell_type": "markdown",
   "metadata": {},
   "source": [
    "## Train constituent models (for inspection purposes)"
   ]
  },
  {
   "cell_type": "code",
   "execution_count": 16,
   "metadata": {
    "collapsed": false
   },
   "outputs": [],
   "source": [
    "h2o.show_progress()                                          # turn on progress bars\n",
    "from h2o.estimators.glm import H2OGeneralizedLinearEstimator # import GLM models\n",
    "from h2o.grid.grid_search import H2OGridSearch               # grid search"
   ]
  },
  {
   "cell_type": "code",
   "execution_count": 17,
   "metadata": {
    "collapsed": false
   },
   "outputs": [
    {
     "data": {
      "text/html": [
       "<table>\n",
       "<thead>\n",
       "<tr><th style=\"text-align: right;\">  SalePrice</th></tr>\n",
       "</thead>\n",
       "<tbody>\n",
       "<tr><td style=\"text-align: right;\">    12.2477</td></tr>\n",
       "<tr><td style=\"text-align: right;\">    12.109 </td></tr>\n",
       "<tr><td style=\"text-align: right;\">    12.3172</td></tr>\n",
       "</tbody>\n",
       "</table>"
      ]
     },
     "metadata": {},
     "output_type": "display_data"
    },
    {
     "name": "stdout",
     "output_type": "stream",
     "text": [
      "\n"
     ]
    },
    {
     "data": {
      "image/png": "[encoded data removed]",
      "text/plain": [
       "<matplotlib.figure.Figure at 0x10ee6f3c8>"
      ]
     },
     "metadata": {},
     "output_type": "display_data"
    }
   ],
   "source": [
    "# Check log transform - looks good\n",
    "%matplotlib inline\n",
    "train['SalePrice'].log().as_data_frame().hist()\n",
    "\n",
    "# Execute log transform\n",
    "train['SalePrice'] = train['SalePrice'].log()\n",
    "print(train[0:3, 'SalePrice'])"
   ]
  },
  {
   "cell_type": "markdown",
   "metadata": {},
   "source": [
    "#### Split training data"
   ]
  },
  {
   "cell_type": "code",
   "execution_count": 18,
   "metadata": {
    "collapsed": false
   },
   "outputs": [
    {
     "name": "stdout",
     "output_type": "stream",
     "text": [
      "(441, 3205)\n",
      "(297, 3205)\n",
      "(425, 3205)\n",
      "(297, 3205)\n"
     ]
    }
   ],
   "source": [
    "base_train, base_valid, stack_train, stack_valid = train.split_frame([0.3, 0.2, 0.3], seed=12345)\n",
    "print(base_train.shape)\n",
    "print(base_valid.shape)\n",
    "print(stack_train.shape)\n",
    "print(stack_valid.shape)"
   ]
  },
  {
   "cell_type": "markdown",
   "metadata": {},
   "source": [
    "#### Define model with grid search function"
   ]
  },
  {
   "cell_type": "code",
   "execution_count": 19,
   "metadata": {
    "collapsed": true
   },
   "outputs": [],
   "source": [
    "def glm_grid(X, y, train, valid):\n",
    "    \n",
    "    \"\"\" Wrapper function for penalized GLM with alpha and lambda search.\n",
    "    \n",
    "    :param X: List of inputs.\n",
    "    :param y: Name of target variable.\n",
    "    :param train: Name of training H2OFrame.\n",
    "    :param valid: Name of validation H2OFrame.\n",
    "    :return: Best H2Omodel from H2OGeneralizedLinearEstimator\n",
    "\n",
    "    \"\"\"\n",
    "    \n",
    "    alpha_opts = [0.01, 0.25, 0.5, 0.99] # always keep some L2\n",
    "    hyper_parameters = {\"alpha\":alpha_opts}\n",
    "\n",
    "    # initialize grid search\n",
    "    grid = H2OGridSearch(\n",
    "        H2OGeneralizedLinearEstimator(\n",
    "            family=\"gaussian\",\n",
    "            lambda_search=True,\n",
    "            seed=12345),\n",
    "        hyper_params=hyper_parameters)\n",
    "    \n",
    "    # train grid\n",
    "    grid.train(y=y,\n",
    "               x=X, \n",
    "               training_frame=train,\n",
    "               validation_frame=valid)\n",
    "\n",
    "    # show grid search results\n",
    "    print(grid.show())\n",
    "\n",
    "    best = grid.get_grid()[0]\n",
    "    print(best)\n",
    "    \n",
    "    # plot top frame values\n",
    "    yhat_frame = valid.cbind(best.predict(valid))\n",
    "    print(yhat_frame[0:10, [y, 'predict']])\n",
    "\n",
    "    # plot sorted predictions\n",
    "    yhat_frame_df = yhat_frame[[y, 'predict']].as_data_frame()\n",
    "    yhat_frame_df.sort_values(by='predict', inplace=True)\n",
    "    yhat_frame_df.reset_index(inplace=True, drop=True)\n",
    "    _ = yhat_frame_df.plot(title='Ranked Predictions Plot')\n",
    "    \n",
    "    # select best model\n",
    "    return best\n"
   ]
  },
  {
   "cell_type": "markdown",
   "metadata": {},
   "source": [
    "## Train base level models"
   ]
  },
  {
   "cell_type": "markdown",
   "metadata": {},
   "source": [
    "#### First model on original numeric inputs"
   ]
  },
  {
   "cell_type": "code",
   "execution_count": 20,
   "metadata": {
    "collapsed": false
   },
   "outputs": [
    {
     "name": "stdout",
     "output_type": "stream",
     "text": [
      "glm Grid Build progress: |████████████████████████████████████████████████| 100%\n",
      "      alpha                                                      model_ids  \\\n",
      "0    [0.25]  Grid_GLM_py_191_sid_ad7f_model_python_1496413735077_1_model_1   \n",
      "1     [0.5]  Grid_GLM_py_191_sid_ad7f_model_python_1496413735077_1_model_2   \n",
      "2    [0.99]  Grid_GLM_py_191_sid_ad7f_model_python_1496413735077_1_model_3   \n",
      "3    [0.01]  Grid_GLM_py_191_sid_ad7f_model_python_1496413735077_1_model_0   \n",
      "\n",
      "    residual_deviance  \n",
      "0  6.1547872644674975  \n",
      "1   6.176742787271316  \n",
      "2   6.187774564130353  \n",
      "3   6.222185404213093  \n",
      "None\n",
      "Model Details\n",
      "=============\n",
      "H2OGeneralizedLinearEstimator :  Generalized Linear Modeling\n",
      "Model Key:  Grid_GLM_py_191_sid_ad7f_model_python_1496413735077_1_model_1\n",
      "\n",
      "\n",
      "ModelMetricsRegressionGLM: glm\n",
      "** Reported on train data. **\n",
      "\n",
      "MSE: 0.030433677244580237\n",
      "RMSE: 0.17445250713182725\n",
      "MAE: 0.1194447728643846\n",
      "RMSLE: 0.01342079219234599\n",
      "R^2: 0.8278683153607946\n",
      "Mean Residual Deviance: 0.030433677244580237\n",
      "Null degrees of freedom: 440\n",
      "Residual degrees of freedom: 416\n",
      "Null deviance: 77.97083780937984\n",
      "Residual deviance: 13.421251664859884\n",
      "AIC: -236.5588302321106\n",
      "\n",
      "ModelMetricsRegressionGLM: glm\n",
      "** Reported on validation data. **\n",
      "\n",
      "MSE: 0.020723189442651505\n",
      "RMSE: 0.1439555120259433\n",
      "MAE: 0.11068256137484286\n",
      "RMSLE: 0.011125353076463318\n",
      "R^2: 0.8607616808886681\n",
      "Mean Residual Deviance: 0.020723189442651505\n",
      "Null degrees of freedom: 296\n",
      "Residual degrees of freedom: 272\n",
      "Null deviance: 44.26529427591359\n",
      "Residual deviance: 6.1547872644674975\n",
      "AIC: -256.471588290121\n",
      "Scoring History: \n"
     ]
    },
    {
     "data": {
      "text/html": [
       "<div style=\"overflow:auto\"><table style=\"width:50%\"><tr><td><b></b></td>\n",
       "<td><b>timestamp</b></td>\n",
       "<td><b>duration</b></td>\n",
       "<td><b>iteration</b></td>\n",
       "<td><b>lambda</b></td>\n",
       "<td><b>predictors</b></td>\n",
       "<td><b>deviance_train</b></td>\n",
       "<td><b>deviance_test</b></td></tr>\n",
       "<tr><td></td>\n",
       "<td>2017-06-02 10:33:10</td>\n",
       "<td> 0.000 sec</td>\n",
       "<td>0</td>\n",
       "<td>.13E1</td>\n",
       "<td>2</td>\n",
       "<td>0.1715065</td>\n",
       "<td>0.1442587</td></tr>\n",
       "<tr><td></td>\n",
       "<td>2017-06-02 10:33:10</td>\n",
       "<td> 0.002 sec</td>\n",
       "<td>0</td>\n",
       "<td>.12E1</td>\n",
       "<td>2</td>\n",
       "<td>0.1663340</td>\n",
       "<td>0.1395944</td></tr>\n",
       "<tr><td></td>\n",
       "<td>2017-06-02 10:33:10</td>\n",
       "<td> 0.004 sec</td>\n",
       "<td>0</td>\n",
       "<td>.12E1</td>\n",
       "<td>2</td>\n",
       "<td>0.1612922</td>\n",
       "<td>0.1350533</td></tr>\n",
       "<tr><td></td>\n",
       "<td>2017-06-02 10:33:10</td>\n",
       "<td> 0.007 sec</td>\n",
       "<td>0</td>\n",
       "<td>.11E1</td>\n",
       "<td>2</td>\n",
       "<td>0.1563858</td>\n",
       "<td>0.1306395</td></tr>\n",
       "<tr><td></td>\n",
       "<td>2017-06-02 10:33:10</td>\n",
       "<td> 0.009 sec</td>\n",
       "<td>0</td>\n",
       "<td>.11E1</td>\n",
       "<td>2</td>\n",
       "<td>0.1516189</td>\n",
       "<td>0.1263565</td></tr>\n",
       "<tr><td>---</td>\n",
       "<td>---</td>\n",
       "<td>---</td>\n",
       "<td>---</td>\n",
       "<td>---</td>\n",
       "<td>---</td>\n",
       "<td>---</td>\n",
       "<td>---</td></tr>\n",
       "<tr><td></td>\n",
       "<td>2017-06-02 10:33:10</td>\n",
       "<td> 0.289 sec</td>\n",
       "<td>0</td>\n",
       "<td>.16E-1</td>\n",
       "<td>26</td>\n",
       "<td>0.0300759</td>\n",
       "<td>0.0207583</td></tr>\n",
       "<tr><td></td>\n",
       "<td>2017-06-02 10:33:10</td>\n",
       "<td> 0.292 sec</td>\n",
       "<td>0</td>\n",
       "<td>.16E-1</td>\n",
       "<td>26</td>\n",
       "<td>0.0300370</td>\n",
       "<td>0.0207626</td></tr>\n",
       "<tr><td></td>\n",
       "<td>2017-06-02 10:33:10</td>\n",
       "<td> 0.295 sec</td>\n",
       "<td>0</td>\n",
       "<td>.15E-1</td>\n",
       "<td>26</td>\n",
       "<td>0.0300004</td>\n",
       "<td>0.0207676</td></tr>\n",
       "<tr><td></td>\n",
       "<td>2017-06-02 10:33:10</td>\n",
       "<td> 0.299 sec</td>\n",
       "<td>0</td>\n",
       "<td>.14E-1</td>\n",
       "<td>26</td>\n",
       "<td>0.0299672</td>\n",
       "<td>0.0207743</td></tr>\n",
       "<tr><td></td>\n",
       "<td>2017-06-02 10:33:10</td>\n",
       "<td> 0.303 sec</td>\n",
       "<td>0</td>\n",
       "<td>.14E-1</td>\n",
       "<td>26</td>\n",
       "<td>0.0299370</td>\n",
       "<td>0.0207821</td></tr></table></div>"
      ],
      "text/plain": [
       "     timestamp            duration    iteration    lambda    predictors    deviance_train        deviance_test\n",
       "---  -------------------  ----------  -----------  --------  ------------  --------------------  --------------------\n",
       "     2017-06-02 10:33:10  0.000 sec   0            .13E1     2             0.1715065393039691    0.14425868381987977\n",
       "     2017-06-02 10:33:10  0.002 sec   0            .12E1     2             0.1663339954019588    0.13959442761041665\n",
       "     2017-06-02 10:33:10  0.004 sec   0            .12E1     2             0.16129220460509275   0.1350533030396534\n",
       "     2017-06-02 10:33:10  0.007 sec   0            .11E1     2             0.1563858121216342    0.13063946027364312\n",
       "     2017-06-02 10:33:10  0.009 sec   0            .11E1     2             0.15161888584304986   0.1263565067910812\n",
       "---  ---                  ---         ---          ---       ---           ---                   ---\n",
       "     2017-06-02 10:33:10  0.289 sec   0            .16E-1    26            0.030075863267876084  0.020758333986429314\n",
       "     2017-06-02 10:33:10  0.292 sec   0            .16E-1    26            0.030036983107233288  0.02076261081909695\n",
       "     2017-06-02 10:33:10  0.295 sec   0            .15E-1    26            0.030000420976751575  0.020767640997076314\n",
       "     2017-06-02 10:33:10  0.299 sec   0            .14E-1    26            0.029967221330049212  0.020774303214581156\n",
       "     2017-06-02 10:33:10  0.303 sec   0            .14E-1    26            0.029936959960813636  0.020782089512743324"
      ]
     },
     "metadata": {},
     "output_type": "display_data"
    },
    {
     "name": "stdout",
     "output_type": "stream",
     "text": [
      "\n",
      "See the whole table with table.as_data_frame()\n",
      "\n",
      "glm prediction progress: |████████████████████████████████████████████████| 100%\n"
     ]
    },
    {
     "data": {
      "text/html": [
       "<table>\n",
       "<thead>\n",
       "<tr><th style=\"text-align: right;\">  SalePrice</th><th style=\"text-align: right;\">  predict</th></tr>\n",
       "</thead>\n",
       "<tbody>\n",
       "<tr><td style=\"text-align: right;\">    12.109 </td><td style=\"text-align: right;\">  12.2194</td></tr>\n",
       "<tr><td style=\"text-align: right;\">    11.7745</td><td style=\"text-align: right;\">  12.1191</td></tr>\n",
       "<tr><td style=\"text-align: right;\">    11.964 </td><td style=\"text-align: right;\">  11.8372</td></tr>\n",
       "<tr><td style=\"text-align: right;\">    12.6925</td><td style=\"text-align: right;\">  12.6562</td></tr>\n",
       "<tr><td style=\"text-align: right;\">    11.9447</td><td style=\"text-align: right;\">  11.9856</td></tr>\n",
       "<tr><td style=\"text-align: right;\">    12.1002</td><td style=\"text-align: right;\">  12.2708</td></tr>\n",
       "<tr><td style=\"text-align: right;\">    12.6411</td><td style=\"text-align: right;\">  12.6413</td></tr>\n",
       "<tr><td style=\"text-align: right;\">    11.8776</td><td style=\"text-align: right;\">  11.8451</td></tr>\n",
       "<tr><td style=\"text-align: right;\">    11.7772</td><td style=\"text-align: right;\">  11.7651</td></tr>\n",
       "<tr><td style=\"text-align: right;\">    12.428 </td><td style=\"text-align: right;\">  12.3933</td></tr>\n",
       "</tbody>\n",
       "</table>"
      ]
     },
     "metadata": {},
     "output_type": "display_data"
    },
    {
     "name": "stdout",
     "output_type": "stream",
     "text": [
      "\n"
     ]
    },
    {
     "data": {
      "image/png": "[encoded data removed]",
      "text/plain": [
       "<matplotlib.figure.Figure at 0x10ee60ef0>"
      ]
     },
     "metadata": {},
     "output_type": "display_data"
    }
   ],
   "source": [
    "glm0 = glm_grid(original_nums, 'SalePrice', base_train, base_valid)"
   ]
  },
  {
   "cell_type": "markdown",
   "metadata": {},
   "source": [
    "#### Second model on encoded numeric inputs"
   ]
  },
  {
   "cell_type": "code",
   "execution_count": 21,
   "metadata": {
    "collapsed": false
   },
   "outputs": [
    {
     "name": "stdout",
     "output_type": "stream",
     "text": [
      "glm Grid Build progress: |████████████████████████████████████████████████| 100%\n",
      "      alpha                                                      model_ids  \\\n",
      "0    [0.25]  Grid_GLM_py_191_sid_ad7f_model_python_1496413735077_2_model_1   \n",
      "1     [0.5]  Grid_GLM_py_191_sid_ad7f_model_python_1496413735077_2_model_2   \n",
      "2    [0.99]  Grid_GLM_py_191_sid_ad7f_model_python_1496413735077_2_model_3   \n",
      "3    [0.01]  Grid_GLM_py_191_sid_ad7f_model_python_1496413735077_2_model_0   \n",
      "\n",
      "   residual_deviance  \n",
      "0  4.778509733930591  \n",
      "1  4.789724936182832  \n",
      "2  4.795613468131964  \n",
      "3  4.835497149789076  \n",
      "None\n",
      "Model Details\n",
      "=============\n",
      "H2OGeneralizedLinearEstimator :  Generalized Linear Modeling\n",
      "Model Key:  Grid_GLM_py_191_sid_ad7f_model_python_1496413735077_2_model_1\n",
      "\n",
      "\n",
      "ModelMetricsRegressionGLM: glm\n",
      "** Reported on train data. **\n",
      "\n",
      "MSE: 0.01995776379704142\n",
      "RMSE: 0.14127194978848923\n",
      "MAE: 0.10076704919704163\n",
      "RMSLE: 0.010921613372508916\n",
      "R^2: 0.8871196708696163\n",
      "Mean Residual Deviance: 0.01995776379704142\n",
      "Null degrees of freedom: 440\n",
      "Residual degrees of freedom: 391\n",
      "Null deviance: 77.97083780937984\n",
      "Residual deviance: 8.801373834495266\n",
      "AIC: -372.6306521423225\n",
      "\n",
      "ModelMetricsRegressionGLM: glm\n",
      "** Reported on validation data. **\n",
      "\n",
      "MSE: 0.01608925836340266\n",
      "RMSE: 0.12684344036410658\n",
      "MAE: 0.09473409630209333\n",
      "RMSLE: 0.009830445754587552\n",
      "R^2: 0.8918968869889611\n",
      "Mean Residual Deviance: 0.01608925836340266\n",
      "Null degrees of freedom: 296\n",
      "Residual degrees of freedom: 247\n",
      "Null deviance: 44.26529427591359\n",
      "Residual deviance: 4.778509733930591\n",
      "AIC: -281.64272465654847\n",
      "Scoring History: \n"
     ]
    },
    {
     "data": {
      "text/html": [
       "<div style=\"overflow:auto\"><table style=\"width:50%\"><tr><td><b></b></td>\n",
       "<td><b>timestamp</b></td>\n",
       "<td><b>duration</b></td>\n",
       "<td><b>iteration</b></td>\n",
       "<td><b>lambda</b></td>\n",
       "<td><b>predictors</b></td>\n",
       "<td><b>deviance_train</b></td>\n",
       "<td><b>deviance_test</b></td></tr>\n",
       "<tr><td></td>\n",
       "<td>2017-06-02 10:33:22</td>\n",
       "<td> 0.000 sec</td>\n",
       "<td>0</td>\n",
       "<td>.13E1</td>\n",
       "<td>2</td>\n",
       "<td>0.1715065</td>\n",
       "<td>0.1442587</td></tr>\n",
       "<tr><td></td>\n",
       "<td>2017-06-02 10:33:22</td>\n",
       "<td> 0.003 sec</td>\n",
       "<td>0</td>\n",
       "<td>.12E1</td>\n",
       "<td>2</td>\n",
       "<td>0.1663340</td>\n",
       "<td>0.1395944</td></tr>\n",
       "<tr><td></td>\n",
       "<td>2017-06-02 10:33:23</td>\n",
       "<td> 0.007 sec</td>\n",
       "<td>0</td>\n",
       "<td>.12E1</td>\n",
       "<td>3</td>\n",
       "<td>0.1602977</td>\n",
       "<td>0.1341616</td></tr>\n",
       "<tr><td></td>\n",
       "<td>2017-06-02 10:33:23</td>\n",
       "<td> 0.015 sec</td>\n",
       "<td>0</td>\n",
       "<td>.11E1</td>\n",
       "<td>3</td>\n",
       "<td>0.1536219</td>\n",
       "<td>0.1281660</td></tr>\n",
       "<tr><td></td>\n",
       "<td>2017-06-02 10:33:23</td>\n",
       "<td> 0.018 sec</td>\n",
       "<td>0</td>\n",
       "<td>.11E1</td>\n",
       "<td>3</td>\n",
       "<td>0.1472498</td>\n",
       "<td>0.1224546</td></tr>\n",
       "<tr><td>---</td>\n",
       "<td>---</td>\n",
       "<td>---</td>\n",
       "<td>---</td>\n",
       "<td>---</td>\n",
       "<td>---</td>\n",
       "<td>---</td>\n",
       "<td>---</td></tr>\n",
       "<tr><td></td>\n",
       "<td>2017-06-02 10:33:23</td>\n",
       "<td> 0.358 sec</td>\n",
       "<td>0</td>\n",
       "<td>.16E-1</td>\n",
       "<td>58</td>\n",
       "<td>0.0191637</td>\n",
       "<td>0.0162324</td></tr>\n",
       "<tr><td></td>\n",
       "<td>2017-06-02 10:33:23</td>\n",
       "<td> 0.364 sec</td>\n",
       "<td>0</td>\n",
       "<td>.16E-1</td>\n",
       "<td>58</td>\n",
       "<td>0.0190535</td>\n",
       "<td>0.0162727</td></tr>\n",
       "<tr><td></td>\n",
       "<td>2017-06-02 10:33:23</td>\n",
       "<td> 0.367 sec</td>\n",
       "<td>0</td>\n",
       "<td>.15E-1</td>\n",
       "<td>60</td>\n",
       "<td>0.0189494</td>\n",
       "<td>0.0163243</td></tr>\n",
       "<tr><td></td>\n",
       "<td>2017-06-02 10:33:23</td>\n",
       "<td> 0.369 sec</td>\n",
       "<td>0</td>\n",
       "<td>.14E-1</td>\n",
       "<td>60</td>\n",
       "<td>0.0188553</td>\n",
       "<td>0.0163773</td></tr>\n",
       "<tr><td></td>\n",
       "<td>2017-06-02 10:33:23</td>\n",
       "<td> 0.373 sec</td>\n",
       "<td>0</td>\n",
       "<td>.14E-1</td>\n",
       "<td>60</td>\n",
       "<td>0.0187675</td>\n",
       "<td>0.0164347</td></tr></table></div>"
      ],
      "text/plain": [
       "     timestamp            duration    iteration    lambda    predictors    deviance_train        deviance_test\n",
       "---  -------------------  ----------  -----------  --------  ------------  --------------------  --------------------\n",
       "     2017-06-02 10:33:22  0.000 sec   0            .13E1     2             0.1715065393039691    0.14425868381987977\n",
       "     2017-06-02 10:33:22  0.003 sec   0            .12E1     2             0.1663339954019588    0.13959442761041665\n",
       "     2017-06-02 10:33:23  0.007 sec   0            .12E1     3             0.160297728732721     0.13416158990900712\n",
       "     2017-06-02 10:33:23  0.015 sec   0            .11E1     3             0.1536219071151823    0.12816602364468863\n",
       "     2017-06-02 10:33:23  0.018 sec   0            .11E1     3             0.14724976213466373   0.12245455599610619\n",
       "---  ---                  ---         ---          ---       ---           ---                   ---\n",
       "     2017-06-02 10:33:23  0.358 sec   0            .16E-1    58            0.019163675956107185  0.01623236788096917\n",
       "     2017-06-02 10:33:23  0.364 sec   0            .16E-1    58            0.01905347061358472   0.016272732747657694\n",
       "     2017-06-02 10:33:23  0.367 sec   0            .15E-1    60            0.018949383564787425  0.016324325092950148\n",
       "     2017-06-02 10:33:23  0.369 sec   0            .14E-1    60            0.018855345906727907  0.016377311027398866\n",
       "     2017-06-02 10:33:23  0.373 sec   0            .14E-1    60            0.01876745577443596   0.016434650833917278"
      ]
     },
     "metadata": {},
     "output_type": "display_data"
    },
    {
     "name": "stdout",
     "output_type": "stream",
     "text": [
      "\n",
      "See the whole table with table.as_data_frame()\n",
      "\n",
      "glm prediction progress: |████████████████████████████████████████████████| 100%\n"
     ]
    },
    {
     "data": {
      "text/html": [
       "<table>\n",
       "<thead>\n",
       "<tr><th style=\"text-align: right;\">  SalePrice</th><th style=\"text-align: right;\">  predict</th></tr>\n",
       "</thead>\n",
       "<tbody>\n",
       "<tr><td style=\"text-align: right;\">    12.109 </td><td style=\"text-align: right;\">  12.2128</td></tr>\n",
       "<tr><td style=\"text-align: right;\">    11.7745</td><td style=\"text-align: right;\">  11.8758</td></tr>\n",
       "<tr><td style=\"text-align: right;\">    11.964 </td><td style=\"text-align: right;\">  11.8285</td></tr>\n",
       "<tr><td style=\"text-align: right;\">    12.6925</td><td style=\"text-align: right;\">  12.7849</td></tr>\n",
       "<tr><td style=\"text-align: right;\">    11.9447</td><td style=\"text-align: right;\">  11.9533</td></tr>\n",
       "<tr><td style=\"text-align: right;\">    12.1002</td><td style=\"text-align: right;\">  12.2236</td></tr>\n",
       "<tr><td style=\"text-align: right;\">    12.6411</td><td style=\"text-align: right;\">  12.7159</td></tr>\n",
       "<tr><td style=\"text-align: right;\">    11.8776</td><td style=\"text-align: right;\">  11.9758</td></tr>\n",
       "<tr><td style=\"text-align: right;\">    11.7772</td><td style=\"text-align: right;\">  11.9094</td></tr>\n",
       "<tr><td style=\"text-align: right;\">    12.428 </td><td style=\"text-align: right;\">  12.36  </td></tr>\n",
       "</tbody>\n",
       "</table>"
      ]
     },
     "metadata": {},
     "output_type": "display_data"
    },
    {
     "name": "stdout",
     "output_type": "stream",
     "text": [
      "\n"
     ]
    },
    {
     "data": {
      "image/png": "[encoded data removed]",
      "text/plain": [
       "<matplotlib.figure.Figure at 0x1142a19e8>"
      ]
     },
     "metadata": {},
     "output_type": "display_data"
    }
   ],
   "source": [
    "glm1 = glm_grid(encoded_nums, 'SalePrice', base_train, base_valid)"
   ]
  },
  {
   "cell_type": "markdown",
   "metadata": {},
   "source": [
    "#### Third model on encoded numeric inputs"
   ]
  },
  {
   "cell_type": "code",
   "execution_count": 22,
   "metadata": {
    "collapsed": false
   },
   "outputs": [
    {
     "name": "stdout",
     "output_type": "stream",
     "text": [
      "glm Grid Build progress: |████████████████████████████████████████████████| 100%\n",
      "      alpha                                                      model_ids  \\\n",
      "0    [0.01]  Grid_GLM_py_191_sid_ad7f_model_python_1496413735077_3_model_0   \n",
      "1     [0.5]  Grid_GLM_py_191_sid_ad7f_model_python_1496413735077_3_model_2   \n",
      "2    [0.25]  Grid_GLM_py_191_sid_ad7f_model_python_1496413735077_3_model_1   \n",
      "3    [0.99]  Grid_GLM_py_191_sid_ad7f_model_python_1496413735077_3_model_3   \n",
      "\n",
      "    residual_deviance  \n",
      "0  4.0943604323083775  \n",
      "1   4.138301163096111  \n",
      "2   4.143382514736944  \n",
      "3  4.1604492333835115  \n",
      "None\n",
      "Model Details\n",
      "=============\n",
      "H2OGeneralizedLinearEstimator :  Generalized Linear Modeling\n",
      "Model Key:  Grid_GLM_py_191_sid_ad7f_model_python_1496413735077_3_model_0\n",
      "\n",
      "\n",
      "ModelMetricsRegressionGLM: glm\n",
      "** Reported on train data. **\n",
      "\n",
      "MSE: 0.012603422523532314\n",
      "RMSE: 0.11226496569959978\n",
      "MAE: 0.08035714352184414\n",
      "RMSLE: 0.008763262705780909\n",
      "R^2: 0.9287155366155542\n",
      "Mean Residual Deviance: 0.012603422523532314\n",
      "Null degrees of freedom: 440\n",
      "Residual degrees of freedom: -222\n",
      "Null deviance: 77.97083780937984\n",
      "Residual deviance: 5.55810933287775\n",
      "AIC: 650.6637752682205\n",
      "\n",
      "ModelMetricsRegressionGLM: glm\n",
      "** Reported on validation data. **\n",
      "\n",
      "MSE: 0.013785725361307668\n",
      "RMSE: 0.1174126286278766\n",
      "MAE: 0.0828181665467905\n",
      "RMSLE: 0.009139062093522487\n",
      "R^2: 0.907374237332005\n",
      "Mean Residual Deviance: 0.013785725361307668\n",
      "Null degrees of freedom: 296\n",
      "Residual degrees of freedom: -366\n",
      "Null deviance: 44.26529427591359\n",
      "Residual deviance: 4.0943604323083775\n",
      "AIC: 898.4653686878471\n",
      "Scoring History: \n"
     ]
    },
    {
     "data": {
      "text/html": [
       "<div style=\"overflow:auto\"><table style=\"width:50%\"><tr><td><b></b></td>\n",
       "<td><b>timestamp</b></td>\n",
       "<td><b>duration</b></td>\n",
       "<td><b>iteration</b></td>\n",
       "<td><b>lambda</b></td>\n",
       "<td><b>predictors</b></td>\n",
       "<td><b>deviance_train</b></td>\n",
       "<td><b>deviance_test</b></td></tr>\n",
       "<tr><td></td>\n",
       "<td>2017-06-02 10:33:32</td>\n",
       "<td> 0.000 sec</td>\n",
       "<td>0</td>\n",
       "<td>.33E2</td>\n",
       "<td>29</td>\n",
       "<td>0.1743073</td>\n",
       "<td>0.1468127</td></tr>\n",
       "<tr><td></td>\n",
       "<td>2017-06-02 10:33:32</td>\n",
       "<td> 0.061 sec</td>\n",
       "<td>0</td>\n",
       "<td>.32E2</td>\n",
       "<td>44</td>\n",
       "<td>0.1688014</td>\n",
       "<td>0.1419173</td></tr>\n",
       "<tr><td></td>\n",
       "<td>2017-06-02 10:33:33</td>\n",
       "<td> 0.127 sec</td>\n",
       "<td>0</td>\n",
       "<td>.3E2</td>\n",
       "<td>69</td>\n",
       "<td>0.1619395</td>\n",
       "<td>0.1358361</td></tr>\n",
       "<tr><td></td>\n",
       "<td>2017-06-02 10:33:33</td>\n",
       "<td> 0.223 sec</td>\n",
       "<td>0</td>\n",
       "<td>.29E2</td>\n",
       "<td>92</td>\n",
       "<td>0.1543330</td>\n",
       "<td>0.1290875</td></tr>\n",
       "<tr><td></td>\n",
       "<td>2017-06-02 10:33:33</td>\n",
       "<td> 0.336 sec</td>\n",
       "<td>0</td>\n",
       "<td>.28E2</td>\n",
       "<td>114</td>\n",
       "<td>0.1464834</td>\n",
       "<td>0.1221367</td></tr>\n",
       "<tr><td>---</td>\n",
       "<td>---</td>\n",
       "<td>---</td>\n",
       "<td>---</td>\n",
       "<td>---</td>\n",
       "<td>---</td>\n",
       "<td>---</td>\n",
       "<td>---</td></tr>\n",
       "<tr><td></td>\n",
       "<td>2017-06-02 10:34:00</td>\n",
       "<td>27.338 sec</td>\n",
       "<td>0</td>\n",
       "<td>.42E0</td>\n",
       "<td>658</td>\n",
       "<td>0.0127863</td>\n",
       "<td>0.0137863</td></tr>\n",
       "<tr><td></td>\n",
       "<td>2017-06-02 10:34:00</td>\n",
       "<td>27.873 sec</td>\n",
       "<td>0</td>\n",
       "<td>.4E0</td>\n",
       "<td>663</td>\n",
       "<td>0.0126034</td>\n",
       "<td>0.0137857</td></tr>\n",
       "<tr><td></td>\n",
       "<td>2017-06-02 10:34:01</td>\n",
       "<td>28.392 sec</td>\n",
       "<td>0</td>\n",
       "<td>.38E0</td>\n",
       "<td>663</td>\n",
       "<td>0.0124180</td>\n",
       "<td>0.0137907</td></tr>\n",
       "<tr><td></td>\n",
       "<td>2017-06-02 10:34:01</td>\n",
       "<td>28.921 sec</td>\n",
       "<td>0</td>\n",
       "<td>.37E0</td>\n",
       "<td>659</td>\n",
       "<td>0.0122346</td>\n",
       "<td>0.0137912</td></tr>\n",
       "<tr><td></td>\n",
       "<td>2017-06-02 10:34:02</td>\n",
       "<td>29.498 sec</td>\n",
       "<td>0</td>\n",
       "<td>.35E0</td>\n",
       "<td>665</td>\n",
       "<td>0.0120569</td>\n",
       "<td>0.0137964</td></tr></table></div>"
      ],
      "text/plain": [
       "     timestamp            duration    iteration    lambda    predictors    deviance_train        deviance_test\n",
       "---  -------------------  ----------  -----------  --------  ------------  --------------------  --------------------\n",
       "     2017-06-02 10:33:32  0.000 sec   0            .33E2     29            0.1743072795510662    0.14681265319958467\n",
       "     2017-06-02 10:33:32  0.061 sec   0            .32E2     44            0.16880144684105877   0.14191727663131565\n",
       "     2017-06-02 10:33:33  0.127 sec   0            .3E2      69            0.16193946480674548   0.13583610552670572\n",
       "     2017-06-02 10:33:33  0.223 sec   0            .29E2     92            0.15433304896167374   0.1290874872195096\n",
       "     2017-06-02 10:33:33  0.336 sec   0            .28E2     114           0.14648340066104004   0.12213667311521402\n",
       "---  ---                  ---         ---          ---       ---           ---                   ---\n",
       "     2017-06-02 10:34:00  27.338 sec  0            .42E0     658           0.012786347910406384  0.013786320302012666\n",
       "     2017-06-02 10:34:00  27.873 sec  0            .4E0      663           0.012603424872896557  0.013785728249426395\n",
       "     2017-06-02 10:34:01  28.392 sec  0            .38E0     663           0.012417953885591995  0.01379074594672619\n",
       "     2017-06-02 10:34:01  28.921 sec  0            .37E0     659           0.012234586390882204  0.013791243337223943\n",
       "     2017-06-02 10:34:02  29.498 sec  0            .35E0     665           0.012056914302793674  0.01379641534944788"
      ]
     },
     "metadata": {},
     "output_type": "display_data"
    },
    {
     "name": "stdout",
     "output_type": "stream",
     "text": [
      "\n",
      "See the whole table with table.as_data_frame()\n",
      "\n",
      "glm prediction progress: |████████████████████████████████████████████████| 100%\n"
     ]
    },
    {
     "data": {
      "text/html": [
       "<table>\n",
       "<thead>\n",
       "<tr><th style=\"text-align: right;\">  SalePrice</th><th style=\"text-align: right;\">  predict</th></tr>\n",
       "</thead>\n",
       "<tbody>\n",
       "<tr><td style=\"text-align: right;\">    12.109 </td><td style=\"text-align: right;\">  12.2061</td></tr>\n",
       "<tr><td style=\"text-align: right;\">    11.7745</td><td style=\"text-align: right;\">  11.8456</td></tr>\n",
       "<tr><td style=\"text-align: right;\">    11.964 </td><td style=\"text-align: right;\">  11.7426</td></tr>\n",
       "<tr><td style=\"text-align: right;\">    12.6925</td><td style=\"text-align: right;\">  12.7839</td></tr>\n",
       "<tr><td style=\"text-align: right;\">    11.9447</td><td style=\"text-align: right;\">  11.9248</td></tr>\n",
       "<tr><td style=\"text-align: right;\">    12.1002</td><td style=\"text-align: right;\">  12.1828</td></tr>\n",
       "<tr><td style=\"text-align: right;\">    12.6411</td><td style=\"text-align: right;\">  12.6825</td></tr>\n",
       "<tr><td style=\"text-align: right;\">    11.8776</td><td style=\"text-align: right;\">  11.9061</td></tr>\n",
       "<tr><td style=\"text-align: right;\">    11.7772</td><td style=\"text-align: right;\">  11.8163</td></tr>\n",
       "<tr><td style=\"text-align: right;\">    12.428 </td><td style=\"text-align: right;\">  12.39  </td></tr>\n",
       "</tbody>\n",
       "</table>"
      ]
     },
     "metadata": {},
     "output_type": "display_data"
    },
    {
     "name": "stdout",
     "output_type": "stream",
     "text": [
      "\n"
     ]
    },
    {
     "data": {
      "image/png": "[encoded data removed]",
      "text/plain": [
       "<matplotlib.figure.Figure at 0x112301940>"
      ]
     },
     "metadata": {},
     "output_type": "display_data"
    }
   ],
   "source": [
    "glm2 = glm_grid(encoded_combined_nums, 'SalePrice', base_train, base_valid)"
   ]
  },
  {
   "cell_type": "markdown",
   "metadata": {},
   "source": [
    "## Train combiner model on second level data"
   ]
  },
  {
   "cell_type": "markdown",
   "metadata": {},
   "source": [
    "#### Add prediction features to second level data and test data"
   ]
  },
  {
   "cell_type": "code",
   "execution_count": 23,
   "metadata": {
    "collapsed": false
   },
   "outputs": [
    {
     "name": "stdout",
     "output_type": "stream",
     "text": [
      "glm prediction progress: |████████████████████████████████████████████████| 100%\n",
      "glm prediction progress: |████████████████████████████████████████████████| 100%\n",
      "glm prediction progress: |████████████████████████████████████████████████| 100%\n",
      "glm prediction progress: |████████████████████████████████████████████████| 100%\n",
      "glm prediction progress: |████████████████████████████████████████████████| 100%\n",
      "glm prediction progress: |████████████████████████████████████████████████| 100%\n",
      "glm prediction progress: |████████████████████████████████████████████████| 100%\n",
      "glm prediction progress: |████████████████████████████████████████████████| 100%\n",
      "glm prediction progress: |████████████████████████████████████████████████| 100%\n"
     ]
    }
   ],
   "source": [
    "stack_train = stack_train.cbind(glm0.predict(stack_train))\n",
    "stack_valid = stack_valid.cbind(glm0.predict(stack_valid))\n",
    "stack_train = stack_train.cbind(glm1.predict(stack_train))\n",
    "stack_valid = stack_valid.cbind(glm1.predict(stack_valid))\n",
    "stack_train = stack_train.cbind(glm2.predict(stack_train))\n",
    "stack_valid = stack_valid.cbind(glm2.predict(stack_valid))\n",
    "\n",
    "test = test.cbind(glm0.predict(test))\n",
    "test = test.cbind(glm1.predict(test))\n",
    "test = test.cbind(glm2.predict(test))"
   ]
  },
  {
   "cell_type": "markdown",
   "metadata": {},
   "source": [
    "#### Train stack model"
   ]
  },
  {
   "cell_type": "code",
   "execution_count": 24,
   "metadata": {
    "collapsed": false
   },
   "outputs": [
    {
     "name": "stdout",
     "output_type": "stream",
     "text": [
      "glm Grid Build progress: |████████████████████████████████████████████████| 100%\n",
      "      alpha                                                      model_ids  \\\n",
      "0    [0.25]  Grid_GLM_py_213_sid_ad7f_model_python_1496413735077_4_model_1   \n",
      "1    [0.01]  Grid_GLM_py_213_sid_ad7f_model_python_1496413735077_4_model_0   \n",
      "2     [0.5]  Grid_GLM_py_213_sid_ad7f_model_python_1496413735077_4_model_2   \n",
      "3    [0.99]  Grid_GLM_py_213_sid_ad7f_model_python_1496413735077_4_model_3   \n",
      "\n",
      "    residual_deviance  \n",
      "0   3.704621196014203  \n",
      "1   3.720714268500598  \n",
      "2  3.7227306472101565  \n",
      "3  3.7493891416467346  \n",
      "None\n",
      "Model Details\n",
      "=============\n",
      "H2OGeneralizedLinearEstimator :  Generalized Linear Modeling\n",
      "Model Key:  Grid_GLM_py_213_sid_ad7f_model_python_1496413735077_4_model_1\n",
      "\n",
      "\n",
      "ModelMetricsRegressionGLM: glm\n",
      "** Reported on train data. **\n",
      "\n",
      "MSE: 0.009232196511682757\n",
      "RMSE: 0.09608431980132219\n",
      "MAE: 0.06923205054905514\n",
      "RMSLE: 0.007504231447023439\n",
      "R^2: 0.9366679452238128\n",
      "Mean Residual Deviance: 0.009232196511682757\n",
      "Null degrees of freedom: 424\n",
      "Residual degrees of freedom: 312\n",
      "Null deviance: 61.95414835869291\n",
      "Residual deviance: 3.9236835174651716\n",
      "AIC: -557.0520172700847\n",
      "\n",
      "ModelMetricsRegressionGLM: glm\n",
      "** Reported on validation data. **\n",
      "\n",
      "MSE: 0.012473472040451862\n",
      "RMSE: 0.11168469922264133\n",
      "MAE: 0.07906693069659063\n",
      "RMSLE: 0.008694795189876143\n",
      "R^2: 0.923674253259548\n",
      "Mean Residual Deviance: 0.012473472040451862\n",
      "Null degrees of freedom: 296\n",
      "Residual degrees of freedom: 184\n",
      "Null deviance: 48.54731789836815\n",
      "Residual deviance: 3.704621196014203\n",
      "AIC: -231.24339586871218\n",
      "Scoring History: \n"
     ]
    },
    {
     "data": {
      "text/html": [
       "<div style=\"overflow:auto\"><table style=\"width:50%\"><tr><td><b></b></td>\n",
       "<td><b>timestamp</b></td>\n",
       "<td><b>duration</b></td>\n",
       "<td><b>iteration</b></td>\n",
       "<td><b>lambda</b></td>\n",
       "<td><b>predictors</b></td>\n",
       "<td><b>deviance_train</b></td>\n",
       "<td><b>deviance_test</b></td></tr>\n",
       "<tr><td></td>\n",
       "<td>2017-06-02 10:35:20</td>\n",
       "<td> 0.000 sec</td>\n",
       "<td>0</td>\n",
       "<td>.14E1</td>\n",
       "<td>3</td>\n",
       "<td>0.1388564</td>\n",
       "<td>0.1558120</td></tr>\n",
       "<tr><td></td>\n",
       "<td>2017-06-02 10:35:20</td>\n",
       "<td> 0.054 sec</td>\n",
       "<td>0</td>\n",
       "<td>.13E1</td>\n",
       "<td>4</td>\n",
       "<td>0.1307107</td>\n",
       "<td>0.1468813</td></tr>\n",
       "<tr><td></td>\n",
       "<td>2017-06-02 10:35:20</td>\n",
       "<td> 0.110 sec</td>\n",
       "<td>0</td>\n",
       "<td>.13E1</td>\n",
       "<td>4</td>\n",
       "<td>0.1229066</td>\n",
       "<td>0.1383245</td></tr>\n",
       "<tr><td></td>\n",
       "<td>2017-06-02 10:35:20</td>\n",
       "<td> 0.165 sec</td>\n",
       "<td>0</td>\n",
       "<td>.12E1</td>\n",
       "<td>4</td>\n",
       "<td>0.1155548</td>\n",
       "<td>0.1302545</td></tr>\n",
       "<tr><td></td>\n",
       "<td>2017-06-02 10:35:20</td>\n",
       "<td> 0.221 sec</td>\n",
       "<td>0</td>\n",
       "<td>.11E1</td>\n",
       "<td>4</td>\n",
       "<td>0.1086306</td>\n",
       "<td>0.1226440</td></tr>\n",
       "<tr><td>---</td>\n",
       "<td>---</td>\n",
       "<td>---</td>\n",
       "<td>---</td>\n",
       "<td>---</td>\n",
       "<td>---</td>\n",
       "<td>---</td>\n",
       "<td>---</td></tr>\n",
       "<tr><td></td>\n",
       "<td>2017-06-02 10:35:29</td>\n",
       "<td> 8.486 sec</td>\n",
       "<td>0</td>\n",
       "<td>.17E-1</td>\n",
       "<td>113</td>\n",
       "<td>0.0091227</td>\n",
       "<td>0.0124819</td></tr>\n",
       "<tr><td></td>\n",
       "<td>2017-06-02 10:35:29</td>\n",
       "<td> 8.653 sec</td>\n",
       "<td>0</td>\n",
       "<td>.17E-1</td>\n",
       "<td>112</td>\n",
       "<td>0.0090063</td>\n",
       "<td>0.0124859</td></tr>\n",
       "<tr><td></td>\n",
       "<td>2017-06-02 10:35:29</td>\n",
       "<td> 8.829 sec</td>\n",
       "<td>0</td>\n",
       "<td>.16E-1</td>\n",
       "<td>111</td>\n",
       "<td>0.0088991</td>\n",
       "<td>0.0124833</td></tr>\n",
       "<tr><td></td>\n",
       "<td>2017-06-02 10:35:29</td>\n",
       "<td> 9.004 sec</td>\n",
       "<td>0</td>\n",
       "<td>.15E-1</td>\n",
       "<td>115</td>\n",
       "<td>0.0087968</td>\n",
       "<td>0.0124833</td></tr>\n",
       "<tr><td></td>\n",
       "<td>2017-06-02 10:35:29</td>\n",
       "<td> 9.173 sec</td>\n",
       "<td>0</td>\n",
       "<td>.14E-1</td>\n",
       "<td>118</td>\n",
       "<td>0.0086949</td>\n",
       "<td>0.0124914</td></tr></table></div>"
      ],
      "text/plain": [
       "     timestamp            duration    iteration    lambda    predictors    deviance_train        deviance_test\n",
       "---  -------------------  ----------  -----------  --------  ------------  --------------------  --------------------\n",
       "     2017-06-02 10:35:20  0.000 sec   0            .14E1     3             0.13885641850952252   0.15581202579046693\n",
       "     2017-06-02 10:35:20  0.054 sec   0            .13E1     4             0.13071072186860394   0.14688127325553776\n",
       "     2017-06-02 10:35:20  0.110 sec   0            .13E1     4             0.12290656623615445   0.13832450231386795\n",
       "     2017-06-02 10:35:20  0.165 sec   0            .12E1     4             0.11555484077975373   0.1302545431220052\n",
       "     2017-06-02 10:35:20  0.221 sec   0            .11E1     4             0.10863062246945714   0.12264396107027684\n",
       "---  ---                  ---         ---          ---       ---           ---                   ---\n",
       "     2017-06-02 10:35:29  8.486 sec   0            .17E-1    113           0.009122748426315785  0.012481892250188115\n",
       "     2017-06-02 10:35:29  8.653 sec   0            .17E-1    112           0.009006325421659687  0.012485949875589713\n",
       "     2017-06-02 10:35:29  8.829 sec   0            .16E-1    111           0.00889911305392161   0.012483292769913976\n",
       "     2017-06-02 10:35:29  9.004 sec   0            .15E-1    115           0.008796789238849134  0.012483259761694307\n",
       "     2017-06-02 10:35:29  9.173 sec   0            .14E-1    118           0.008694930804794079  0.01249136617827571"
      ]
     },
     "metadata": {},
     "output_type": "display_data"
    },
    {
     "name": "stdout",
     "output_type": "stream",
     "text": [
      "\n",
      "See the whole table with table.as_data_frame()\n",
      "\n",
      "glm prediction progress: |████████████████████████████████████████████████| 100%\n"
     ]
    },
    {
     "data": {
      "text/html": [
       "<table>\n",
       "<thead>\n",
       "<tr><th style=\"text-align: right;\">  SalePrice</th><th style=\"text-align: right;\">  predict</th></tr>\n",
       "</thead>\n",
       "<tbody>\n",
       "<tr><td style=\"text-align: right;\">    11.8494</td><td style=\"text-align: right;\">  12.0678</td></tr>\n",
       "<tr><td style=\"text-align: right;\">    12.2061</td><td style=\"text-align: right;\">  12.3727</td></tr>\n",
       "<tr><td style=\"text-align: right;\">    11.9117</td><td style=\"text-align: right;\">  12.0015</td></tr>\n",
       "<tr><td style=\"text-align: right;\">    11.9767</td><td style=\"text-align: right;\">  11.9516</td></tr>\n",
       "<tr><td style=\"text-align: right;\">    11.8451</td><td style=\"text-align: right;\">  11.8503</td></tr>\n",
       "<tr><td style=\"text-align: right;\">    11.914 </td><td style=\"text-align: right;\">  11.7571</td></tr>\n",
       "<tr><td style=\"text-align: right;\">    11.8565</td><td style=\"text-align: right;\">  11.7275</td></tr>\n",
       "<tr><td style=\"text-align: right;\">    12.6758</td><td style=\"text-align: right;\">  12.4637</td></tr>\n",
       "<tr><td style=\"text-align: right;\">    12.861 </td><td style=\"text-align: right;\">  12.5652</td></tr>\n",
       "<tr><td style=\"text-align: right;\">    12.1035</td><td style=\"text-align: right;\">  12.1022</td></tr>\n",
       "</tbody>\n",
       "</table>"
      ]
     },
     "metadata": {},
     "output_type": "display_data"
    },
    {
     "name": "stdout",
     "output_type": "stream",
     "text": [
      "\n"
     ]
    },
    {
     "data": {
      "image/png": "[encoded data removed]",
      "text/plain": [
       "<matplotlib.figure.Figure at 0x118321f98>"
      ]
     },
     "metadata": {},
     "output_type": "display_data"
    }
   ],
   "source": [
    "glm3 = glm_grid(encoded_combined_nums + ['predict', 'predict0', 'predict1'], 'SalePrice', stack_train, stack_valid)"
   ]
  },
  {
   "cell_type": "markdown",
   "metadata": {},
   "source": [
    "#### Score test data"
   ]
  },
  {
   "cell_type": "code",
   "execution_count": 25,
   "metadata": {
    "collapsed": false
   },
   "outputs": [
    {
     "name": "stdout",
     "output_type": "stream",
     "text": [
      "glm prediction progress: |████████████████████████████████████████████████| 100%\n"
     ]
    },
    {
     "data": {
      "text/html": [
       "<table>\n",
       "<thead>\n",
       "<tr><th style=\"text-align: right;\">  Id</th><th style=\"text-align: right;\">  predict</th></tr>\n",
       "</thead>\n",
       "<tbody>\n",
       "<tr><td style=\"text-align: right;\">1461</td><td style=\"text-align: right;\">   110945</td></tr>\n",
       "<tr><td style=\"text-align: right;\">1462</td><td style=\"text-align: right;\">   147110</td></tr>\n",
       "<tr><td style=\"text-align: right;\">1463</td><td style=\"text-align: right;\">   163448</td></tr>\n",
       "<tr><td style=\"text-align: right;\">1464</td><td style=\"text-align: right;\">   191425</td></tr>\n",
       "<tr><td style=\"text-align: right;\">1465</td><td style=\"text-align: right;\">   188268</td></tr>\n",
       "<tr><td style=\"text-align: right;\">1466</td><td style=\"text-align: right;\">   165023</td></tr>\n",
       "<tr><td style=\"text-align: right;\">1467</td><td style=\"text-align: right;\">   178919</td></tr>\n",
       "<tr><td style=\"text-align: right;\">1468</td><td style=\"text-align: right;\">   158472</td></tr>\n",
       "<tr><td style=\"text-align: right;\">1469</td><td style=\"text-align: right;\">   185652</td></tr>\n",
       "<tr><td style=\"text-align: right;\">1470</td><td style=\"text-align: right;\">   118627</td></tr>\n",
       "</tbody>\n",
       "</table>"
      ]
     },
     "metadata": {},
     "output_type": "display_data"
    },
    {
     "name": "stdout",
     "output_type": "stream",
     "text": [
      "\n"
     ]
    }
   ],
   "source": [
    "sub = test['Id'].cbind(glm3.predict(test))\n",
    "sub['predict'] = sub['predict'].exp()\n",
    "print(sub.head())"
   ]
  },
  {
   "cell_type": "markdown",
   "metadata": {},
   "source": [
    "#### Create submission"
   ]
  },
  {
   "cell_type": "code",
   "execution_count": 26,
   "metadata": {
    "collapsed": false
   },
   "outputs": [],
   "source": [
    "# create time stamp\n",
    "import re\n",
    "import time\n",
    "time_stamp = re.sub('[: ]', '_', time.asctime())\n",
    "\n",
    "# save file for submission\n",
    "sub.columns = ['Id', 'SalePrice']\n",
    "sub_fname = '../KaggleHousePrices/submission_' + str(time_stamp) + '.csv'\n",
    "h2o.download_csv(sub, sub_fname)"
   ]
  },
  {
   "cell_type": "code",
   "execution_count": 27,
   "metadata": {
    "collapsed": false
   },
   "outputs": [
    {
     "name": "stdout",
     "output_type": "stream",
     "text": [
      "Are you sure you want to shutdown the H2O instance running at http://127.0.0.1:54321 (Y/N)? Y\n",
      "H2O session _sid_ad7f closed.\n"
     ]
    }
   ],
   "source": [
    "# Shutdown H2O - this will erase all your unsaved frames and models in H2O\n",
    "h2o.cluster().shutdown(prompt=True)"
   ]
  },
  {
   "cell_type": "code",
   "execution_count": null,
   "metadata": {
    "collapsed": true
   },
   "outputs": [],
   "source": []
  }
 ],
 "metadata": {
  "anaconda-cloud": {},
  "kernelspec": {
   "display_name": "Python [Root]",
   "language": "python",
   "name": "Python [Root]"
  },
  "language_info": {
   "codemirror_mode": {
    "name": "ipython",
    "version": 3
   },
   "file_extension": ".py",
   "mimetype": "text/x-python",
   "name": "python",
   "nbconvert_exporter": "python",
   "pygments_lexer": "ipython3",
   "version": "3.5.2"
  }
 },
 "nbformat": 4,
 "nbformat_minor": 2
}
